{
 "cells": [
  {
   "cell_type": "markdown",
   "metadata": {
    "pycharm": {
     "name": "#%% md\n"
    }
   },
   "source": [
    "# AutoExtract articleBodyHtml example\n",
    "\n",
    "The [AutoExtract API](https://scrapinghub.com/autoextract) is a service for \n",
    "automatically extracting information from web content. In this notebook\n",
    "we are going to show how is it possible to extract article body content\n",
    "from article pages automatically and specifically we will focus on the features\n",
    "offered by the returned attribute `articleBodyHtml`. \n",
    "\n",
    "Before starting, let's import some stuff that will be needed:"
   ]
  },
  {
   "cell_type": "code",
   "execution_count": 24,
   "metadata": {
    "pycharm": {
     "is_executing": false
    }
   },
   "outputs": [],
   "source": [
    "from datetime import datetime\n",
    "import os\n",
    "import ipywidgets as widgets\n",
    "from IPython.display import display, HTML\n",
    "from autoextract.sync import request_raw\n",
    "from IPython.core.display import HTML\n",
    "from parsel import Selector\n",
    "import html_text"
   ]
  },
  {
   "cell_type": "markdown",
   "metadata": {},
   "source": [
    "Scrapinghub client library ``scrapinghub-autoextract`` brings access to the Articles \n",
    "Extraction API in Python. A key is required to access the service. You can obtain one\n",
    "at [in this page](https://scrapinghub.com/autoextract). The client library will look\n",
    "for this key in the environmental variable ``SCRAPINGHUB_AUTOEXTRACT_KEY`` but **you can\n",
    "also set it in the variable `AUTOEXTRACT_KEY` below and then evaluate the cell**."
   ]
  },
  {
   "cell_type": "code",
   "execution_count": 25,
   "metadata": {
    "pycharm": {
     "is_executing": false,
     "name": "#%%\n"
    }
   },
   "outputs": [],
   "source": [
    "# Set in the variable below your AutoExtract key\n",
    "AUTOEXTRACT_KEY = \"\"\n",
    "\n",
    "if AUTOEXTRACT_KEY:\n",
    "    os.environ['SCRAPINGHUB_AUTOEXTRACT_KEY'] = AUTOEXTRACT_KEY\n",
    "if not os.environ.get('SCRAPINGHUB_AUTOEXTRACT_KEY'):\n",
    "    raise Exception(\"Please, fill the variable 'AUTOEXTRACT_KEY above with your AutoExtract key\")"
   ]
  },
  {
   "cell_type": "markdown",
   "metadata": {
    "pycharm": {
     "is_executing": false,
     "name": "#%% md\n"
    }
   },
   "source": [
    "The method [``request_raw``](https://github.com/scrapinghub/scrapinghub-autoextract#synchronous-api) \n",
    "is the entrypoint to AutoExtract API. Let's define the method ``autoextract_article`` for convenience \n",
    "as:  "
   ]
  },
  {
   "cell_type": "code",
   "execution_count": 26,
   "metadata": {
    "pycharm": {
     "is_executing": false,
     "name": "#%%\n"
    }
   },
   "outputs": [],
   "source": [
    "def autoextract_article(url):\n",
    "    query = [{'url': url, 'pageType': 'article'}]\n",
    "    return request_raw(query)[0]['article']"
   ]
  },
  {
   "cell_type": "markdown",
   "metadata": {
    "pycharm": {
     "name": "#%% md\n"
    }
   },
   "source": [
    "Between the [attributes that are extracted](https://doc.scrapinghub.com/autoextract.html#article-extraction)\n",
    "this notebook will focus in the attribute ``articleBodyHtml``, which contains the simplified, \n",
    "normalized and cleaned up article content in HTML code.\n",
    "\n",
    "Let's see an extraction example for [this page](https://www.independent.ie/sport/soccer/premier-league/man-united-charged-for-failing-to-ensure-players-conducted-themselves-in-an-orderly-fashion-against-liverpool-38881375.html)"
   ]
  },
  {
   "cell_type": "code",
   "execution_count": 27,
   "metadata": {
    "pycharm": {
     "is_executing": false,
     "name": "#%%\n"
    }
   },
   "outputs": [
    {
     "data": {
      "text/html": [
       "<article>\n",
       "\n",
       "<figure data-href=\"https://cdn-04.independent.ie/incoming/2959e/38881376.ece/BINARY/firmmmmmmmmmmmmmmmmmm.jpg\" data-alt=\"Referee Craig Pawson is surrounded by Manchester United players after Liverpool's Roberto Firmino (not pictured) scores, a goal that was eventually ruled out\"><img src=\"https://cdn-03.independent.ie/incoming/2959e/38881376.ece/AUTOCROP/w620/firmmmmmmmmmmmmmmmmmm.jpg\" alt=\"Referee Craig Pawson is surrounded by Manchester United players after Liverpool's Roberto Firmino (not pictured) scores, a goal that was eventually ruled out\" title=\"Referee Craig Pawson is surrounded by Manchester United players after Liverpool's Roberto Firmino (not pictured) scores, a goal that was eventually ruled out\">\n",
       "\n",
       "<figcaption>Referee Craig Pawson is surrounded by Manchester United players after Liverpool's Roberto Firmino (not pictured) scores, a goal that was eventually ruled out</figcaption></figure>\n",
       "\n",
       "<p>Manchester United have been charged by the Football Association for failing to conduct themselves in an orderly fashion during their Premier League defeat against Liverpool on Sunday.</p>\n",
       "\n",
       "<p>United's players surrounded referee Craig Pawson midway through the opening period after Virgil Van Dijk challenged David De Gea.</p>\n",
       "\n",
       "<p>Roberto Firmino subsequently scored, but his goal was chalked off following a VAR review of Van Dijk's clash with the United goalkeeper.</p>\n",
       "\n",
       "<p>United have until Thursday to respond to the charge.</p>\n",
       "\n",
       "<p>PA Media</p>\n",
       "\n",
       "</article>"
      ],
      "text/plain": [
       "<IPython.core.display.HTML object>"
      ]
     },
     "execution_count": 27,
     "metadata": {},
     "output_type": "execute_result"
    }
   ],
   "source": [
    "nfl_article = autoextract_article(\"https://www.independent.ie/sport/soccer/premier-league/man-united-charged-for-failing-to-ensure-players-conducted-themselves-in-an-orderly-fashion-against-liverpool-38881375.html\")\n",
    "HTML(nfl_article['articleBodyHtml'])"
   ]
  },
  {
   "cell_type": "markdown",
   "metadata": {
    "pycharm": {
     "is_executing": false,
     "name": "#%% md\n"
    }
   },
   "source": [
    "Note how only the relevant content of the article was extracted, avoiding elements\n",
    "like ads, unrelated content, etc. AutoExtract relies in advanced machine learning\n",
    "models that are able to discriminate between what is relevant and what is not.  \n",
    "\n",
    "Also note how figures with captions was extracted. Many \n",
    "[other elements can be also present](https://doc.scrapinghub.com/autoextract.html#format-of-articlebodyhtml-field). \n",
    "\n",
    "## Styling\n",
    "\n",
    "Having normalized HTML code has some cool advantages. One is that the content\n",
    "can be formatted independently of the original style with simple CSS rules.\n",
    "That means that the same consistent formatting can be applied even if content is coming\n",
    "from very different pages with different formats.  \n",
    "\n",
    "AutoExtract encapsulates the `articleBodyHtml` content within ``article`` tags. For example:\n",
    "```html\n",
    "<article>\n",
    "    <p>This is a simple article</p>\n",
    "</article>\n",
    "```\n",
    "\n",
    "In order to apply some style rules we are going to add the class `beauty` to `article` tag. \n",
    "The method `show` will take care of that:  "
   ]
  },
  {
   "cell_type": "code",
   "execution_count": 28,
   "metadata": {
    "pycharm": {
     "is_executing": false,
     "name": "#%%\n"
    }
   },
   "outputs": [],
   "source": [
    "def show(article):\n",
    "    return HTML(article['articleBodyHtml'].replace(\"<article>\", \"<article class='beauty'>\"))"
   ]
  },
  {
   "cell_type": "markdown",
   "metadata": {
    "pycharm": {
     "name": "#%% md\n"
    }
   },
   "source": [
    "Now let's create some CSS style rules to be applied for the `beauty` class:  "
   ]
  },
  {
   "cell_type": "code",
   "execution_count": 29,
   "metadata": {
    "pycharm": {
     "is_executing": false,
     "name": "#%%\n"
    }
   },
   "outputs": [
    {
     "data": {
      "text/html": [
       "\n",
       "<style>\n",
       "    .beauty {\n",
       "        font-family: 'Benton Sans', Sans-Serif;\n",
       "        line-height: 23px;\n",
       "        font-size: 17.008px;\n",
       "        font-style: normal;   \n",
       "        background-color: #F9F9F9;\n",
       "        padding: 20px;\n",
       "        border: 0.063rem dotted #D0D0D0;\n",
       "    }\n",
       "    .beauty h2, h3, h4, h5, h6 { \n",
       "        font-family: Majerit, serif;\n",
       "        font-weight: 700;\n",
       "    }\n",
       "    .beauty p { \n",
       "        margin-bottom: 10px;\n",
       "        color: #444;\n",
       "    }\n",
       "    .beauty figcaption {\n",
       "        display: table-caption; \n",
       "        caption-side: bottom;     \n",
       "        border-bottom: 0.063rem dotted #D0D0D0;\n",
       "        margin-bottom: 10px;\n",
       "        line-height: 22px;\n",
       "        font-size: 13px; \n",
       "        color: #646464; \n",
       "        text-align: center;       \n",
       "    }\n",
       "    .beauty figcaption * {\n",
       "        text-align: center;\n",
       "        font-size: 13px; \n",
       "        color: #646464;         \n",
       "    }\n",
       "    .beauty figcaption p { margin-bottom: 0px;}\n",
       "    .beauty figure { \n",
       "        display: table;\n",
       "        margin: 0 auto;\n",
       "    }\n",
       "</style>\n"
      ],
      "text/plain": [
       "<IPython.core.display.HTML object>"
      ]
     },
     "metadata": {},
     "output_type": "display_data"
    }
   ],
   "source": [
    "style = \"\"\"\n",
    "<style>\n",
    "    .beauty {\n",
    "        font-family: 'Benton Sans', Sans-Serif;\n",
    "        line-height: 23px;\n",
    "        font-size: 17.008px;\n",
    "        font-style: normal;   \n",
    "        background-color: #F9F9F9;\n",
    "        padding: 20px;\n",
    "        border: 0.063rem dotted #D0D0D0;\n",
    "    }\n",
    "    .beauty h2, h3, h4, h5, h6 { \n",
    "        font-family: Majerit, serif;\n",
    "        font-weight: 700;\n",
    "    }\n",
    "    .beauty p { \n",
    "        margin-bottom: 10px;\n",
    "        color: #444;\n",
    "    }\n",
    "    .beauty figcaption {\n",
    "        display: table-caption; \n",
    "        caption-side: bottom;     \n",
    "        border-bottom: 0.063rem dotted #D0D0D0;\n",
    "        margin-bottom: 10px;\n",
    "        line-height: 22px;\n",
    "        font-size: 13px; \n",
    "        color: #646464; \n",
    "        text-align: center;       \n",
    "    }\n",
    "    .beauty figcaption * {\n",
    "        text-align: center;\n",
    "        font-size: 13px; \n",
    "        color: #646464;         \n",
    "    }\n",
    "    .beauty figcaption p { margin-bottom: 0px;}\n",
    "    .beauty figure { \n",
    "        display: table;\n",
    "        margin: 0 auto;\n",
    "    }\n",
    "</style>\n",
    "\"\"\"\n",
    "display(HTML(style))"
   ]
  },
  {
   "cell_type": "markdown",
   "metadata": {
    "pycharm": {
     "is_executing": false,
     "name": "#%% md\n"
    }
   },
   "source": [
    "Let's show the article again. It looks better, isn't it?"
   ]
  },
  {
   "cell_type": "code",
   "execution_count": 30,
   "metadata": {
    "pycharm": {
     "is_executing": false,
     "name": "#%%\n"
    }
   },
   "outputs": [
    {
     "data": {
      "text/html": [
       "<article class='beauty'>\n",
       "\n",
       "<figure data-href=\"https://cdn-04.independent.ie/incoming/2959e/38881376.ece/BINARY/firmmmmmmmmmmmmmmmmmm.jpg\" data-alt=\"Referee Craig Pawson is surrounded by Manchester United players after Liverpool's Roberto Firmino (not pictured) scores, a goal that was eventually ruled out\"><img src=\"https://cdn-03.independent.ie/incoming/2959e/38881376.ece/AUTOCROP/w620/firmmmmmmmmmmmmmmmmmm.jpg\" alt=\"Referee Craig Pawson is surrounded by Manchester United players after Liverpool's Roberto Firmino (not pictured) scores, a goal that was eventually ruled out\" title=\"Referee Craig Pawson is surrounded by Manchester United players after Liverpool's Roberto Firmino (not pictured) scores, a goal that was eventually ruled out\">\n",
       "\n",
       "<figcaption>Referee Craig Pawson is surrounded by Manchester United players after Liverpool's Roberto Firmino (not pictured) scores, a goal that was eventually ruled out</figcaption></figure>\n",
       "\n",
       "<p>Manchester United have been charged by the Football Association for failing to conduct themselves in an orderly fashion during their Premier League defeat against Liverpool on Sunday.</p>\n",
       "\n",
       "<p>United's players surrounded referee Craig Pawson midway through the opening period after Virgil Van Dijk challenged David De Gea.</p>\n",
       "\n",
       "<p>Roberto Firmino subsequently scored, but his goal was chalked off following a VAR review of Van Dijk's clash with the United goalkeeper.</p>\n",
       "\n",
       "<p>United have until Thursday to respond to the charge.</p>\n",
       "\n",
       "<p>PA Media</p>\n",
       "\n",
       "</article>"
      ],
      "text/plain": [
       "<IPython.core.display.HTML object>"
      ]
     },
     "execution_count": 30,
     "metadata": {},
     "output_type": "execute_result"
    }
   ],
   "source": [
    "show(nfl_article)"
   ]
  },
  {
   "cell_type": "markdown",
   "metadata": {
    "pycharm": {
     "is_executing": false,
     "name": "#%% md\n"
    }
   },
   "source": [
    "## Tweets and other embeddings\n",
    "\n",
    "Have a look to the following page:"
   ]
  },
  {
   "cell_type": "code",
   "execution_count": 31,
   "metadata": {
    "pycharm": {
     "is_executing": false,
     "name": "#%%\n"
    },
    "scrolled": false
   },
   "outputs": [
    {
     "data": {
      "text/html": [
       "<article class='beauty'>\n",
       "\n",
       "<figure><img src=\"https://cdn.geekwire.com/wp-content/uploads/2016/11/161117-musk-630x386.jpg\" alt=\"Image: Elon Musk\" srcset=\"https://cdn.geekwire.com/wp-content/uploads/2016/11/161117-musk-630x386.jpg 630w, https://cdn.geekwire.com/wp-content/uploads/2016/11/161117-musk-768x471.jpg 768w, https://cdn.geekwire.com/wp-content/uploads/2016/11/161117-musk.jpg 1096w\" sizes=\"(max-width: 630px) 100vw, 630px\"><figcaption>Tesla CEO Elon Musk’s Twitter habit has sparked gyrations in the stock market. (Tesla via YouTube)</figcaption></figure>\n",
       "\n",
       "<p>Tesla CEO Elon Musk is in trouble again with the Securities and Exchange Commission, this time over a 13-word tweet.</p>\n",
       "\n",
       "<p>The SEC filed a motion in federal court on Monday, claiming that a tweet that Musk sent out last week violated the terms of an <a href=\"https://www.geekwire.com/2018/court-filings-elon-musk-resign-tesla-chairman-pay-20m-penalty-sec-settlement/\">agreement aimed at settling a securities fraud case</a> brought last September. After the motion came to light, <a href=\"https://www.cnbc.com/quotes/?symbol=TSLA\">Tesla’s shares</a> lost as much as 5 percent of their $298.77 market-close value in after-hours trading. The price crept back to somewhere around its previous level overnight, however, as traders digested the news.</p>\n",
       "\n",
       "<p>It’s the latest in a series of ups and downs (or, more accurately, “downs and ups”) caused by Musk’s Twitter habit.</p>\n",
       "\n",
       "<p>Under the terms of last year’s agreement, Musk was supposed to have all of his Twitter comments pre-approved by Tesla’s designated representative if they touched upon “information material to the company or its shareholders.”</p>\n",
       "\n",
       "<p>That provision was meant to head off tweets like the one that Musk sent out last August, claiming that he had “funding secured” to take Tesla private even though that wasn’t actually the case. That claim and its aftermath sparked wild gyrations in the market, leading the SEC to open its fraud investigation.</p>\n",
       "\n",
       "<p>The agreement also required Musk to step down from his post as Tesla’s chairman and pay a $20 million fine. Tesla was also fined $20 million, and was forced to appoint two new independent directors to its board.</p>\n",
       "\n",
       "<p>The seeming resolution of the SEC case, plus Tesla’s <a href=\"https://www.geekwire.com/2018/tesla-posts-historic-quarterly-report-positive-net-income-cash-flow/\">profit-generating increase in production for its Model 3 electric car</a>, sent Tesla’s share price as high as $376. But Musk touched off a new round of regulatory trouble on Feb. 19 when he talked about the production outlook for this year:</p>\n",
       "\n",
       "<blockquote class=\"twitter-tweet\" data-conversation=\"none\" data-width=\"550\" data-dnt=\"true\"><p lang=\"en\" dir=\"ltr\">Tesla made 0 cars in 2011, but will make around 500k in 2019</p>\n",
       "<p>— Elon Musk (@elonmusk) <a href=\"https://twitter.com/elonmusk/status/1098013283372589056?ref_src=twsrc%5Etfw\">February 20, 2019</a></p></blockquote>\n",
       "\n",
       "<p>That claim was amended a little more than four hours later:</p>\n",
       "\n",
       "<blockquote class=\"twitter-tweet\" data-conversation=\"none\" data-width=\"550\" data-dnt=\"true\"><p lang=\"en\" dir=\"ltr\">Meant to say annualized production rate at end of 2019 probably around 500k, ie 10k cars/week. Deliveries for year still estimated to be about 400k.</p>\n",
       "<p>— Elon Musk (@elonmusk) <a href=\"https://twitter.com/elonmusk/status/1098080063801585664?ref_src=twsrc%5Etfw\">February 20, 2019</a></p></blockquote>\n",
       "\n",
       "<p>The SEC seized on the initial tweet, and within days investigators were asking Tesla whether the tweet had been pre-approved. In court filings (which Tesla had sought to make confidential), Bradley Bondi, a lawyer for Tesla, acknowledged that the first tweet had not been specifically pre-approved. Instead, it “was intended to recapitulate the information set forth” in forward-looking statements that were made by Tesla and Musk in January, in connection with year-end results.</p>\n",
       "\n",
       "<p>“Mr. Musk believed that the substance had already been appropriately vetted, pre-approved, and publicly disseminated,” Bondi wrote.</p>\n",
       "\n",
       "<p>The substance wasn’t quite the same, though. Back in January, Tesla said it was aiming to hit a <a href=\"http://ir.tesla.com/static-files/0b913415-467d-4c0d-be4c-9225c2cb0ae0\">goal of turning out about 10,000 cars a week sometime between the end of 2019 and the middle of 2020</a>, or an annualized rate of roughly 500,000 a year, assuming that no snags arose in its plans for expansion in China.</p>\n",
       "\n",
       "<p>That’s not exactly what Musk said in the first tweet. Bondi said Tesla’s designated tweet-checkers realized that, and so they hammered out the wording of the second tweet as a clarification.</p>\n",
       "\n",
       "<p>For what it’s worth, on the day after the tweet, Tesla’s general counsel, Dan Butswinkas, <a href=\"https://www.bloomberg.com/news/articles/2019-02-20/tesla-losing-general-counsel-after-two-months-shares-decline\">announced that he was leaving the company</a> after spending only two months on the job. Jonathan Chang, vice president of Tesla’s legal department, took over Butswinkas’ position.</p>\n",
       "\n",
       "<p>The SEC said the fact that Musk didn’t get pre-approval of the wording for the “evidently inaccurate” first tweet was a violation of the agreement. As a result, the SEC is calling on Musk to show cause why he should not be held in contempt of the court’s judgment from last September.</p>\n",
       "\n",
       "<p>“A violation need not be willful in order to find contempt,” the SEC wrote in its motion to U.S. District Court in the Southern District of New York, where the original judgment was filed.</p>\n",
       "\n",
       "<p>The SEC also cited <a href=\"https://www.youtube.com/watch?v=cRNypdYQoWk\">an interview with Musk that aired on CBS’ “60 Minutes” TV show</a> last December as evidence that he wasn’t taking the agreement’s requirements seriously. Back then, Musk acknowledged that none of his tweets had been “censored” since the settlement.</p>\n",
       "\n",
       "<p>“I guess we might make some mistakes,” he told CBS’ Lesley Stahl. “Who knows? … Nobody’s perfect.”</p>\n",
       "\n",
       "<p>Musk went on to say that “I do not respect the SEC … I do not respect them” — but would abide by the settlement “because I respect the justice system.”</p>\n",
       "\n",
       "<p>Now it’s up to the justice system to decide whether to take Musk to task over an ill-turned tweet.</p>\n",
       "\n",
       "<p>U.S. District Judge Alison Nathan gave Musk a March 11 deadline to explain why he shouldn’t be held in contempt. If Nathan rules that the violation is serious enough, Musk could face further limitations on his activity at Tesla … or on Twitter.</p>\n",
       "\n",
       "<p>In a follow-up Twitter exchange, Musk signaled that he intends to stick to his guns:</p>\n",
       "\n",
       "<blockquote class=\"twitter-tweet\" data-conversation=\"none\" data-width=\"550\" data-dnt=\"true\"><p lang=\"en\" dir=\"ltr\">SEC forgot to read Tesla earnings transcript, which clearly states 350k to 500k. How embarrassing … ?</p>\n",
       "<p>— Elon Musk (@elonmusk) <a href=\"https://twitter.com/elonmusk/status/1100215984713957376?ref_src=twsrc%5Etfw\">February 26, 2019</a></p></blockquote>\n",
       "\n",
       "<blockquote class=\"twitter-tweet\" data-conversation=\"none\" data-width=\"550\" data-dnt=\"true\"><p lang=\"en\" dir=\"ltr\">Good thing judges are awesome</p>\n",
       "<p>— Alexandre Andrianov (@alexmd2) <a href=\"https://twitter.com/alexmd2/status/1100216236263292929?ref_src=twsrc%5Etfw\">February 26, 2019</a></p></blockquote>\n",
       "\n",
       "<blockquote class=\"twitter-tweet\" data-conversation=\"none\" data-width=\"550\" data-dnt=\"true\"><p lang=\"en\" dir=\"ltr\">Indeed. I have great respect for judges. It’s not perfect, but, in general, we should be very glad of the US justice system.</p>\n",
       "<p>— Elon Musk (@elonmusk) <a href=\"https://twitter.com/elonmusk/status/1100217156900290561?ref_src=twsrc%5Etfw\">February 26, 2019</a></p></blockquote>\n",
       "\n",
       "<blockquote class=\"twitter-tweet\" data-conversation=\"none\" data-width=\"550\" data-dnt=\"true\"><p lang=\"en\" dir=\"ltr\">Some thoughts: SEC filed for contempt for the court because the Tweet was not pre-filtered despite having potential to move the markets. Even if the tweet did not state anything wrong, it was clearly not pre-filtered and thus the SEC is technically right.</p>\n",
       "<p>— Tesla Para Todos (@TeslaParaTodos) <a href=\"https://twitter.com/TeslaParaTodos/status/1100210012406849537?ref_src=twsrc%5Etfw\">February 26, 2019</a></p></blockquote>\n",
       "\n",
       "<blockquote class=\"twitter-tweet\" data-conversation=\"none\" data-width=\"550\" data-dnt=\"true\"><p lang=\"en\" dir=\"ltr\">But it didn’t move the markets and the SEC complaint did…. where is the enforcement committee that protects the small investor from the SEC Enforcement committee???</p>\n",
       "<p>— Driving Slate (@DrivingSlate) <a href=\"https://twitter.com/DrivingSlate/status/1100370826245812224?ref_src=twsrc%5Etfw\">February 26, 2019</a></p></blockquote>\n",
       "\n",
       "<blockquote class=\"twitter-tweet\" data-conversation=\"none\" data-width=\"550\" data-dnt=\"true\"><p lang=\"en\" dir=\"ltr\">Exactly. This has now happened several times. Something is broken with SEC oversight.</p>\n",
       "<p>— Elon Musk (@elonmusk) <a href=\"https://twitter.com/elonmusk/status/1100371207491248128?ref_src=twsrc%5Etfw\">February 26, 2019</a></p></blockquote>\n",
       "\n",
       "<p>Somehow I’m getting the impression that those tweets aren’t being pre-approved.</p>\n",
       "\n",
       "</article>"
      ],
      "text/plain": [
       "<IPython.core.display.HTML object>"
      ]
     },
     "execution_count": 31,
     "metadata": {},
     "output_type": "execute_result"
    }
   ],
   "source": [
    "musk_article = autoextract_article(\"https://www.geekwire.com/2019/tesla-shares-slump-sec-accuses-ceo-elon-musk-violating-tweet-deal/\")\n",
    "show(musk_article)"
   ]
  },
  {
   "cell_type": "markdown",
   "metadata": {
    "pycharm": {
     "name": "#%% md\n"
    }
   },
   "source": [
    "The page is full of tweets, but the format is not the usual one seen in pages. \n",
    "But don't worry. Everything is ready to get them formatted, all we have to do is to include\n",
    "the [Twitter widgets javascript library](https://developer.twitter.com/en/docs/twitter-for-websites/javascript-api/guides/set-up-twitter-for-websites)\n",
    "into the page. Let's to do it: "
   ]
  },
  {
   "cell_type": "code",
   "execution_count": 41,
   "metadata": {
    "pycharm": {
     "is_executing": false,
     "name": "#%%\n"
    }
   },
   "outputs": [
    {
     "data": {
      "text/html": [
       "<script async src=\"https://platform.twitter.com/widgets.js\" charset=\"utf-8\"></script>"
      ],
      "text/plain": [
       "<IPython.core.display.HTML object>"
      ]
     },
     "metadata": {},
     "output_type": "display_data"
    }
   ],
   "source": [
    "twitter_js = '<script async src=\"https://platform.twitter.com/widgets.js\" charset=\"utf-8\"></script>'\n",
    "display(HTML(twitter_js))"
   ]
  },
  {
   "cell_type": "markdown",
   "metadata": {},
   "source": [
    "Now the tweets in the article are nicely formatted. Facebook and Instagram content\n",
    "can also get formatted by [including its javascript libraries](https://doc.scrapinghub.com/autoextract.html#format-of-articlebodyhtml-field).    \n",
    "\n",
    "But not only that. Other `iframe` based multimedia content like videos, podcasts, maps, etc \n",
    "will also be present and functional in the `articleBodyHtml` attribute.  "
   ]
  },
  {
   "cell_type": "markdown",
   "metadata": {
    "pycharm": {
     "is_executing": false,
     "name": "#%% md\n"
    }
   },
   "source": [
    "## Cherry picking\n",
    "\n",
    "Another advantage of having a normalized structure is that we can pick only the parts\n",
    "we are in interested in.\n",
    "\n",
    "In the following example, we are going to just pick the images\n",
    "from [this article](https://eu.thespectrum.com/story/news/2019/05/02/st-george-ironman-2019-athletes-raise-kidney-disease-awareness/3510491002/)\n",
    "with its corresponding caption to compose an images array. "
   ]
  },
  {
   "cell_type": "code",
   "execution_count": 33,
   "metadata": {
    "pycharm": {
     "is_executing": false,
     "name": "#%%\n"
    }
   },
   "outputs": [],
   "source": [
    "iron_article = autoextract_article(\"https://eu.thespectrum.com/story/news/2019/05/02/st-george-ironman-2019-athletes-raise-kidney-disease-awareness/3510491002/\")"
   ]
  },
  {
   "cell_type": "code",
   "execution_count": 34,
   "metadata": {
    "pycharm": {
     "is_executing": false,
     "name": "#%%\n"
    }
   },
   "outputs": [
    {
     "data": {
      "text/plain": [
       "[{'img_url': 'https://www.gannett-cdn.com/presto/2019/04/30/PSTG/acecc248-6344-41fa-9030-18073f2dccc2-attach.jpg?width=540&height=&fit=bounds&auto=webp',\n",
       "  'caption': 'Melodie Carli races forward on her bike during IRONMAN Copenhagen on Aug. 19, 2018. (Photo: Melodie Carli)'},\n",
       " {'img_url': 'https://www.gannett-cdn.com/presto/2019/04/23/PSTG/907681f6-ff69-45dd-9d3d-ab09b4a8f513-Image-1.png?width=180&height=240&fit=bounds&auto=webp',\n",
       "  'caption': 'Melodie Carli crosses the finish line at the IRONMAN 70.3 Cartagena in Cartagena, Colombia on Dec. 3, 2017. (Photo: Melodie Carli)'},\n",
       " {'img_url': 'https://www.gannett-cdn.com/presto/2019/04/30/PSTG/9c25ef67-8f7f-4828-a98f-6014607b7d7b-IMG_5651.JPG?width=180&height=240&fit=bounds&auto=webp',\n",
       "  'caption': 'Melodie Carli celebrates with her medal after completing IRONMAN 70.3 Colombia on Dec. 3, 2017. (Photo: Melodie Carli)'}]"
      ]
     },
     "execution_count": 34,
     "metadata": {},
     "output_type": "execute_result"
    }
   ],
   "source": [
    "sel = Selector(iron_article['articleBodyHtml'])\n",
    "images = [{'img_url': fig.xpath(\".//img/@src\").get(),\n",
    "           'caption': html_text.selector_to_text(fig.xpath(\"(.//figcaption)\"))} \n",
    "          for fig in sel.xpath(\"//figure\")]\n",
    "images"
   ]
  },
  {
   "cell_type": "markdown",
   "metadata": {
    "pycharm": {
     "name": "#%% md\n"
    }
   },
   "source": [
    "[parsel](https://github.com/scrapy/parsel) and [html-text](https://github.com/TeamHG-Memex/html-text)\n",
    "libraries was used as helpers for the task. `parsel` makes possible to query the content using\n",
    "XPath and CSS expressions and `html-text` converts properly HTML content to raw text.    \n",
    "\n",
    "Note that in the source code of the page in question there is not any `figcaption`\n",
    "tag: AutoExtract machine learning capabilities are able to detect that a particular\n",
    "section of the page is really a figure caption even if they were not annotated with the right\n",
    "HTML tag. Such intelligence is also applied to other elements like `blockquote`. \n",
    "\n",
    "Let's go further. Now we are going to compose a summary page that also \n",
    "includes independent sections for figures and tweets. It is really easy to cherry pick \n",
    "such elements from `articleBodyHtml`. Let's see it applied to the Musk page: "
   ]
  },
  {
   "cell_type": "code",
   "execution_count": 35,
   "metadata": {
    "pycharm": {
     "is_executing": false,
     "name": "#%%\n"
    },
    "scrolled": false
   },
   "outputs": [
    {
     "data": {
      "text/html": [
       "\n",
       "    <article class='beauty'>\n",
       "        <h2>Tesla’s fortunes spin after SEC accuses CEO Elon Musk of violating a tweet deal</h2>\n",
       "        <dl>\n",
       "            <dt>Author</dt>       <dd>Alan Boyle</dd>\n",
       "            <dt>Published</dt>    <dd>2019-02-26</dd>\n",
       "            <dt>Time to read</dt> <dd>7.8 minutes</dd>\n",
       "        </dl>\n",
       "        <h3>First paragraph</h3>\n",
       "        <p>Tesla CEO Elon Musk is in trouble again with the Securities and Exchange Commission, this time over a 13-word tweet.</p>\n",
       "        <h3>Tweets (8)</h3>\n",
       "        <blockquote class=\"twitter-tweet\" data-conversation=\"none\" data-width=\"550\" data-dnt=\"true\"><p lang=\"en\" dir=\"ltr\">Tesla made 0 cars in 2011, but will make around 500k in 2019</p>\n",
       "<p>— Elon Musk (@elonmusk) <a href=\"https://twitter.com/elonmusk/status/1098013283372589056?ref_src=twsrc%5Etfw\">February 20, 2019</a></p></blockquote><blockquote class=\"twitter-tweet\" data-conversation=\"none\" data-width=\"550\" data-dnt=\"true\"><p lang=\"en\" dir=\"ltr\">Meant to say annualized production rate at end of 2019 probably around 500k, ie 10k cars/week. Deliveries for year still estimated to be about 400k.</p>\n",
       "<p>— Elon Musk (@elonmusk) <a href=\"https://twitter.com/elonmusk/status/1098080063801585664?ref_src=twsrc%5Etfw\">February 20, 2019</a></p></blockquote><blockquote class=\"twitter-tweet\" data-conversation=\"none\" data-width=\"550\" data-dnt=\"true\"><p lang=\"en\" dir=\"ltr\">SEC forgot to read Tesla earnings transcript, which clearly states 350k to 500k. How embarrassing … ?</p>\n",
       "<p>— Elon Musk (@elonmusk) <a href=\"https://twitter.com/elonmusk/status/1100215984713957376?ref_src=twsrc%5Etfw\">February 26, 2019</a></p></blockquote><blockquote class=\"twitter-tweet\" data-conversation=\"none\" data-width=\"550\" data-dnt=\"true\"><p lang=\"en\" dir=\"ltr\">Good thing judges are awesome</p>\n",
       "<p>— Alexandre Andrianov (@alexmd2) <a href=\"https://twitter.com/alexmd2/status/1100216236263292929?ref_src=twsrc%5Etfw\">February 26, 2019</a></p></blockquote><blockquote class=\"twitter-tweet\" data-conversation=\"none\" data-width=\"550\" data-dnt=\"true\"><p lang=\"en\" dir=\"ltr\">Indeed. I have great respect for judges. It’s not perfect, but, in general, we should be very glad of the US justice system.</p>\n",
       "<p>— Elon Musk (@elonmusk) <a href=\"https://twitter.com/elonmusk/status/1100217156900290561?ref_src=twsrc%5Etfw\">February 26, 2019</a></p></blockquote><blockquote class=\"twitter-tweet\" data-conversation=\"none\" data-width=\"550\" data-dnt=\"true\"><p lang=\"en\" dir=\"ltr\">Some thoughts: SEC filed for contempt for the court because the Tweet was not pre-filtered despite having potential to move the markets. Even if the tweet did not state anything wrong, it was clearly not pre-filtered and thus the SEC is technically right.</p>\n",
       "<p>— Tesla Para Todos (@TeslaParaTodos) <a href=\"https://twitter.com/TeslaParaTodos/status/1100210012406849537?ref_src=twsrc%5Etfw\">February 26, 2019</a></p></blockquote><blockquote class=\"twitter-tweet\" data-conversation=\"none\" data-width=\"550\" data-dnt=\"true\"><p lang=\"en\" dir=\"ltr\">But it didn’t move the markets and the SEC complaint did…. where is the enforcement committee that protects the small investor from the SEC Enforcement committee???</p>\n",
       "<p>— Driving Slate (@DrivingSlate) <a href=\"https://twitter.com/DrivingSlate/status/1100370826245812224?ref_src=twsrc%5Etfw\">February 26, 2019</a></p></blockquote><blockquote class=\"twitter-tweet\" data-conversation=\"none\" data-width=\"550\" data-dnt=\"true\"><p lang=\"en\" dir=\"ltr\">Exactly. This has now happened several times. Something is broken with SEC oversight.</p>\n",
       "<p>— Elon Musk (@elonmusk) <a href=\"https://twitter.com/elonmusk/status/1100371207491248128?ref_src=twsrc%5Etfw\">February 26, 2019</a></p></blockquote>\n",
       "        <h3>Figures (1)</h3>\n",
       "        <figure><img src=\"https://cdn.geekwire.com/wp-content/uploads/2016/11/161117-musk-630x386.jpg\" alt=\"Image: Elon Musk\" srcset=\"https://cdn.geekwire.com/wp-content/uploads/2016/11/161117-musk-630x386.jpg 630w, https://cdn.geekwire.com/wp-content/uploads/2016/11/161117-musk-768x471.jpg 768w, https://cdn.geekwire.com/wp-content/uploads/2016/11/161117-musk.jpg 1096w\" sizes=\"(max-width: 630px) 100vw, 630px\"><figcaption>Tesla CEO Elon Musk’s Twitter habit has sparked gyrations in the stock market. (Tesla via YouTube)</figcaption></figure>\n",
       "    </article>\n",
       "    "
      ],
      "text/plain": [
       "<IPython.core.display.HTML object>"
      ]
     },
     "execution_count": 35,
     "metadata": {},
     "output_type": "execute_result"
    }
   ],
   "source": [
    "sel = Selector(musk_article['articleBodyHtml']) \n",
    "only_tweets = sel.css(\".twitter-tweet\")\n",
    "only_figures = sel.css(\"figure\")\n",
    "HTML(\n",
    "    f\"\"\"\n",
    "    <article class='beauty'>\n",
    "        <h2>{musk_article['headline']}</h2>\n",
    "        <dl>\n",
    "            <dt>Author</dt>       <dd>{musk_article['author']}</dd>\n",
    "            <dt>Published</dt>    <dd>{musk_article['datePublished'][:10]}</dd>\n",
    "            <dt>Time to read</dt> <dd>{len(musk_article['articleBody'].split()) / 130:.1f} minutes</dd>\n",
    "        </dl>\n",
    "        <h3>First paragraph</h3>\n",
    "        {sel.css(\"article > p\").get()}\n",
    "        <h3>Tweets ({len(only_tweets)})</h3>\n",
    "        {\"\".join(only_tweets.getall())}\n",
    "        <h3>Figures ({len(only_figures)})</h3>\n",
    "        {\"\".join(only_figures.getall())}\n",
    "    </article>\n",
    "    \"\"\"\n",
    ")"
   ]
  },
  {
   "cell_type": "markdown",
   "metadata": {},
   "source": [
    "The normalized HTML brings thus flexibility to adapt the article content to your\n",
    "own purposes: you might decide to exclude figure captions, or exclude multimedia content from \n",
    "iframes, or show figures in a separated carousel for example.\n",
    "\n",
    "Heading levels are also normalized. It can be handy to automatically extract \n",
    "\"table of contents\" for `articleBodyHtml`. The function `print_toc` presented below\n",
    "print the table of content of an article extracted by AutoExtract."
   ]
  },
  {
   "cell_type": "code",
   "execution_count": 36,
   "metadata": {
    "pycharm": {
     "is_executing": false,
     "name": "#%%\n"
    }
   },
   "outputs": [],
   "source": [
    "def print_toc(html):  \n",
    "    for section in Selector(html).css(\"h2,h3,h4,h5,h6\"):\n",
    "        level = int(section.root.tag[-1]) - 2\n",
    "        print(f\"{'  ' * level}{section.css('::text').get()}\")"
   ]
  },
  {
   "cell_type": "markdown",
   "metadata": {},
   "source": [
    "Let's try it with [this article](http://cs231n.github.io/neural-networks-1/):"
   ]
  },
  {
   "cell_type": "code",
   "execution_count": 37,
   "metadata": {
    "pycharm": {
     "is_executing": false,
     "name": "#%%\n"
    }
   },
   "outputs": [
    {
     "name": "stdout",
     "output_type": "stream",
     "text": [
      "Quick intro\n",
      "Modeling one neuron\n",
      "  Biological motivation and connections\n",
      "  Single neuron as a linear classifier\n",
      "  Commonly used activation functions\n",
      "Neural Network architectures\n",
      "  Layer-wise organization\n",
      "  Example feed-forward computation\n",
      "  Representational power\n",
      "  Setting number of layers and their sizes\n",
      "Summary\n"
     ]
    }
   ],
   "source": [
    "article_toc = autoextract_article(\"http://cs231n.github.io/neural-networks-1/\")        \n",
    "print_toc(article_toc['articleBodyHtml'])"
   ]
  },
  {
   "cell_type": "markdown",
   "metadata": {
    "pycharm": {
     "name": "#%% md\n"
    }
   },
   "source": [
    "### Removing pull quotes\n",
    "[Pull quotes](https://en.wikipedia.org/wiki/Pull_quote) are being used very often in\n",
    "articles these days. A pull quote is an excerpt of the article content which is \n",
    "highlighted with a different format. A pair or examples\n",
    "can be seen in [this page](https://www.vox.com/the-highlight/2020/1/15/20863236/chris-hughes-break-up-facebook-economic-security-basic-income-new-republic). \n",
    "\n",
    "Pull quotes are a nice formatting element, but if we are converting the document\n",
    "to plain text is better if we strip them to have a cleaner text. We are going to do so\n",
    "here for the mentioned page.    \n",
    "\n",
    "Note that AutoExtract detect quotes in the articles using machine learning techniques returning\n",
    "them in `articleBodyHtml` under `blockquote` tags. "
   ]
  },
  {
   "cell_type": "code",
   "execution_count": 38,
   "metadata": {
    "pycharm": {
     "is_executing": false,
     "name": "#%%\n"
    }
   },
   "outputs": [],
   "source": [
    "chris_article = autoextract_article(\"https://www.vox.com/the-highlight/2020/1/15/20863236/chris-hughes-break-up-facebook-economic-security-basic-income-new-republic\")"
   ]
  },
  {
   "cell_type": "code",
   "execution_count": 49,
   "metadata": {
    "pycharm": {
     "is_executing": false,
     "name": "#%%\n"
    }
   },
   "outputs": [
    {
     "name": "stdout",
     "output_type": "stream",
     "text": [
      "Pull quote 0:\n",
      "------------------\n",
      "“I haven’t heard from Mark. That’s what everybody asks.”\n",
      "\n",
      "Pull quote 1:\n",
      "------------------\n",
      "“I guess I thought I was gonna go up into some ivory tower and read enough books, and then I was gonna come down [with the answer].”\n",
      "\n"
     ]
    }
   ],
   "source": [
    "# articleBody is the article in text format and it is also including all quotes \n",
    "# detected in the text. Some minimun normalization is done over the text.\n",
    "normalize = lambda text: text.lower().replace('\"', '').strip()\n",
    "full_text = normalize(chris_article['articleBody'])\n",
    "\n",
    "# Now let's iterate over all `bloquote` tags\n",
    "sel = Selector(chris_article['articleBodyHtml'])\n",
    "pull_quotes = []\n",
    "for blockquote in sel.css(\"blockquote\"):\n",
    "    # bq_text contains the quote text\n",
    "    bq_text = normalize(html_text.selector_to_text(blockquote))\n",
    "    # The quote is a pull quote if the quote text was already in the full text \n",
    "    if bq_text in full_text:\n",
    "        pull_quotes.append(blockquote)\n",
    "        \n",
    "# Let's show found pull quotes\n",
    "for idx, quote in enumerate(pull_quotes):\n",
    "    print(f\"Pull quote {idx}:\")\n",
    "    print(\"------------------\")\n",
    "    print(html_text.selector_to_text(quote))\n",
    "    print()"
   ]
  },
  {
   "cell_type": "markdown",
   "metadata": {},
   "source": [
    "Finally we can obtain the full text but with pull quotes stripped:"
   ]
  },
  {
   "cell_type": "code",
   "execution_count": 50,
   "metadata": {
    "pycharm": {
     "is_executing": false,
     "name": "#%% \n"
    }
   },
   "outputs": [
    {
     "name": "stdout",
     "output_type": "stream",
     "text": [
      "Part of Issue #10 of The Highlight, our home for ambitious stories that explain our world.\n",
      "\n",
      "Chris Hughes was enraged.\n",
      "\n",
      "The Facebook co-founder and I were leaving the Union Square subway station in Manhattan, which last fall was covered in ads for Twitter. The ads inside the station were one thing, but Hughes was seething that the campaign had extended outside, to the sidewalk.\n",
      "\n",
      "“They stenciled it on — as though they haven’t colonized enough of our lives!” he kvetched, leading me out of our way t\n"
     ]
    }
   ],
   "source": [
    "for quote in pull_quotes:\n",
    "    quote.root.drop_tree()\n",
    "    \n",
    "cleaned_text = html_text.selector_to_text(sel)\n",
    "print(cleaned_text[:500])"
   ]
  },
  {
   "cell_type": "code",
   "execution_count": 51,
   "metadata": {},
   "outputs": [
    {
     "data": {
      "text/plain": [
       "True"
      ]
     },
     "execution_count": 51,
     "metadata": {},
     "output_type": "execute_result"
    }
   ],
   "source": [
    "\"haven’t heard from Mark\" in cleaned_text"
   ]
  },
  {
   "cell_type": "markdown",
   "metadata": {
    "pycharm": {
     "name": "#%% md\n"
    }
   },
   "source": [
    "## Try it yourself\n",
    "\n",
    "Now is the moment to try it yourself. Set the `url` variable below and execute the cell\n",
    "to see the results of autoextract on it:"
   ]
  },
  {
   "cell_type": "code",
   "execution_count": null,
   "metadata": {
    "pycharm": {
     "is_executing": false,
     "name": "#%%\n"
    }
   },
   "outputs": [],
   "source": [
    "url = \"https://www.vox.com/policy-and-politics/2020/1/17/21046874/netherlands-universal-health-insurance-private\"\n",
    "\n",
    "article = autoextract_article(url)\n",
    "show(article)"
   ]
  }
 ],
 "metadata": {
  "kernelspec": {
   "display_name": "Python 3",
   "language": "python",
   "name": "python3"
  },
  "language_info": {
   "codemirror_mode": {
    "name": "ipython",
    "version": 3
   },
   "file_extension": ".py",
   "mimetype": "text/x-python",
   "name": "python",
   "nbconvert_exporter": "python",
   "pygments_lexer": "ipython3",
   "version": "3.6.9"
  },
  "pycharm": {
   "stem_cell": {
    "cell_type": "raw",
    "metadata": {
     "collapsed": false
    },
    "source": []
   }
  }
 },
 "nbformat": 4,
 "nbformat_minor": 4
}
