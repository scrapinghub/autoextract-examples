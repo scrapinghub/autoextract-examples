{
 "cells": [
  {
   "cell_type": "code",
   "execution_count": 21,
   "metadata": {
    "pycharm": {
     "is_executing": false
    }
   },
   "outputs": [],
   "source": [
    "from datetime import datetime\n",
    "import os\n",
    "import ipywidgets as widgets\n",
    "from IPython.display import display, HTML\n",
    "from autoextract.sync import request_raw\n",
    "from IPython.core.display import HTML"
   ]
  },
  {
   "cell_type": "markdown",
   "source": [
    "# AutoExtract articleBodyHtml example\n",
    "\n",
    "blblablab\n",
    "\n",
    "Scrapinghub client library ``scrapinghub-autoextract`` brings access to the Articles \n",
    "Extraction API in Python. A key is required to access the service. You can obtain one\n",
    "at [in this page](https://scrapinghub.com/autoextract). The client library will look\n",
    "for this key in the environmental variable ``SCRAPINGHUB_AUTOEXTRACT_KEY`` but can\n",
    "also set it in the text box below and press enter. \n",
    " "
   ],
   "metadata": {
    "collapsed": false,
    "pycharm": {
     "name": "#%% md\n"
    }
   }
  },
  {
   "cell_type": "code",
   "execution_count": 29,
   "outputs": [
    {
     "data": {
      "text/plain": "HBox(children=(Label(value='AutoExtract key:'), Text(value='', layout=Layout(width='400px'), placeholder='Fill…",
      "application/vnd.jupyter.widget-view+json": {
       "version_major": 2,
       "version_minor": 0,
       "model_id": "f6cabbed5bd046a19031aaa00c8b67d2"
      }
     },
     "metadata": {},
     "output_type": "display_data"
    }
   ],
   "source": [
    "def set_key(event):\n",
    "    os.environ['SCRAPINGHUB_AUTOEXTRACT_KEY'] = event.value\n",
    "    print(f\"New key set at {datetime.now()}\")\n",
    "    \n",
    "key = widgets.Text(placeholder='Fill with your AutoExtract key', layout={'width': '400px'})\n",
    "key.on_submit(set_key)\n",
    "display(widgets.HBox([widgets.Label(\"AutoExtract key:\"), key]))"
   ],
   "metadata": {
    "collapsed": false,
    "pycharm": {
     "name": "#%%\n",
     "is_executing": false
    }
   }
  },
  {
   "cell_type": "markdown",
   "source": [
    "The method [``request_raw``](https://github.com/scrapinghub/scrapinghub-autoextract#synchronous-api) \n",
    "is the entrypoint to AutoExtract API. Let's define the method ``autoextract_article`` for convenience \n",
    "as:  "
   ],
   "metadata": {
    "collapsed": false,
    "pycharm": {
     "name": "#%% md\n",
     "is_executing": false
    }
   }
  },
  {
   "cell_type": "code",
   "execution_count": null,
   "outputs": [],
   "source": [
    "def autoextract_article(url):\n",
    "    query = [{'url': url, 'pageType': 'article'}]\n",
    "    return request_raw(query)[0]['article']"
   ],
   "metadata": {
    "collapsed": false,
    "pycharm": {
     "name": "#%%\n"
    }
   }
  },
  {
   "cell_type": "markdown",
   "source": [
    "Between the [attributes that are extracted](https://doc.scrapinghub.com/autoextract.html#article-extraction)\n",
    "this notebook will focus in the attribute ``articleBodyHtml``, which contains the simplified, \n",
    "normalized and cleaned up article content in HTML code.\n",
    "\n",
    "Let's see an extraction example for [this page](https://www.independent.ie/sport/soccer/premier-league/man-united-charged-for-failing-to-ensure-players-conducted-themselves-in-an-orderly-fashion-against-liverpool-38881375.html)"
   ],
   "metadata": {
    "collapsed": false,
    "pycharm": {
     "name": "#%% md\n"
    }
   }
  },
  {
   "cell_type": "code",
   "execution_count": 38,
   "outputs": [
    {
     "data": {
      "text/plain": "<IPython.core.display.HTML object>",
      "text/html": "<unformatted_article>\n\n<figure data-href=\"https://cdn-04.independent.ie/incoming/2959e/38881376.ece/BINARY/firmmmmmmmmmmmmmmmmmm.jpg\" data-alt=\"Referee Craig Pawson is surrounded by Manchester United players after Liverpool's Roberto Firmino (not pictured) scores, a goal that was eventually ruled out\"><img src=\"https://cdn-03.independent.ie/incoming/2959e/38881376.ece/AUTOCROP/w620/firmmmmmmmmmmmmmmmmmm.jpg\" alt=\"Referee Craig Pawson is surrounded by Manchester United players after Liverpool's Roberto Firmino (not pictured) scores, a goal that was eventually ruled out\" title=\"Referee Craig Pawson is surrounded by Manchester United players after Liverpool's Roberto Firmino (not pictured) scores, a goal that was eventually ruled out\">\n\n<figcaption>Referee Craig Pawson is surrounded by Manchester United players after Liverpool's Roberto Firmino (not pictured) scores, a goal that was eventually ruled out</figcaption></figure>\n\n<p>January 21 2020 9:13 AM</p>\n\n<p>Manchester United have been charged by the Football Association for failing to conduct themselves in an orderly fashion during their Premier League defeat against Liverpool on Sunday.</p>\n\n<p>United's players surrounded referee Craig Pawson midway through the opening period after Virgil Van Dijk challenged David De Gea.</p>\n\n<p>Roberto Firmino subsequently scored, but his goal was chalked off following a VAR review of Van Dijk's clash with the United goalkeeper.</p>\n\n<p>United have until Thursday to respond to the charge.</p>\n\n</unformatted_article>"
     },
     "metadata": {},
     "output_type": "execute_result",
     "execution_count": 38
    }
   ],
   "source": [
    "nfl_art = autoextract_article(\"https://www.independent.ie/sport/soccer/premier-league/man-united-charged-for-failing-to-ensure-players-conducted-themselves-in-an-orderly-fashion-against-liverpool-38881375.html\")\n",
    "HTML(nfl_art['articleBodyHtml'].replace(\"article\", \"unformatted_article\"))"
   ],
   "metadata": {
    "collapsed": false,
    "pycharm": {
     "name": "#%%\n",
     "is_executing": false
    }
   }
  },
  {
   "cell_type": "markdown",
   "source": [
    "Note how only the relevant content of the article was extracted, avoiding elements\n",
    "like ads, unrelated content, etc. AutoExtract relies in advanced machine learning\n",
    "models that are able to discriminate between what is relevant and what is not.  \n",
    "\n",
    "Also note how figures with captions was extracted. Many \n",
    "[other elements can be also present](https://doc.scrapinghub.com/autoextract.html#format-of-articlebodyhtml-field). \n",
    "\n",
    "Having normalized HTML code has some cool advantages. One is that the content\n",
    "can be formatted independently of the source with simple CSS rules.   "
   ],
   "metadata": {
    "collapsed": false,
    "pycharm": {
     "name": "#%% md\n",
     "is_executing": false
    }
   }
  },
  {
   "cell_type": "code",
   "execution_count": 40,
   "outputs": [
    {
     "data": {
      "text/plain": "<IPython.core.display.HTML object>",
      "text/html": "<style>unformatted_article figcaption { color: red;}</style>"
     },
     "metadata": {},
     "output_type": "execute_result",
     "execution_count": 40
    }
   ],
   "source": [
    "HTML(\"<style>unformatted_article figcaption { color: red;}</style>\")"
   ],
   "metadata": {
    "collapsed": false,
    "pycharm": {
     "name": "#%%\n",
     "is_executing": false
    }
   }
  },
  {
   "cell_type": "code",
   "execution_count": null,
   "outputs": [],
   "source": [
    "def show(article, style): \n",
    "    return HTML(style + article['articleBodyHtml'])"
   ],
   "metadata": {
    "collapsed": false,
    "pycharm": {
     "name": "#%%\n"
    }
   }
  },
  {
   "cell_type": "code",
   "execution_count": 28,
   "metadata": {
    "pycharm": {
     "is_executing": false,
     "name": "#%%\n"
    }
   },
   "outputs": [],
   "source": [
    "url = \"https://www.cnet.com/news/elon-musks-top-10-weirdest-tweets-of-2019/\"\n",
    "#url = \"https://www.vox.com/policy-and-politics/2020/1/17/21046874/netherlands-universal-health-insurance-private\"\n",
    "\n",
    "\n",
    "article = autoextract_article(url)"
   ]
  },
  {
   "cell_type": "code",
   "execution_count": 125,
   "metadata": {
    "pycharm": {
     "is_executing": false,
     "name": "#%%\n"
    },
    "scrolled": false
   },
   "outputs": [
    {
     "data": {
      "text/plain": "<IPython.core.display.HTML object>",
      "text/html": "<article>\n\n<figure><img src=\"https://cnet2.cbsistatic.com/img/l32cbKMgyai5SFN7zuqtP7QEWsI=/1092x0/2019/12/15/71f4408f-b4c7-4ecd-bfea-6f6151e9a3d9/gettyimages-1130598318.jpg\" alt=\"gettyimages-1130598318\"><figcaption><p>Things got weird with Elon Musk on Twitter this year.</p>\n                                                    Frederic J. Brown/AFP via Getty Images\n                                                </figcaption></figure>\n\n<p><a href=\"https://www.cnet.com/tags/elon-musk/\" data-annotation=\"true\" data-component=\"linkTracker\" data-link-tracker-options='{\"action\":\"inline-annotation|Elon Musk|CNET_TAG|360\"}'>Elon Musk</a> is pretty free with the tweeting -- sometimes too much so. The <a href=\"https://www.cnet.com/roadshow/make/tesla/\" data-annotation=\"true\" data-component=\"linkTracker\" data-link-tracker-options='{\"action\":\"inline-annotation|Tesla|CNET_TAG|150\"}'>Tesla</a> and <a href=\"https://www.cnet.com/news/spacex-guide-to-elon-musk-space-company/\" data-annotation=\"true\" data-component=\"linkTracker\" data-link-tracker-options='{\"action\":\"inline-annotation|SpaceX|CNET_EVERGREEN|150\"}'>SpaceX</a> CEO called British cave diver Vernon Unsworth a \"pedo guy\" in a 2018 tweet, and that <a href=\"https://www.cnet.com/news/elon-musk-apparently-doesnt-know-how-much-hes-worth/\">brought him into court in a defamation case</a>. (Musk was found <a href=\"https://www.cbsnews.com/news/elon-musk-pedo-guy-tweet-did-not-defame-brit-jury-rules/\">not liable for damages</a> on Dec. 6.) And don't forget the<a href=\"https://twitter.com/elonmusk/status/1026872652290379776\"> infamous 2018 tweet</a> where he mused he might take Tesla private, which led to the SEC <a href=\"https://www.cnet.com/news/sec-sues-elon-musk-seeks-his-removal-from-tesla/\">filing a lawsuit against him</a> (it was <a href=\"https://www.cnet.com/news/teslas-elon-musk-settles-with-sec-is-out-as-board-chairman-will-pay-20-million/\">later settled</a> and he had to pay $20 million -- pricey tweet).</p>\n\n<p>But Musk's less serious tweets garner attention, too. Sometimes, it's almost hard to believe a billionaire businessman is the one behind the keyboard. He retweets memes and <a href=\"https://twitter.com/elonmusk/status/1102350927271346176\">jams to Bob Marley</a>. He makes <a href=\"https://twitter.com/elonmusk/status/1173872132880662528\">Star Wars references</a> and ruminates on <a href=\"https://twitter.com/elonmusk/status/1113536956007211008\">multi-colored squirrels</a>. He responds to regular Joe tweeters and pokes fun at his fellow moguls (<a href=\"https://twitter.com/elonmusk/status/1126686813840535552\">Jeff Bezos</a>, for one). Sometimes he's funny, sometimes he's sharp-tongued. But don't think for a moment he doesn't know what he's doing. In 2018, Musk <a href=\"https://www.cbsnews.com/news/tesla-ceo-elon-musk-the-2018-60-minutes-interview/\">told Lesley Stahl of 60 Minutes</a> that \"Twitter's a war zone. If somebody's gonna jump in the war zone, it's, like, 'OK, you're in the arena. Let's go!'\"</p>\n\n<p>\"I was always crazy on Twitter fyi,\" he wrote in April, following up with, \"My Twitter is pretty much complete nonsense at this point.\"</p>\n\n<figure><blockquote data-conversation=\"none\"><p dir=\"ltr\">I was always crazy on Twitter fyi</p>— Elon Musk (@elonmusk) <a href=\"https://twitter.com/elonmusk/status/1117641451008081922?ref_src=twsrc%5Etfw\">April 15, 2019</a></blockquote></figure>\n\n<figure><blockquote><p dir=\"ltr\">My Twitter is pretty much complete nonsense at this point</p>— Elon Musk (@elonmusk) <a href=\"https://twitter.com/elonmusk/status/1119093220544147457?ref_src=twsrc%5Etfw\">April 19, 2019</a></blockquote></figure>\n\n<p>Musk may be the founder of The Boring Company, but he himself is never boring. Here's a look back at 10 memorable tweets Musk sent in 2019.</p>\n\n<h2>Baby Yoda love</h2>\n\n<figure><blockquote><p dir=\"ltr\">Baby Yoda 💕 <a href=\"https://t.co/jpQvCccHb9\">pic.twitter.com/jpQvCccHb9</a></p>— Elon Musk (@elonmusk) <a href=\"https://twitter.com/elonmusk/status/1205415857897164800?ref_src=twsrc%5Etfw\">December 13, 2019</a></blockquote></figure>\n\n<p>Like the rest of us, Musk loves <a href=\"https://www.cnet.com/news/who-or-what-is-baby-yoda-in-the-mandalorian-our-wildest-theories-so-far/\">Baby Yoda</a> from <a href=\"https://www.cnet.com/news/the-mandalorian-everything-we-know-about-the-new-star-wars-show-on-disney-plus/\">The Mandalorian</a>, and he's not afraid to share memes about it. This one was liked more than 461,000 times in less than a day.</p>\n\n<h2>Life as a video game</h2>\n\n<p>\"If life is a video game, the graphics are great, but the plot is confusing &amp; the tutorial is way too long,\" Musk mused on Thursday. He's not wrong! But the question remains: Is the game more like The Sims, or straight-up Doom?</p>\n\n<figure><blockquote><p dir=\"ltr\">If life is a video game, the graphics are great, but the plot is confusing &amp; the tutorial is way too long</p>— Elon Musk (@elonmusk) <a href=\"https://twitter.com/elonmusk/status/1205030950750412800?ref_src=twsrc%5Etfw\">December 12, 2019</a></blockquote></figure>\n\n<h2>Nuke Mars!</h2>\n\n<figure><blockquote><p dir=\"ltr\">Nuke Mars!</p>— Elon Musk (@elonmusk) <a href=\"https://twitter.com/elonmusk/status/1162218267932446724?ref_src=twsrc%5Etfw\">August 16, 2019</a></blockquote></figure>\n\n<p>In 2015, Musk <a href=\"https://www.cnn.com/2015/09/11/us/elon-musk-mars-nuclear-bomb-colbert-feat/index.html\">appeared on The Late Show With Stephen Colbert</a> and suggested \"warming up\" the Red Planet by dropping thermonuclear weapons on its poles. Colbert thought that made Musk sound like a supervillain, and maybe he's right, but Musk re-iterated the sentiment in August 2019. SpaceX now sells <a href=\"https://shop.spacex.com/products/nuke-mars-t-shirt\">\"Nuke Mars\" T-shirts</a>, too.</p>\n\n<h2>Go metric</h2>\n\n<figure><blockquote><p dir=\"ltr\">Some secrets are too dangerous to be free <a href=\"https://t.co/g547UdmiJ7\">pic.twitter.com/g547UdmiJ7</a></p>— Elon Musk (@elonmusk) <a href=\"https://twitter.com/elonmusk/status/1176530527290941441?ref_src=twsrc%5Etfw\">September 24, 2019</a></blockquote></figure>\n\n<p>America tried, limply, to go metric in the 1970s, but it didn't work out. Musk reminded us we're kind of alone on this nonsensical hill.</p>\n\n<h2>Rhymes with orange</h2>\n\n<figure><blockquote><p dir=\"ltr\">the color orange is named after the fruit</p>— Elon Musk (@elonmusk) <a href=\"https://twitter.com/elonmusk/status/1181837097444896768?ref_src=twsrc%5Etfw\">October 9, 2019</a></blockquote></figure>\n\n<p>The best Musk tweets are the random Shower Thoughts tweets, such as \"the color orange is named after the fruit.\" But he doesn't just drop it and run -- when a reader tried to say that nothing rhymes with orange, Musk countered with, \"door hinge.\"</p>\n\n<figure><blockquote data-conversation=\"none\"><p dir=\"ltr\">Door hinge</p>— Elon Musk (@elonmusk) <a href=\"https://twitter.com/elonmusk/status/1181837821855711232?ref_src=twsrc%5Etfw\">October 9, 2019</a></blockquote></figure>\n\n<h2>Flagged down</h2>\n\n<p>Not that many billionaires take interest in the eerily similar flags of Chad and Romania, but that's why Musk makes the big bucks.</p>\n\n<figure><blockquote><p dir=\"ltr\">Why aren’t more people talking about this!? <a href=\"https://t.co/iUFIBcDQrp\">pic.twitter.com/iUFIBcDQrp</a></p>— Elon Musk (@elonmusk) <a href=\"https://twitter.com/elonmusk/status/1170888470052499456?ref_src=twsrc%5Etfw\">September 9, 2019</a></blockquote></figure>\n\n<h2>Elon Musk-ular</h2>\n\n<figure><blockquote><p dir=\"ltr\">Yeah, I lift a little … <a href=\"https://t.co/UAJdv8qSw1\">pic.twitter.com/UAJdv8qSw1</a></p>— Elon Musk (@elonmusk) <a href=\"https://twitter.com/elonmusk/status/1103221573127827456?ref_src=twsrc%5Etfw\">March 6, 2019</a></blockquote></figure>\n\n<p>Long before Donald Trump was <a href=\"https://www.cnet.com/news/trump-tweets-his-head-atop-shirtless-rocky-body-jokes-get-a-workout/\">Trump tweets photo of his head atop shirtless Rocky body, jokes fly</a>, Musk was morphing into Dwayne \"The Rock\" Johnson. Makes Teslas? This version of Musk could pick up a Tesla and carry it around one-handed.</p>\n\n<h2>Tesla blows</h2>\n\n<p>After tweeting that \"Tesla is going to develop a quiet, electric leafblower,\" Musk thought of a joke on his own company and couldn't resist sharing it. \"Tesla blows haha,\" he wrote. Good one, Beavis!</p>\n\n<figure><blockquote data-conversation=\"none\"><p dir=\"ltr\">Tesla blows haha</p>— Elon Musk (@elonmusk) <a href=\"https://twitter.com/elonmusk/status/1120842338836725760?ref_src=twsrc%5Etfw\">April 24, 2019</a></blockquote></figure>\n\n<h2>Cheers</h2>\n\n<p>\"Technically, alcohol is a solution,\" Musk tweeted in July.</p>\n\n<figure><blockquote><p dir=\"ltr\">Technically, alcohol is a solution</p>— Elon Musk (@elonmusk) <a href=\"https://twitter.com/elonmusk/status/1153078534916587520?ref_src=twsrc%5Etfw\">July 21, 2019</a></blockquote></figure>\n\n<p>It's not an original joke from him (he admitted spotting it on a T-shirt), but fans drank it up, retweeting it 176,000 times and liking it 631,000 times.</p>\n\n<h2>Brainiac in The Matrix</h2>\n\n<p>\"We are literally a brain in a vat. The vat is your skull. Everything you think is real is an electrical signal. Feels so real though,\" Musk tweeted on Dec. 12. It's hard not to imagine this being said while Musk was taking a <a href=\"https://www.cnet.com/news/reaction-to-elon-musk-smoking-pot-is-serious-snarky/\">Joe Rogan podcast style-marijuana puff,</a> but there it is.</p>\n\n<figure><blockquote><p dir=\"ltr\">We are literally a brain in a vat. The vat is your skull. Everything you think is real is an electrical signal. Feels so real though.</p>— Elon Musk (@elonmusk) <a href=\"https://twitter.com/elonmusk/status/1205232388978003968?ref_src=twsrc%5Etfw\">December 12, 2019</a></blockquote></figure>\n\n</article>"
     },
     "metadata": {},
     "output_type": "execute_result",
     "execution_count": 125
    }
   ],
   "source": [
    "style = \"\"\"\n",
    "<style>\n",
    "    article {\n",
    "        font-family: 'Benton Sans', Sans-Serif;\n",
    "        line-height: 23px;\n",
    "        font-size: 17.008px;\n",
    "        font-style: normal;        \n",
    "    }\n",
    "    article h2, h3, h4, h5, h6 { \n",
    "        font-family: Majerit, serif;\n",
    "        font-weight: 700;\n",
    "    }\n",
    "    article p { \n",
    "        margin-bottom: 10px;\n",
    "        color: #444;\n",
    "    }\n",
    "    article figcaption {\n",
    "        display: table-caption; \n",
    "        caption-side: bottom;     \n",
    "        border-bottom: 0.063rem dotted #D0D0D0;\n",
    "        margin-bottom: 10px;\n",
    "        line-height: 22px;\n",
    "        font-size: 13px; \n",
    "        color: #646464; \n",
    "        text-align: center;       \n",
    "    }\n",
    "    article figcaption * {\n",
    "        text-align: center;\n",
    "        font-size: 13px; \n",
    "        color: #646464;         \n",
    "    }\n",
    "    article figcaption p { margin-bottom: 0px;}\n",
    "    article figure { \n",
    "        display: table; \n",
    "        margin-bottom: 30px;\n",
    "    }\n",
    "</style>\n",
    "\"\"\"\n",
    "#style =\"\"\n",
    "#show(article, style)\n",
    "show2(article, style)\n",
    "#display.HTML(style +  \" <article><h2>hola</h2></article>\")"
   ]
  },
  {
   "cell_type": "code",
   "execution_count": null,
   "outputs": [],
   "source": [
    "twitter_js = \"\"\"\n",
    "<script>window.twttr = (function(d, s, id) {\n",
    "  var js, fjs = d.getElementsByTagName(s)[0],\n",
    "    t = window.twttr || {};\n",
    "  if (d.getElementById(id)) return t;\n",
    "  js = d.createElement(s);\n",
    "  js.id = id;\n",
    "  js.src = \"https://platform.twitter.com/widgets.js\";\n",
    "  fjs.parentNode.insertBefore(js, fjs);\n",
    "\n",
    "  t._e = [];\n",
    "  t.ready = function(f) {\n",
    "    t._e.push(f);\n",
    "  };\n",
    "\n",
    "  return t;\n",
    "}(document, \"script\", \"twitter-wjs\"));</script>\n",
    "\"\"\"\n",
    "\n"
   ],
   "metadata": {
    "collapsed": false,
    "pycharm": {
     "name": "#%%\n"
    }
   }
  },
  {
   "cell_type": "code",
   "execution_count": null,
   "metadata": {},
   "outputs": [],
   "source": []
  }
 ],
 "metadata": {
  "kernelspec": {
   "display_name": "Python 3",
   "language": "python",
   "name": "python3"
  },
  "language_info": {
   "codemirror_mode": {
    "name": "ipython",
    "version": 3
   },
   "file_extension": ".py",
   "mimetype": "text/x-python",
   "name": "python",
   "nbconvert_exporter": "python",
   "pygments_lexer": "ipython3",
   "version": "3.6.9"
  },
  "pycharm": {
   "stem_cell": {
    "cell_type": "raw",
    "source": [],
    "metadata": {
     "collapsed": false
    }
   }
  }
 },
 "nbformat": 4,
 "nbformat_minor": 1
}