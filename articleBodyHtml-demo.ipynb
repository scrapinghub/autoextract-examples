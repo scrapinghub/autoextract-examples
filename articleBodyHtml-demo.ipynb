{
 "cells": [
  {
   "cell_type": "code",
   "execution_count": 2,
   "metadata": {
    "pycharm": {
     "is_executing": false
    }
   },
   "outputs": [],
   "source": [
    "from datetime import datetime\n",
    "import os\n",
    "import ipywidgets as widgets\n",
    "from IPython.display import display, HTML\n",
    "from autoextract.sync import request_raw\n",
    "from IPython.core.display import HTML\n",
    "from parsel import Selector\n",
    "import html_text"
   ]
  },
  {
   "cell_type": "markdown",
   "metadata": {
    "pycharm": {
     "name": "#%% md\n"
    }
   },
   "source": [
    "# AutoExtract articleBodyHtml example\n",
    "\n",
    "The [AutoExtract API](https://scrapinghub.com/autoextract) is a service for \n",
    "automatically extracting information from web content. In this notebook\n",
    "we are going to show how is it possible to extract article body content\n",
    "from article pages automatically and specifically we will focus on the features\n",
    "offered by the returned attribute `articleBodyHtml`. \n",
    "\n",
    "Scrapinghub client library ``scrapinghub-autoextract`` brings access to the Articles \n",
    "Extraction API in Python. A key is required to access the service. You can obtain one\n",
    "at [in this page](https://scrapinghub.com/autoextract). The client library will look\n",
    "for this key in the environmental variable ``SCRAPINGHUB_AUTOEXTRACT_KEY`` but **you can\n",
    "also set it in the text box below and press enter**. "
   ]
  },
  {
   "cell_type": "code",
   "execution_count": null,
   "outputs": [],
   "source": [
    "def set_key(event):\n",
    "    os.environ['SCRAPINGHUB_AUTOEXTRACT_KEY'] = event.value\n",
    "    print(f\"New key set at {datetime.now()}\")\n",
    "    \n",
    "key = widgets.Text(placeholder='Fill with your AutoExtract key', layout={'width': '400px'})\n",
    "key.on_submit(set_key)\n",
    "display(widgets.HBox([widgets.Label(\"AutoExtract key:\"), key]))"
   ],
   "metadata": {
    "collapsed": false,
    "pycharm": {
     "name": "#%%\n"
    }
   }
  },
  {
   "cell_type": "markdown",
   "metadata": {
    "pycharm": {
     "is_executing": false,
     "name": "#%% md\n"
    }
   },
   "source": [
    "The method [``request_raw``](https://github.com/scrapinghub/scrapinghub-autoextract#synchronous-api) \n",
    "is the entrypoint to AutoExtract API. Let's define the method ``autoextract_article`` for convenience \n",
    "as:  "
   ]
  },
  {
   "cell_type": "code",
   "execution_count": 4,
   "metadata": {
    "pycharm": {
     "is_executing": false,
     "name": "#%%\n"
    }
   },
   "outputs": [],
   "source": [
    "def autoextract_article(url):\n",
    "    query = [{'url': url, 'pageType': 'article'}]\n",
    "    return request_raw(query)[0]['article']"
   ]
  },
  {
   "cell_type": "markdown",
   "metadata": {
    "pycharm": {
     "name": "#%% md\n"
    }
   },
   "source": [
    "Between the [attributes that are extracted](https://doc.scrapinghub.com/autoextract.html#article-extraction)\n",
    "this notebook will focus in the attribute ``articleBodyHtml``, which contains the simplified, \n",
    "normalized and cleaned up article content in HTML code.\n",
    "\n",
    "Let's see an extraction example for [this page](https://www.independent.ie/sport/soccer/premier-league/man-united-charged-for-failing-to-ensure-players-conducted-themselves-in-an-orderly-fashion-against-liverpool-38881375.html)"
   ]
  },
  {
   "cell_type": "code",
   "execution_count": 5,
   "metadata": {
    "pycharm": {
     "is_executing": false,
     "name": "#%%\n"
    }
   },
   "outputs": [
    {
     "traceback": [
      "\u001b[0;31m---------------------------------------------------------------------------\u001b[0m",
      "\u001b[0;31mKeyError\u001b[0m                                  Traceback (most recent call last)",
      "\u001b[0;32m~/Documentos/scrapinghub/dev/articleBodyHTML-demo-venv/lib/python3.6/site-packages/autoextract/apikey.py\u001b[0m in \u001b[0;36mget_apikey\u001b[0;34m(key)\u001b[0m\n\u001b[1;32m     16\u001b[0m     \u001b[0;32mtry\u001b[0m\u001b[0;34m:\u001b[0m\u001b[0;34m\u001b[0m\u001b[0;34m\u001b[0m\u001b[0m\n\u001b[0;32m---> 17\u001b[0;31m         \u001b[0;32mreturn\u001b[0m \u001b[0mos\u001b[0m\u001b[0;34m.\u001b[0m\u001b[0menviron\u001b[0m\u001b[0;34m[\u001b[0m\u001b[0mENV_VARIABLE\u001b[0m\u001b[0;34m]\u001b[0m\u001b[0;34m\u001b[0m\u001b[0;34m\u001b[0m\u001b[0m\n\u001b[0m\u001b[1;32m     18\u001b[0m     \u001b[0;32mexcept\u001b[0m \u001b[0mKeyError\u001b[0m\u001b[0;34m:\u001b[0m\u001b[0;34m\u001b[0m\u001b[0;34m\u001b[0m\u001b[0m\n",
      "\u001b[0;32m~/Documentos/scrapinghub/dev/articleBodyHTML-demo-venv/lib/python3.6/os.py\u001b[0m in \u001b[0;36m__getitem__\u001b[0;34m(self, key)\u001b[0m\n\u001b[1;32m    668\u001b[0m             \u001b[0;31m# raise KeyError with the original key value\u001b[0m\u001b[0;34m\u001b[0m\u001b[0;34m\u001b[0m\u001b[0;34m\u001b[0m\u001b[0m\n\u001b[0;32m--> 669\u001b[0;31m             \u001b[0;32mraise\u001b[0m \u001b[0mKeyError\u001b[0m\u001b[0;34m(\u001b[0m\u001b[0mkey\u001b[0m\u001b[0;34m)\u001b[0m \u001b[0;32mfrom\u001b[0m \u001b[0;32mNone\u001b[0m\u001b[0;34m\u001b[0m\u001b[0;34m\u001b[0m\u001b[0m\n\u001b[0m\u001b[1;32m    670\u001b[0m         \u001b[0;32mreturn\u001b[0m \u001b[0mself\u001b[0m\u001b[0;34m.\u001b[0m\u001b[0mdecodevalue\u001b[0m\u001b[0;34m(\u001b[0m\u001b[0mvalue\u001b[0m\u001b[0;34m)\u001b[0m\u001b[0;34m\u001b[0m\u001b[0;34m\u001b[0m\u001b[0m\n",
      "\u001b[0;31mKeyError\u001b[0m: 'SCRAPINGHUB_AUTOEXTRACT_KEY'",
      "\nDuring handling of the above exception, another exception occurred:\n",
      "\u001b[0;31mNoApiKey\u001b[0m                                  Traceback (most recent call last)",
      "\u001b[0;32m<ipython-input-5-ad44182c857b>\u001b[0m in \u001b[0;36m<module>\u001b[0;34m\u001b[0m\n\u001b[0;32m----> 1\u001b[0;31m \u001b[0mnfl_article\u001b[0m \u001b[0;34m=\u001b[0m \u001b[0mautoextract_article\u001b[0m\u001b[0;34m(\u001b[0m\u001b[0;34m\"https://www.independent.ie/sport/soccer/premier-league/man-united-charged-for-failing-to-ensure-players-conducted-themselves-in-an-orderly-fashion-against-liverpool-38881375.html\"\u001b[0m\u001b[0;34m)\u001b[0m\u001b[0;34m\u001b[0m\u001b[0;34m\u001b[0m\u001b[0m\n\u001b[0m\u001b[1;32m      2\u001b[0m \u001b[0mHTML\u001b[0m\u001b[0;34m(\u001b[0m\u001b[0mnfl_article\u001b[0m\u001b[0;34m[\u001b[0m\u001b[0;34m'articleBodyHtml'\u001b[0m\u001b[0;34m]\u001b[0m\u001b[0;34m)\u001b[0m\u001b[0;34m\u001b[0m\u001b[0;34m\u001b[0m\u001b[0m\n\u001b[1;32m      3\u001b[0m \u001b[0;34m\u001b[0m\u001b[0m\n",
      "\u001b[0;32m<ipython-input-4-6b3ac86aaf16>\u001b[0m in \u001b[0;36mautoextract_article\u001b[0;34m(url)\u001b[0m\n\u001b[1;32m      1\u001b[0m \u001b[0;32mdef\u001b[0m \u001b[0mautoextract_article\u001b[0m\u001b[0;34m(\u001b[0m\u001b[0murl\u001b[0m\u001b[0;34m)\u001b[0m\u001b[0;34m:\u001b[0m\u001b[0;34m\u001b[0m\u001b[0;34m\u001b[0m\u001b[0m\n\u001b[1;32m      2\u001b[0m     \u001b[0mquery\u001b[0m \u001b[0;34m=\u001b[0m \u001b[0;34m[\u001b[0m\u001b[0;34m{\u001b[0m\u001b[0;34m'url'\u001b[0m\u001b[0;34m:\u001b[0m \u001b[0murl\u001b[0m\u001b[0;34m,\u001b[0m \u001b[0;34m'pageType'\u001b[0m\u001b[0;34m:\u001b[0m \u001b[0;34m'article'\u001b[0m\u001b[0;34m}\u001b[0m\u001b[0;34m]\u001b[0m\u001b[0;34m\u001b[0m\u001b[0;34m\u001b[0m\u001b[0m\n\u001b[0;32m----> 3\u001b[0;31m     \u001b[0;32mreturn\u001b[0m \u001b[0mrequest_raw\u001b[0m\u001b[0;34m(\u001b[0m\u001b[0mquery\u001b[0m\u001b[0;34m)\u001b[0m\u001b[0;34m[\u001b[0m\u001b[0;36m0\u001b[0m\u001b[0;34m]\u001b[0m\u001b[0;34m[\u001b[0m\u001b[0;34m'article'\u001b[0m\u001b[0;34m]\u001b[0m\u001b[0;34m\u001b[0m\u001b[0;34m\u001b[0m\u001b[0m\n\u001b[0m\u001b[1;32m      4\u001b[0m \u001b[0;34m\u001b[0m\u001b[0m\n",
      "\u001b[0;32m~/Documentos/scrapinghub/dev/articleBodyHTML-demo-venv/lib/python3.6/site-packages/autoextract/sync.py\u001b[0m in \u001b[0;36mrequest_raw\u001b[0;34m(query, api_key, endpoint)\u001b[0m\n\u001b[1;32m     21\u001b[0m     \u001b[0;34m(\u001b[0m\u001b[0msee\u001b[0m \u001b[0mhttps\u001b[0m\u001b[0;34m:\u001b[0m\u001b[0;34m//\u001b[0m\u001b[0mdoc\u001b[0m\u001b[0;34m.\u001b[0m\u001b[0mscrapinghub\u001b[0m\u001b[0;34m.\u001b[0m\u001b[0mcom\u001b[0m\u001b[0;34m/\u001b[0m\u001b[0mautoextract\u001b[0m\u001b[0;34m.\u001b[0m\u001b[0mhtml\u001b[0m\u001b[0;34m)\u001b[0m\u001b[0;34m.\u001b[0m\u001b[0;34m\u001b[0m\u001b[0;34m\u001b[0m\u001b[0m\n\u001b[1;32m     22\u001b[0m     \"\"\"\n\u001b[0;32m---> 23\u001b[0;31m     \u001b[0mauth\u001b[0m \u001b[0;34m=\u001b[0m \u001b[0;34m(\u001b[0m\u001b[0mget_apikey\u001b[0m\u001b[0;34m(\u001b[0m\u001b[0mapi_key\u001b[0m\u001b[0;34m)\u001b[0m\u001b[0;34m,\u001b[0m \u001b[0;34m''\u001b[0m\u001b[0;34m)\u001b[0m\u001b[0;34m\u001b[0m\u001b[0;34m\u001b[0m\u001b[0m\n\u001b[0m\u001b[1;32m     24\u001b[0m     \u001b[0mtimeout\u001b[0m \u001b[0;34m=\u001b[0m \u001b[0mAPI_TIMEOUT\u001b[0m \u001b[0;34m+\u001b[0m \u001b[0;36m60\u001b[0m\u001b[0;34m\u001b[0m\u001b[0;34m\u001b[0m\u001b[0m\n\u001b[1;32m     25\u001b[0m     \u001b[0mresp\u001b[0m \u001b[0;34m=\u001b[0m \u001b[0mrequests\u001b[0m\u001b[0;34m.\u001b[0m\u001b[0mpost\u001b[0m\u001b[0;34m(\u001b[0m\u001b[0mendpoint\u001b[0m\u001b[0;34m,\u001b[0m \u001b[0mjson\u001b[0m\u001b[0;34m=\u001b[0m\u001b[0mquery\u001b[0m\u001b[0;34m,\u001b[0m \u001b[0mauth\u001b[0m\u001b[0;34m=\u001b[0m\u001b[0mauth\u001b[0m\u001b[0;34m,\u001b[0m \u001b[0mtimeout\u001b[0m\u001b[0;34m=\u001b[0m\u001b[0mtimeout\u001b[0m\u001b[0;34m)\u001b[0m\u001b[0;34m\u001b[0m\u001b[0;34m\u001b[0m\u001b[0m\n",
      "\u001b[0;32m~/Documentos/scrapinghub/dev/articleBodyHTML-demo-venv/lib/python3.6/site-packages/autoextract/apikey.py\u001b[0m in \u001b[0;36mget_apikey\u001b[0;34m(key)\u001b[0m\n\u001b[1;32m     18\u001b[0m     \u001b[0;32mexcept\u001b[0m \u001b[0mKeyError\u001b[0m\u001b[0;34m:\u001b[0m\u001b[0;34m\u001b[0m\u001b[0;34m\u001b[0m\u001b[0m\n\u001b[1;32m     19\u001b[0m         raise NoApiKey(\"API key not found. Please set {} \"\n\u001b[0;32m---> 20\u001b[0;31m                        \"environment variable or pass\".format(ENV_VARIABLE))\n\u001b[0m",
      "\u001b[0;31mNoApiKey\u001b[0m: API key not found. Please set SCRAPINGHUB_AUTOEXTRACT_KEY environment variable or pass"
     ],
     "ename": "NoApiKey",
     "evalue": "API key not found. Please set SCRAPINGHUB_AUTOEXTRACT_KEY environment variable or pass",
     "output_type": "error"
    }
   ],
   "source": [
    "nfl_article = autoextract_article(\"https://www.independent.ie/sport/soccer/premier-league/man-united-charged-for-failing-to-ensure-players-conducted-themselves-in-an-orderly-fashion-against-liverpool-38881375.html\")\n",
    "HTML(nfl_article['articleBodyHtml'])"
   ]
  },
  {
   "cell_type": "markdown",
   "metadata": {
    "pycharm": {
     "is_executing": false,
     "name": "#%% md\n"
    }
   },
   "source": [
    "Note how only the relevant content of the article was extracted, avoiding elements\n",
    "like ads, unrelated content, etc. AutoExtract relies in advanced machine learning\n",
    "models that are able to discriminate between what is relevant and what is not.  \n",
    "\n",
    "Also note how figures with captions was extracted. Many \n",
    "[other elements can be also present](https://doc.scrapinghub.com/autoextract.html#format-of-articlebodyhtml-field). \n",
    "\n",
    "## Styling\n",
    "\n",
    "Having normalized HTML code has some cool advantages. One is that the content\n",
    "can be formatted independently of the original style with simple CSS rules.\n",
    "That means that the same consistent formatting can be applied even if content is coming\n",
    "from very different pages with different formats.  \n",
    "\n",
    "AutoExtract encapsulates the `articleBodyHtml` content within ``article`` tags. For example:\n",
    "```html\n",
    "<article>\n",
    "    <p>This is a simple article</p>\n",
    "</article>\n",
    "```\n",
    "\n",
    "In order to apply some style rules we are going to add the class `beauty` to `article` tag. \n",
    "The method `show` will take care of that:  "
   ]
  },
  {
   "cell_type": "code",
   "execution_count": 8,
   "metadata": {
    "pycharm": {
     "is_executing": false,
     "name": "#%%\n"
    }
   },
   "outputs": [],
   "source": [
    "def show(article):\n",
    "    return HTML(article['articleBodyHtml'].replace(\"<article>\", \"<article class='beauty'>\"))"
   ]
  },
  {
   "cell_type": "markdown",
   "metadata": {
    "pycharm": {
     "name": "#%% md\n"
    }
   },
   "source": [
    "Now let's create some CSS style rules to be applied for the `beauty` class:  "
   ]
  },
  {
   "cell_type": "code",
   "execution_count": 9,
   "metadata": {
    "pycharm": {
     "is_executing": false,
     "name": "#%%\n"
    }
   },
   "outputs": [
    {
     "data": {
      "text/plain": "<IPython.core.display.HTML object>",
      "text/html": "\n<style>\n    .beauty {\n        font-family: 'Benton Sans', Sans-Serif;\n        line-height: 23px;\n        font-size: 17.008px;\n        font-style: normal;   \n        background-color: #F9F9F9;\n        padding: 20px;\n    }\n    .beauty h2, h3, h4, h5, h6 { \n        font-family: Majerit, serif;\n        font-weight: 700;\n    }\n    .beauty p { \n        margin-bottom: 10px;\n        color: #444;\n    }\n    .beauty figcaption {\n        display: table-caption; \n        caption-side: bottom;     \n        border-bottom: 0.063rem dotted #D0D0D0;\n        margin-bottom: 10px;\n        line-height: 22px;\n        font-size: 13px; \n        color: #646464; \n        text-align: center;       \n    }\n    .beauty figcaption * {\n        text-align: center;\n        font-size: 13px; \n        color: #646464;         \n    }\n    .beauty figcaption p { margin-bottom: 0px;}\n    .beauty figure { \n        display: table;\n        margin: 0 auto;\n    }\n</style>\n"
     },
     "metadata": {},
     "output_type": "display_data"
    }
   ],
   "source": [
    "style = \"\"\"\n",
    "<style>\n",
    "    .beauty {\n",
    "        font-family: 'Benton Sans', Sans-Serif;\n",
    "        line-height: 23px;\n",
    "        font-size: 17.008px;\n",
    "        font-style: normal;   \n",
    "        background-color: #F9F9F9;\n",
    "        padding: 20px;\n",
    "    }\n",
    "    .beauty h2, h3, h4, h5, h6 { \n",
    "        font-family: Majerit, serif;\n",
    "        font-weight: 700;\n",
    "    }\n",
    "    .beauty p { \n",
    "        margin-bottom: 10px;\n",
    "        color: #444;\n",
    "    }\n",
    "    .beauty figcaption {\n",
    "        display: table-caption; \n",
    "        caption-side: bottom;     \n",
    "        border-bottom: 0.063rem dotted #D0D0D0;\n",
    "        margin-bottom: 10px;\n",
    "        line-height: 22px;\n",
    "        font-size: 13px; \n",
    "        color: #646464; \n",
    "        text-align: center;       \n",
    "    }\n",
    "    .beauty figcaption * {\n",
    "        text-align: center;\n",
    "        font-size: 13px; \n",
    "        color: #646464;         \n",
    "    }\n",
    "    .beauty figcaption p { margin-bottom: 0px;}\n",
    "    .beauty figure { \n",
    "        display: table;\n",
    "        margin: 0 auto;\n",
    "    }\n",
    "</style>\n",
    "\"\"\"\n",
    "display(HTML(style))"
   ]
  },
  {
   "cell_type": "markdown",
   "metadata": {
    "pycharm": {
     "is_executing": false,
     "name": "#%% md\n"
    }
   },
   "source": [
    "Let's show the article again. It looks better, isn't it?"
   ]
  },
  {
   "cell_type": "code",
   "execution_count": 54,
   "metadata": {
    "pycharm": {
     "is_executing": false,
     "name": "#%%\n"
    }
   },
   "outputs": [
    {
     "data": {
      "text/html": [
       "<article class='beauty'>\n",
       "\n",
       "<figure data-href=\"https://cdn-04.independent.ie/incoming/2959e/38881376.ece/BINARY/firmmmmmmmmmmmmmmmmmm.jpg\" data-alt=\"Referee Craig Pawson is surrounded by Manchester United players after Liverpool's Roberto Firmino (not pictured) scores, a goal that was eventually ruled out\"><img src=\"https://cdn-03.independent.ie/incoming/2959e/38881376.ece/AUTOCROP/w620/firmmmmmmmmmmmmmmmmmm.jpg\" alt=\"Referee Craig Pawson is surrounded by Manchester United players after Liverpool's Roberto Firmino (not pictured) scores, a goal that was eventually ruled out\" title=\"Referee Craig Pawson is surrounded by Manchester United players after Liverpool's Roberto Firmino (not pictured) scores, a goal that was eventually ruled out\">\n",
       "\n",
       "<figcaption>Referee Craig Pawson is surrounded by Manchester United players after Liverpool's Roberto Firmino (not pictured) scores, a goal that was eventually ruled out</figcaption></figure>\n",
       "\n",
       "<p>Manchester United have been charged by the Football Association for failing to conduct themselves in an orderly fashion during their Premier League defeat against Liverpool on Sunday.</p>\n",
       "\n",
       "<p>United's players surrounded referee Craig Pawson midway through the opening period after Virgil Van Dijk challenged David De Gea.</p>\n",
       "\n",
       "<p>Roberto Firmino subsequently scored, but his goal was chalked off following a VAR review of Van Dijk's clash with the United goalkeeper.</p>\n",
       "\n",
       "<p>United have until Thursday to respond to the charge.</p>\n",
       "\n",
       "<p>PA Media</p>\n",
       "\n",
       "<p><a href=\"https://twitter.com/IndoSport\" data-show-count=\"false\">Follow @IndoSport</a></p>\n",
       "\n",
       "</article>"
      ],
      "text/plain": [
       "<IPython.core.display.HTML object>"
      ]
     },
     "execution_count": 54,
     "metadata": {},
     "output_type": "execute_result"
    }
   ],
   "source": [
    "show(nfl_article)"
   ]
  },
  {
   "cell_type": "markdown",
   "metadata": {
    "pycharm": {
     "is_executing": false,
     "name": "#%% md\n"
    },
    "scrolled": false
   },
   "source": [
    "## Tweets and other embeddings\n",
    "\n",
    "Have a look to the following page:"
   ]
  },
  {
   "cell_type": "code",
   "execution_count": 66,
   "outputs": [
    {
     "data": {
      "text/plain": "<IPython.core.display.HTML object>",
      "text/html": "<article class='beauty'>\n\n<figure><img src=\"https://cnet2.cbsistatic.com/img/l32cbKMgyai5SFN7zuqtP7QEWsI=/1092x0/2019/12/15/71f4408f-b4c7-4ecd-bfea-6f6151e9a3d9/gettyimages-1130598318.jpg\" alt=\"gettyimages-1130598318\"><figcaption><p>Things got weird with Elon Musk on Twitter this year.</p>\n                                                    Frederic J. Brown/AFP via Getty Images\n                                                </figcaption></figure>\n\n<p><a href=\"https://www.cnet.com/tags/elon-musk/\" data-annotation=\"true\" data-component=\"linkTracker\" data-link-tracker-options='{\"action\":\"inline-annotation|Elon Musk|CNET_TAG|360\"}'>Elon Musk</a> is pretty free with the tweeting -- sometimes too much so. The <a href=\"https://www.cnet.com/roadshow/make/tesla/\" data-annotation=\"true\" data-component=\"linkTracker\" data-link-tracker-options='{\"action\":\"inline-annotation|Tesla|CNET_TAG|150\"}'>Tesla</a> and <a href=\"https://www.cnet.com/news/spacex-guide-to-elon-musk-space-company/\" data-annotation=\"true\" data-component=\"linkTracker\" data-link-tracker-options='{\"action\":\"inline-annotation|SpaceX|CNET_EVERGREEN|150\"}'>SpaceX</a> CEO called British cave diver Vernon Unsworth a \"pedo guy\" in a 2018 tweet, and that <a href=\"https://www.cnet.com/news/elon-musk-apparently-doesnt-know-how-much-hes-worth/\">brought him into court in a defamation case</a>. (Musk was found <a href=\"https://www.cbsnews.com/news/elon-musk-pedo-guy-tweet-did-not-defame-brit-jury-rules/\">not liable for damages</a> on Dec. 6.) And don't forget the<a href=\"https://twitter.com/elonmusk/status/1026872652290379776\"> infamous 2018 tweet</a> where he mused he might take Tesla private, which led to the SEC <a href=\"https://www.cnet.com/news/sec-sues-elon-musk-seeks-his-removal-from-tesla/\">filing a lawsuit against him</a> (it was <a href=\"https://www.cnet.com/news/teslas-elon-musk-settles-with-sec-is-out-as-board-chairman-will-pay-20-million/\">later settled</a> and he had to pay $20 million -- pricey tweet).</p>\n\n<p>But Musk's less serious tweets garner attention, too. Sometimes, it's almost hard to believe a billionaire businessman is the one behind the keyboard. He retweets memes and <a href=\"https://twitter.com/elonmusk/status/1102350927271346176\">jams to Bob Marley</a>. He makes <a href=\"https://twitter.com/elonmusk/status/1173872132880662528\">Star Wars references</a> and ruminates on <a href=\"https://twitter.com/elonmusk/status/1113536956007211008\">multi-colored squirrels</a>. He responds to regular Joe tweeters and pokes fun at his fellow moguls (<a href=\"https://twitter.com/elonmusk/status/1126686813840535552\">Jeff Bezos</a>, for one). Sometimes he's funny, sometimes he's sharp-tongued. But don't think for a moment he doesn't know what he's doing. In 2018, Musk <a href=\"https://www.cbsnews.com/news/tesla-ceo-elon-musk-the-2018-60-minutes-interview/\">told Lesley Stahl of 60 Minutes</a> that \"Twitter's a war zone. If somebody's gonna jump in the war zone, it's, like, 'OK, you're in the arena. Let's go!'\"</p>\n\n<p>\"I was always crazy on Twitter fyi,\" he wrote in April, following up with, \"My Twitter is pretty much complete nonsense at this point.\"</p>\n\n<figure><blockquote class=\"twitter-tweet\" data-conversation=\"none\"><p lang=\"en\" dir=\"ltr\">I was always crazy on Twitter fyi</p>— Elon Musk (@elonmusk) <a href=\"https://twitter.com/elonmusk/status/1117641451008081922?ref_src=twsrc%5Etfw\" rel=\"noopener noreferrer\" target=\"_blank\">April 15, 2019</a></blockquote></figure>\n\n<figure><blockquote class=\"twitter-tweet\"><p lang=\"en\" dir=\"ltr\">My Twitter is pretty much complete nonsense at this point</p>— Elon Musk (@elonmusk) <a href=\"https://twitter.com/elonmusk/status/1119093220544147457?ref_src=twsrc%5Etfw\" rel=\"noopener noreferrer\" target=\"_blank\">April 19, 2019</a></blockquote></figure>\n\n<p>Musk may be the founder of The Boring Company, but he himself is never boring. Here's a look back at 10 memorable tweets Musk sent in 2019.</p>\n\n<h2>Baby Yoda love</h2>\n\n<figure><blockquote class=\"twitter-tweet\"><p lang=\"en\" dir=\"ltr\">Baby Yoda 💕 <a href=\"https://t.co/jpQvCccHb9\" rel=\"noopener noreferrer nofollow\" target=\"_blank\">pic.twitter.com/jpQvCccHb9</a></p>— Elon Musk (@elonmusk) <a href=\"https://twitter.com/elonmusk/status/1205415857897164800?ref_src=twsrc%5Etfw\" rel=\"noopener noreferrer\" target=\"_blank\">December 13, 2019</a></blockquote></figure>\n\n<p>Like the rest of us, Musk loves <a href=\"https://www.cnet.com/news/who-or-what-is-baby-yoda-in-the-mandalorian-our-wildest-theories-so-far/\">Baby Yoda</a> from <a href=\"https://www.cnet.com/news/the-mandalorian-everything-we-know-about-the-new-star-wars-show-on-disney-plus/\">The Mandalorian</a>, and he's not afraid to share memes about it. This one was liked more than 461,000 times in less than a day.</p>\n\n<h2>Life as a video game</h2>\n\n<p>\"If life is a video game, the graphics are great, but the plot is confusing &amp; the tutorial is way too long,\" Musk mused on Thursday. He's not wrong! But the question remains: Is the game more like The Sims, or straight-up Doom?</p>\n\n<figure><blockquote class=\"twitter-tweet\"><p lang=\"en\" dir=\"ltr\">If life is a video game, the graphics are great, but the plot is confusing &amp; the tutorial is way too long</p>— Elon Musk (@elonmusk) <a href=\"https://twitter.com/elonmusk/status/1205030950750412800?ref_src=twsrc%5Etfw\" rel=\"noopener noreferrer\" target=\"_blank\">December 12, 2019</a></blockquote></figure>\n\n<h2>Nuke Mars!</h2>\n\n<figure><blockquote class=\"twitter-tweet\"><p lang=\"en\" dir=\"ltr\">Nuke Mars!</p>— Elon Musk (@elonmusk) <a href=\"https://twitter.com/elonmusk/status/1162218267932446724?ref_src=twsrc%5Etfw\" rel=\"noopener noreferrer\" target=\"_blank\">August 16, 2019</a></blockquote></figure>\n\n<p>In 2015, Musk <a href=\"https://www.cnn.com/2015/09/11/us/elon-musk-mars-nuclear-bomb-colbert-feat/index.html\">appeared on The Late Show With Stephen Colbert</a> and suggested \"warming up\" the Red Planet by dropping thermonuclear weapons on its poles. Colbert thought that made Musk sound like a supervillain, and maybe he's right, but Musk re-iterated the sentiment in August 2019. SpaceX now sells <a href=\"https://shop.spacex.com/products/nuke-mars-t-shirt\">\"Nuke Mars\" T-shirts</a>, too.</p>\n\n<h2>Go metric</h2>\n\n<figure><blockquote class=\"twitter-tweet\"><p lang=\"en\" dir=\"ltr\">Some secrets are too dangerous to be free <a href=\"https://t.co/g547UdmiJ7\" rel=\"noopener noreferrer nofollow\" target=\"_blank\">pic.twitter.com/g547UdmiJ7</a></p>— Elon Musk (@elonmusk) <a href=\"https://twitter.com/elonmusk/status/1176530527290941441?ref_src=twsrc%5Etfw\" rel=\"noopener noreferrer\" target=\"_blank\">September 24, 2019</a></blockquote></figure>\n\n<p>America tried, limply, to go metric in the 1970s, but it didn't work out. Musk reminded us we're kind of alone on this nonsensical hill.</p>\n\n<h2>Rhymes with orange</h2>\n\n<figure><blockquote class=\"twitter-tweet\"><p lang=\"en\" dir=\"ltr\">the color orange is named after the fruit</p>— Elon Musk (@elonmusk) <a href=\"https://twitter.com/elonmusk/status/1181837097444896768?ref_src=twsrc%5Etfw\" rel=\"noopener noreferrer\" target=\"_blank\">October 9, 2019</a></blockquote></figure>\n\n<p>The best Musk tweets are the random Shower Thoughts tweets, such as \"the color orange is named after the fruit.\" But he doesn't just drop it and run -- when a reader tried to say that nothing rhymes with orange, Musk countered with, \"door hinge.\"</p>\n\n<figure><blockquote class=\"twitter-tweet\" data-conversation=\"none\"><p lang=\"en\" dir=\"ltr\">Door hinge</p>— Elon Musk (@elonmusk) <a href=\"https://twitter.com/elonmusk/status/1181837821855711232?ref_src=twsrc%5Etfw\" rel=\"noopener noreferrer\" target=\"_blank\">October 9, 2019</a></blockquote></figure>\n\n<h2>Flagged down</h2>\n\n<p>Not that many billionaires take interest in the eerily similar flags of Chad and Romania, but that's why Musk makes the big bucks.</p>\n\n<figure><blockquote class=\"twitter-tweet\"><p lang=\"en\" dir=\"ltr\">Why aren’t more people talking about this!? <a href=\"https://t.co/iUFIBcDQrp\" rel=\"noopener noreferrer nofollow\" target=\"_blank\">pic.twitter.com/iUFIBcDQrp</a></p>— Elon Musk (@elonmusk) <a href=\"https://twitter.com/elonmusk/status/1170888470052499456?ref_src=twsrc%5Etfw\" rel=\"noopener noreferrer\" target=\"_blank\">September 9, 2019</a></blockquote></figure>\n\n<h2>Elon Musk-ular</h2>\n\n<figure><blockquote class=\"twitter-tweet\"><p lang=\"en\" dir=\"ltr\">Yeah, I lift a little … <a href=\"https://t.co/UAJdv8qSw1\" rel=\"noopener noreferrer nofollow\" target=\"_blank\">pic.twitter.com/UAJdv8qSw1</a></p>— Elon Musk (@elonmusk) <a href=\"https://twitter.com/elonmusk/status/1103221573127827456?ref_src=twsrc%5Etfw\" rel=\"noopener noreferrer\" target=\"_blank\">March 6, 2019</a></blockquote></figure>\n\n<p>Long before Donald Trump was <a href=\"https://www.cnet.com/news/trump-tweets-his-head-atop-shirtless-rocky-body-jokes-get-a-workout/\">Trump tweets photo of his head atop shirtless Rocky body, jokes fly</a>, Musk was morphing into Dwayne \"The Rock\" Johnson. Makes Teslas? This version of Musk could pick up a Tesla and carry it around one-handed.</p>\n\n<h2>Tesla blows</h2>\n\n<p>After tweeting that \"Tesla is going to develop a quiet, electric leafblower,\" Musk thought of a joke on his own company and couldn't resist sharing it. \"Tesla blows haha,\" he wrote. Good one, Beavis!</p>\n\n<figure><blockquote class=\"twitter-tweet\" data-conversation=\"none\"><p lang=\"tl\" dir=\"ltr\">Tesla blows haha</p>— Elon Musk (@elonmusk) <a href=\"https://twitter.com/elonmusk/status/1120842338836725760?ref_src=twsrc%5Etfw\" rel=\"noopener noreferrer\" target=\"_blank\">April 24, 2019</a></blockquote></figure>\n\n<h2>Cheers</h2>\n\n<p>\"Technically, alcohol is a solution,\" Musk tweeted in July.</p>\n\n<figure><blockquote class=\"twitter-tweet\"><p lang=\"en\" dir=\"ltr\">Technically, alcohol is a solution</p>— Elon Musk (@elonmusk) <a href=\"https://twitter.com/elonmusk/status/1153078534916587520?ref_src=twsrc%5Etfw\" rel=\"noopener noreferrer\" target=\"_blank\">July 21, 2019</a></blockquote></figure>\n\n<p>It's not an original joke from him (he admitted spotting it on a T-shirt), but fans drank it up, retweeting it 176,000 times and liking it 631,000 times.</p>\n\n<h2>Brainiac in The Matrix</h2>\n\n<p>\"We are literally a brain in a vat. The vat is your skull. Everything you think is real is an electrical signal. Feels so real though,\" Musk tweeted on Dec. 12. It's hard not to imagine this being said while Musk was taking a <a href=\"https://www.cnet.com/news/reaction-to-elon-musk-smoking-pot-is-serious-snarky/\">Joe Rogan podcast style-marijuana puff,</a> but there it is.</p>\n\n<figure><blockquote class=\"twitter-tweet\"><p lang=\"en\" dir=\"ltr\">We are literally a brain in a vat. The vat is your skull. Everything you think is real is an electrical signal. Feels so real though.</p>— Elon Musk (@elonmusk) <a href=\"https://twitter.com/elonmusk/status/1205232388978003968?ref_src=twsrc%5Etfw\" rel=\"noopener noreferrer\" target=\"_blank\">December 12, 2019</a></blockquote></figure>\n\n</article>"
     },
     "metadata": {},
     "output_type": "execute_result",
     "execution_count": 66
    }
   ],
   "source": [
    "musk_article = autoextract_article(\"https://www.cnet.com/news/elon-musks-top-10-weirdest-tweets-of-2019/\")\n",
    "show(musk_article)"
   ],
   "metadata": {
    "collapsed": false,
    "pycharm": {
     "name": "#%%\n",
     "is_executing": false
    }
   }
  },
  {
   "cell_type": "markdown",
   "source": [
    "The page is full of tweets, but the format is not the usual one seen in pages. \n",
    "But don't worry. Everything is ready to get them formatted, all we have to do is to include\n",
    "the [Twitter widgets javascript library](https://developer.twitter.com/en/docs/twitter-for-websites/javascript-api/guides/set-up-twitter-for-websites)\n",
    "into the page. Let's to do it: "
   ],
   "metadata": {
    "collapsed": false,
    "pycharm": {
     "name": "#%% md\n"
    }
   }
  },
  {
   "cell_type": "code",
   "execution_count": null,
   "outputs": [],
   "source": [
    "twitter_js = '<script async src=\"https://platform.twitter.com/widgets.js\" charset=\"utf-8\"></script>'\n",
    "display(HTML(twitter_js))"
   ],
   "metadata": {
    "collapsed": false,
    "pycharm": {
     "name": "#%%\n"
    }
   }
  },
  {
   "cell_type": "markdown",
   "source": [
    "Now the tweets in the article are nicely formatted. Facebook and Instagram content\n",
    "can also get formatted by [including its javascript libraries](https://doc.scrapinghub.com/autoextract.html#format-of-articlebodyhtml-field).    \n",
    "\n",
    "But not only that. Other `iframe` based multimedia content like videos, podcasts, maps, etc \n",
    "will also be present and functional in the `articleBodyHtml` attribute.  "
   ],
   "metadata": {
    "collapsed": false
   }
  },
  {
   "cell_type": "markdown",
   "metadata": {
    "pycharm": {
     "is_executing": false,
     "name": "#%% md\n"
    }
   },
   "source": [
    "## Cherry picking\n",
    "\n",
    "Another advantage of having a normalized structure is that we can pick only the parts\n",
    "we are in interested in. In the following example, we are going to just pick the images\n",
    "from [this article](https://eu.thespectrum.com/story/news/2019/05/02/st-george-ironman-2019-athletes-raise-kidney-disease-awareness/3510491002/)\n",
    "with its corresponding caption to compose an images array. "
   ]
  },
  {
   "cell_type": "code",
   "execution_count": 4,
   "outputs": [],
   "source": [
    "iron_article = autoextract_article(\"https://eu.thespectrum.com/story/news/2019/05/02/st-george-ironman-2019-athletes-raise-kidney-disease-awareness/3510491002/\")"
   ],
   "metadata": {
    "collapsed": false,
    "pycharm": {
     "name": "#%%\n",
     "is_executing": false
    }
   }
  },
  {
   "cell_type": "code",
   "execution_count": 10,
   "outputs": [
    {
     "data": {
      "text/plain": "[{'img_url': 'https://www.gannett-cdn.com/presto/2019/04/30/PSTG/acecc248-6344-41fa-9030-18073f2dccc2-attach.jpg?width=540&height=&fit=bounds&auto=webp',\n  'caption': 'Melodie Carli races forward on her bike during IRONMAN Copenhagen on Aug. 19, 2018. (Photo: Melodie Carli)'},\n {'img_url': 'https://www.gannett-cdn.com/presto/2019/04/23/PSTG/907681f6-ff69-45dd-9d3d-ab09b4a8f513-Image-1.png?width=180&height=240&fit=bounds&auto=webp',\n  'caption': 'Melodie Carli crosses the finish line at the IRONMAN 70.3 Cartagena in Cartagena, Colombia on Dec. 3, 2017. (Photo: Melodie Carli)'},\n {'img_url': 'https://www.gannett-cdn.com/presto/2019/04/30/PSTG/9c25ef67-8f7f-4828-a98f-6014607b7d7b-IMG_5651.JPG?width=180&height=240&fit=bounds&auto=webp',\n  'caption': 'Melodie Carli celebrates with her medal after completing IRONMAN 70.3 Colombia on Dec. 3, 2017. (Photo: Melodie Carli)'}]"
     },
     "metadata": {},
     "output_type": "execute_result",
     "execution_count": 10
    }
   ],
   "source": [
    "sel = Selector(iron_article['articleBodyHtml'])\n",
    "images = [{'img_url': fig.xpath(\".//img/@src\").get(),\n",
    "           'caption': html_text.selector_to_text(fig.xpath(\"(.//figcaption)\"))} \n",
    "          for fig in sel.xpath(\"//figure\")]\n",
    "images"
   ],
   "metadata": {
    "collapsed": false,
    "pycharm": {
     "name": "#%%\n",
     "is_executing": false
    }
   }
  },
  {
   "cell_type": "markdown",
   "source": [
    "[parsel](https://github.com/scrapy/parsel) and [html-text](https://github.com/TeamHG-Memex/html-text)\n",
    "libraries was used as helpers for the task. `parsel` makes possible to query the content using\n",
    "XPath and CSS expressions and `html-text` converts properly HTML content to raw text.    \n",
    "\n",
    "Note that in the source code of the page in question there is not any `figcaption`\n",
    "tag: AutoExtract machine learning capabilities are able to detect that a particular\n",
    "section of the page is really a figure caption even if they were not annotated with the right\n",
    "HTML tag. Such intelligence is also applied to other elements like `blockquote`. "
   ],
   "metadata": {
    "collapsed": false,
    "pycharm": {
     "name": "#%% md\n"
    }
   }
  },
  {
   "cell_type": "markdown",
   "source": [
    "Heading levels are also normalized. It can be handy to automatically extract \n",
    "\"table of contents\" for `articleBodyHtml`. The function `print_toc` presented below\n",
    "print the table of content of an article extracted by AutoExtract."
   ],
   "metadata": {
    "collapsed": false
   }
  },
  {
   "cell_type": "code",
   "execution_count": 21,
   "outputs": [],
   "source": [
    "def print_toc(html):  \n",
    "    for section in Selector(html).css(\"h2,h3,h4,h5,h6\"):\n",
    "        level = int(section.root.tag[-1]) - 2\n",
    "        print(f\"{'  ' * level}{section.css('::text').get()}\")"
   ],
   "metadata": {
    "collapsed": false,
    "pycharm": {
     "name": "#%%\n",
     "is_executing": false
    }
   }
  },
  {
   "cell_type": "markdown",
   "source": [
    "Let's try it with [this article](http://cs231n.github.io/neural-networks-1/):"
   ],
   "metadata": {
    "collapsed": false
   }
  },
  {
   "cell_type": "code",
   "execution_count": 20,
   "outputs": [
    {
     "name": "stdout",
     "text": [
      "Quick intro\n",
      "Modeling one neuron\n",
      "  Biological motivation and connections\n",
      "  Single neuron as a linear classifier\n",
      "  Commonly used activation functions\n",
      "Neural Network architectures\n",
      "  Layer-wise organization\n",
      "  Example feed-forward computation\n",
      "  Representational power\n",
      "  Setting number of layers and their sizes\n",
      "Summary\n"
     ],
     "output_type": "stream"
    }
   ],
   "source": [
    "article_toc = autoextract_article(\"http://cs231n.github.io/neural-networks-1/\")        \n",
    "print_toc(article_toc['articleBodyHtml'])"
   ],
   "metadata": {
    "collapsed": false,
    "pycharm": {
     "name": "#%%\n",
     "is_executing": false
    }
   }
  },
  {
   "cell_type": "markdown",
   "source": [
    "## Try it yourself\n",
    "\n",
    "Now is the moment to try it yourself. Set the `url` variable below and execute the cell\n",
    "to see the results of autoextract on it:"
   ],
   "metadata": {
    "collapsed": false,
    "pycharm": {
     "name": "#%% md\n"
    }
   }
  },
  {
   "cell_type": "code",
   "execution_count": 10,
   "outputs": [
    {
     "data": {
      "text/plain": "<IPython.core.display.HTML object>",
      "text/html": "<article class='beauty'>\n\n<p>NIJMEGEN, Netherlands — Dr. Elise Nillesen walks briskly toward a compact SUV striped in red and yellow, the evening twilight fading. She slides into the passenger seat, stethoscope tucked in her handbag and a small pharmacy in the trunk, and heads off into the chilly November night.</p>\n\n<p>With her driver, Henry, who is trained in basic medical care, Nillesen roves the small Dutch city of Nijmegen as a one-woman primary health care clinic. Once they leave the hospital building that serves as home base, where Henry has set up a makeshift bed so he can catch some sleep between calls, they won’t return for hours.</p>\n\n<p>The night starts at a block of rowhouses where a man is enduring severe pain. Nillesen recommends some diagnostic tests and tells him to call his regular doctor in the morning, to whom she will also send notes.</p>\n\n<p>En route back to the hospital, she gets a new call: A middle-aged woman is worried about some chest discomfort. Henry makes a U-turn, and 15 minutes later they pull into a sleepy enclave of single-family homes. A young child waits at the door. After seeing the woman, Nillesen decides to call an ambulance. Henry pulls their SUV across the street and puts on flashing yellow lights while they wait for paramedics to arrive.</p>\n\n<figure><source srcset=\"https://cdn.vox-cdn.com/thumbor/dttRU753y4IGnJM_GOC1e3IgPQ0=/0x0:6720x4480/320x0/filters:focal(0x0:6720x4480):format(webp):no_upscale()/cdn.vox-cdn.com/uploads/chorus_asset/file/19580302/MW_Vox_DutchHealthcare2019_70.jpg 320w, https://cdn.vox-cdn.com/thumbor/hKOntfB-gY0heMb5etTIL_n4MjM=/0x0:6720x4480/520x0/filters:focal(0x0:6720x4480):format(webp):no_upscale()/cdn.vox-cdn.com/uploads/chorus_asset/file/19580302/MW_Vox_DutchHealthcare2019_70.jpg 520w, https://cdn.vox-cdn.com/thumbor/jSzqJSwYtBdMOaPYaPYNOvZqEvw=/0x0:6720x4480/720x0/filters:focal(0x0:6720x4480):format(webp):no_upscale()/cdn.vox-cdn.com/uploads/chorus_asset/file/19580302/MW_Vox_DutchHealthcare2019_70.jpg 720w, https://cdn.vox-cdn.com/thumbor/tSOQ42gYEzfUs7xM6XnRy4pBiOw=/0x0:6720x4480/920x0/filters:focal(0x0:6720x4480):format(webp):no_upscale()/cdn.vox-cdn.com/uploads/chorus_asset/file/19580302/MW_Vox_DutchHealthcare2019_70.jpg 920w, https://cdn.vox-cdn.com/thumbor/ZfYSJ8Za5FZUJVJTkY9GEwzSlz4=/0x0:6720x4480/1120x0/filters:focal(0x0:6720x4480):format(webp):no_upscale()/cdn.vox-cdn.com/uploads/chorus_asset/file/19580302/MW_Vox_DutchHealthcare2019_70.jpg 1120w, https://cdn.vox-cdn.com/thumbor/Fzeu_XvySEf0oLu4IpJG8RNsNbc=/0x0:6720x4480/1320x0/filters:focal(0x0:6720x4480):format(webp):no_upscale()/cdn.vox-cdn.com/uploads/chorus_asset/file/19580302/MW_Vox_DutchHealthcare2019_70.jpg 1320w, https://cdn.vox-cdn.com/thumbor/2PrLvryVubwLaE1njpwm902p8Cs=/0x0:6720x4480/1520x0/filters:focal(0x0:6720x4480):format(webp):no_upscale()/cdn.vox-cdn.com/uploads/chorus_asset/file/19580302/MW_Vox_DutchHealthcare2019_70.jpg 1520w, https://cdn.vox-cdn.com/thumbor/yQjxY3tC9hvOWD0UzhzdyRlep0s=/0x0:6720x4480/1720x0/filters:focal(0x0:6720x4480):format(webp):no_upscale()/cdn.vox-cdn.com/uploads/chorus_asset/file/19580302/MW_Vox_DutchHealthcare2019_70.jpg 1720w, https://cdn.vox-cdn.com/thumbor/B01Ymn5edd4V1raRTgi3T3TvPgI=/0x0:6720x4480/1920x0/filters:focal(0x0:6720x4480):format(webp):no_upscale()/cdn.vox-cdn.com/uploads/chorus_asset/file/19580302/MW_Vox_DutchHealthcare2019_70.jpg 1920w\" sizes=\"(min-width: 1221px) 846px, (min-width: 880px) calc(100vw - 334px), 100vw\" type=\"image/webp\">\n\n\n<img srcset=\"https://cdn.vox-cdn.com/thumbor/NtKJ_EbawLij9AyUIld3CqlJAAU=/0x0:6720x4480/320x0/filters:focal(0x0:6720x4480):no_upscale()/cdn.vox-cdn.com/uploads/chorus_asset/file/19580302/MW_Vox_DutchHealthcare2019_70.jpg 320w, https://cdn.vox-cdn.com/thumbor/qbNbJg4oy9uQvwXB7kjCsT6Hwt8=/0x0:6720x4480/520x0/filters:focal(0x0:6720x4480):no_upscale()/cdn.vox-cdn.com/uploads/chorus_asset/file/19580302/MW_Vox_DutchHealthcare2019_70.jpg 520w, https://cdn.vox-cdn.com/thumbor/vP3muVxjCN0OIGL1LOU0e-5h9Os=/0x0:6720x4480/720x0/filters:focal(0x0:6720x4480):no_upscale()/cdn.vox-cdn.com/uploads/chorus_asset/file/19580302/MW_Vox_DutchHealthcare2019_70.jpg 720w, https://cdn.vox-cdn.com/thumbor/09-cHUZLQM1o7F9XnFfwFLcrWZs=/0x0:6720x4480/920x0/filters:focal(0x0:6720x4480):no_upscale()/cdn.vox-cdn.com/uploads/chorus_asset/file/19580302/MW_Vox_DutchHealthcare2019_70.jpg 920w, https://cdn.vox-cdn.com/thumbor/dcyiLhS5rFvwAX1fmTMUudzGLvg=/0x0:6720x4480/1120x0/filters:focal(0x0:6720x4480):no_upscale()/cdn.vox-cdn.com/uploads/chorus_asset/file/19580302/MW_Vox_DutchHealthcare2019_70.jpg 1120w, https://cdn.vox-cdn.com/thumbor/z4C40ag5KHsrHXdKTjG_TeudHPA=/0x0:6720x4480/1320x0/filters:focal(0x0:6720x4480):no_upscale()/cdn.vox-cdn.com/uploads/chorus_asset/file/19580302/MW_Vox_DutchHealthcare2019_70.jpg 1320w, https://cdn.vox-cdn.com/thumbor/MV4z0JA6UnPh0ZLOE_wETSLORbI=/0x0:6720x4480/1520x0/filters:focal(0x0:6720x4480):no_upscale()/cdn.vox-cdn.com/uploads/chorus_asset/file/19580302/MW_Vox_DutchHealthcare2019_70.jpg 1520w, https://cdn.vox-cdn.com/thumbor/5jjQQJwjpXm0JlhDmrXkTLsB4No=/0x0:6720x4480/1720x0/filters:focal(0x0:6720x4480):no_upscale()/cdn.vox-cdn.com/uploads/chorus_asset/file/19580302/MW_Vox_DutchHealthcare2019_70.jpg 1720w, https://cdn.vox-cdn.com/thumbor/aDRt-W9nvoZGop1SjUR2iZDKreg=/0x0:6720x4480/1920x0/filters:focal(0x0:6720x4480):no_upscale()/cdn.vox-cdn.com/uploads/chorus_asset/file/19580302/MW_Vox_DutchHealthcare2019_70.jpg 1920w\" sizes=\"(min-width: 1221px) 846px, (min-width: 880px) calc(100vw - 334px), 100vw\" alt=\"\" data-upload-width=\"6720\" src=\"https://cdn.vox-cdn.com/thumbor/6T0LCSgYUSZJIYsDSlppDhWIe7s=/0x0:6720x4480/1200x0/filters:focal(0x0:6720x4480):no_upscale()/cdn.vox-cdn.com/uploads/chorus_asset/file/19580302/MW_Vox_DutchHealthcare2019_70.jpg\">\n\n</source>\n\n      \n    \n    \n  \n  \n    \n      \n        <figcaption>Dr. Elise Nillesen and her driver Henry sometimes spend hours on the road in the Nijmegen area making home visits to patients after business hours.</figcaption></figure>\n\n<figure><source srcset=\"https://cdn.vox-cdn.com/thumbor/EaYPZnTqs4mJ8AGj2SvvVV3xhCo=/0x0:6720x4480/320x0/filters:focal(0x0:6720x4480):format(webp):no_upscale()/cdn.vox-cdn.com/uploads/chorus_asset/file/19580303/MW_Vox_DutchHealthcare2019_76.jpg 320w, https://cdn.vox-cdn.com/thumbor/ApHAGKmLiY5gCnhD42QC0ycidMw=/0x0:6720x4480/520x0/filters:focal(0x0:6720x4480):format(webp):no_upscale()/cdn.vox-cdn.com/uploads/chorus_asset/file/19580303/MW_Vox_DutchHealthcare2019_76.jpg 520w, https://cdn.vox-cdn.com/thumbor/WyyE7VeXjCK43Q1t2FRx8_GXmpY=/0x0:6720x4480/720x0/filters:focal(0x0:6720x4480):format(webp):no_upscale()/cdn.vox-cdn.com/uploads/chorus_asset/file/19580303/MW_Vox_DutchHealthcare2019_76.jpg 720w, https://cdn.vox-cdn.com/thumbor/kErQZGwKusz72NgttZHJ99G3f7M=/0x0:6720x4480/920x0/filters:focal(0x0:6720x4480):format(webp):no_upscale()/cdn.vox-cdn.com/uploads/chorus_asset/file/19580303/MW_Vox_DutchHealthcare2019_76.jpg 920w, https://cdn.vox-cdn.com/thumbor/nooqlRCI7-4B4fvdffnoX2avsXE=/0x0:6720x4480/1120x0/filters:focal(0x0:6720x4480):format(webp):no_upscale()/cdn.vox-cdn.com/uploads/chorus_asset/file/19580303/MW_Vox_DutchHealthcare2019_76.jpg 1120w, https://cdn.vox-cdn.com/thumbor/NU-eupHoGjYVURImTdr8WIi4qeE=/0x0:6720x4480/1320x0/filters:focal(0x0:6720x4480):format(webp):no_upscale()/cdn.vox-cdn.com/uploads/chorus_asset/file/19580303/MW_Vox_DutchHealthcare2019_76.jpg 1320w, https://cdn.vox-cdn.com/thumbor/AbeKA7AB8uhBHdPt-sXbZnZSZ94=/0x0:6720x4480/1520x0/filters:focal(0x0:6720x4480):format(webp):no_upscale()/cdn.vox-cdn.com/uploads/chorus_asset/file/19580303/MW_Vox_DutchHealthcare2019_76.jpg 1520w, https://cdn.vox-cdn.com/thumbor/-Krth6qwx8sxE3quZmittTf7uIs=/0x0:6720x4480/1720x0/filters:focal(0x0:6720x4480):format(webp):no_upscale()/cdn.vox-cdn.com/uploads/chorus_asset/file/19580303/MW_Vox_DutchHealthcare2019_76.jpg 1720w, https://cdn.vox-cdn.com/thumbor/HPuvqEcRFpgyEGQjUS1EUR3t6xo=/0x0:6720x4480/1920x0/filters:focal(0x0:6720x4480):format(webp):no_upscale()/cdn.vox-cdn.com/uploads/chorus_asset/file/19580303/MW_Vox_DutchHealthcare2019_76.jpg 1920w\" sizes=\"(min-width: 1221px) 846px, (min-width: 880px) calc(100vw - 334px), 100vw\" type=\"image/webp\">\n\n\n<img srcset=\"https://cdn.vox-cdn.com/thumbor/Iq-cbsj1Llzvt15l2WgHMvdFv94=/0x0:6720x4480/320x0/filters:focal(0x0:6720x4480):no_upscale()/cdn.vox-cdn.com/uploads/chorus_asset/file/19580303/MW_Vox_DutchHealthcare2019_76.jpg 320w, https://cdn.vox-cdn.com/thumbor/NxSJDB70jN6kYHBZObUe-J4nUAs=/0x0:6720x4480/520x0/filters:focal(0x0:6720x4480):no_upscale()/cdn.vox-cdn.com/uploads/chorus_asset/file/19580303/MW_Vox_DutchHealthcare2019_76.jpg 520w, https://cdn.vox-cdn.com/thumbor/kSclQRbPqH6TGdqwGkvSG0KNm34=/0x0:6720x4480/720x0/filters:focal(0x0:6720x4480):no_upscale()/cdn.vox-cdn.com/uploads/chorus_asset/file/19580303/MW_Vox_DutchHealthcare2019_76.jpg 720w, https://cdn.vox-cdn.com/thumbor/dzKj5uSCjiSD9kTfmLq8bRy8n14=/0x0:6720x4480/920x0/filters:focal(0x0:6720x4480):no_upscale()/cdn.vox-cdn.com/uploads/chorus_asset/file/19580303/MW_Vox_DutchHealthcare2019_76.jpg 920w, https://cdn.vox-cdn.com/thumbor/FY4PthQHh9oyE2-nSkQE-VE_YTA=/0x0:6720x4480/1120x0/filters:focal(0x0:6720x4480):no_upscale()/cdn.vox-cdn.com/uploads/chorus_asset/file/19580303/MW_Vox_DutchHealthcare2019_76.jpg 1120w, https://cdn.vox-cdn.com/thumbor/OEU_P0DXKeSSaCuzqllMfzmtPPI=/0x0:6720x4480/1320x0/filters:focal(0x0:6720x4480):no_upscale()/cdn.vox-cdn.com/uploads/chorus_asset/file/19580303/MW_Vox_DutchHealthcare2019_76.jpg 1320w, https://cdn.vox-cdn.com/thumbor/llE80HLDbUA4RFzWHlzGcVUdmNU=/0x0:6720x4480/1520x0/filters:focal(0x0:6720x4480):no_upscale()/cdn.vox-cdn.com/uploads/chorus_asset/file/19580303/MW_Vox_DutchHealthcare2019_76.jpg 1520w, https://cdn.vox-cdn.com/thumbor/yB2M_hRno3vlOpofDgv5OIDS9ZA=/0x0:6720x4480/1720x0/filters:focal(0x0:6720x4480):no_upscale()/cdn.vox-cdn.com/uploads/chorus_asset/file/19580303/MW_Vox_DutchHealthcare2019_76.jpg 1720w, https://cdn.vox-cdn.com/thumbor/sC-i5cm7ihwcLwMTI8-PoJO15vA=/0x0:6720x4480/1920x0/filters:focal(0x0:6720x4480):no_upscale()/cdn.vox-cdn.com/uploads/chorus_asset/file/19580303/MW_Vox_DutchHealthcare2019_76.jpg 1920w\" sizes=\"(min-width: 1221px) 846px, (min-width: 880px) calc(100vw - 334px), 100vw\" alt=\"\" data-upload-width=\"6720\" src=\"https://cdn.vox-cdn.com/thumbor/243mjYiZFAr8l9p0YJMu9UCMIVU=/0x0:6720x4480/1200x0/filters:focal(0x0:6720x4480):no_upscale()/cdn.vox-cdn.com/uploads/chorus_asset/file/19580303/MW_Vox_DutchHealthcare2019_76.jpg\">\n\n</source>\n\n      \n    \n    \n  \n  \n    \n      \n        <figcaption>Nillesen had to call an ambulance for a patient one November night. Her driver Henry put on their SUV’s flashing lights as a signal to the incoming paramedics.</figcaption></figure>\n\n<p>Next, another call from dispatch: An older woman with a terminal cancer diagnosis has called in, concerned about a reaction to her chemotherapy. The house is about 20 minutes away. They head off to check on the woman.</p>\n\n<p>It’s all in a night’s work for Nillesen and Henry. “It’s a little different than what you do during the day,” says Nillesen, whose regular general practitioner practice is about 15 minutes outside Nijmegen.</p>\n\n<p>Nillesen’s shift, which she does a couple of times a month, is part of a bigger general practitioner cooperative that provides after-hours care. There are others like it all over the country. The co-op is the main reason Dutch patients are more likely than patients almost anywhere else in the world to say they can get care after business hours if they need it.</p>\n\n<p>The co-op is a microcosm of health care in the Netherlands: a complicated machine with many moving parts, providers working in concert to deliver medical care to their patients. The Netherlands leans on private actors — private insurers, independently employed doctors, privately owned nonprofit hospitals — to provide health care. But it also places strict regulations on the health sector to achieve the goals of affordability and access. That balance of market principles and close government regulation has created a health care system that seems to work well for the Dutch.</p>\n\n<p><a href=\"https://www.vox.com/2020/1/13/21055327/everybody-covered\">Vox is looking abroad</a> for lessons about how to achieve universal and affordable health care. We wanted to understand the choices other countries made and the consequences of those decisions. No health care system is perfect. But America’s economic peers have figured out a way to deliver truly universal coverage and quality care. Our project, <a href=\"http://www.vox.com/covered\">Everybody Covered</a>, was made possible by a grant from <a href=\"https://www.commonwealthfund.org/about-us\">The Commonwealth Fund</a>.</p>\n\n<p>The Netherlands has built one of the highest-quality health care systems in the world, ranking third globally on one measure: <a href=\"https://www.thelancet.com/action/showFullTableHTML?isHtml=true&amp;tableId=tbl2&amp;pii=S0140-6736%2818%2930994-2\">a quality and access index</a> on avoiding preventable deaths.</p>\n\n<p>The Dutch might have a reputation as libertine progressives, with a relaxed attitude to drugs and legalized prostitution, but their history is deeply rooted in capitalism too: The country was the mercantile center of the world during the 1600s. In their health system, they have tried to build an idealized version of managed competition, the same ethos that has informed US health care reforms from health maintenance organizations in the 1980s to the Affordable Care Act.</p>\n\n<p>Managed competition uses a combination of private markets and government regulations to try to reduce health care costs and improve the quality of care. The Netherlands strives to have the different parts of its system — the general practitioners, private insurers, home nurses, the emergency department — work together seamlessly. The Dutch have sought to use a tightly managed market to achieve universal health care, rather than a more socialized system like those seen elsewhere in Europe.</p>\n\n<p>Take the after-hours co-ops: Almost every Dutch general practitioner participates in one, but the co-op was their idea in the first place. It allows doctors to share the responsibility for after-hours care, rather than every doctor offering the service 24 hours a day, seven days a week, 365 days a year.</p>\n\n<p>That’s how it used to be. Nillesen remembers her dad, also a family physician, staying home every night in case one of his patients called. Her family couldn’t take more than one week of vacation in a year; even then, her dad needed to persuade another doctor to cover his patient calls.</p>\n\n<p>“You couldn’t leave home for five minutes,” she says. “I would never want to do it like that.”</p>\n\n<figure><source srcset=\"https://cdn.vox-cdn.com/thumbor/OthnEf8HfskpFsMinOIcrpNM-LY=/0x0:6490x4326/320x0/filters:focal(0x0:6490x4326):format(webp):no_upscale()/cdn.vox-cdn.com/uploads/chorus_asset/file/19580330/MW_Vox_DutchHealthcare2019_114.jpg 320w, https://cdn.vox-cdn.com/thumbor/abJXoMxVCaFqdyQ9eO_8Eu66YSM=/0x0:6490x4326/520x0/filters:focal(0x0:6490x4326):format(webp):no_upscale()/cdn.vox-cdn.com/uploads/chorus_asset/file/19580330/MW_Vox_DutchHealthcare2019_114.jpg 520w, https://cdn.vox-cdn.com/thumbor/36AlEy4zmXUluqWxQv7oCm9ljnI=/0x0:6490x4326/720x0/filters:focal(0x0:6490x4326):format(webp):no_upscale()/cdn.vox-cdn.com/uploads/chorus_asset/file/19580330/MW_Vox_DutchHealthcare2019_114.jpg 720w, https://cdn.vox-cdn.com/thumbor/b2Ggu3FuqU6hAzPhAFbgQD_Cecg=/0x0:6490x4326/920x0/filters:focal(0x0:6490x4326):format(webp):no_upscale()/cdn.vox-cdn.com/uploads/chorus_asset/file/19580330/MW_Vox_DutchHealthcare2019_114.jpg 920w, https://cdn.vox-cdn.com/thumbor/FIrQNTGf5Tw3WrKUMnbxQwIBekw=/0x0:6490x4326/1120x0/filters:focal(0x0:6490x4326):format(webp):no_upscale()/cdn.vox-cdn.com/uploads/chorus_asset/file/19580330/MW_Vox_DutchHealthcare2019_114.jpg 1120w, https://cdn.vox-cdn.com/thumbor/_YaY5W5hra4LdMltUNziuLrmCIY=/0x0:6490x4326/1320x0/filters:focal(0x0:6490x4326):format(webp):no_upscale()/cdn.vox-cdn.com/uploads/chorus_asset/file/19580330/MW_Vox_DutchHealthcare2019_114.jpg 1320w, https://cdn.vox-cdn.com/thumbor/Q5Ww7Is5V-_4t5yQcRqlob9AAjY=/0x0:6490x4326/1520x0/filters:focal(0x0:6490x4326):format(webp):no_upscale()/cdn.vox-cdn.com/uploads/chorus_asset/file/19580330/MW_Vox_DutchHealthcare2019_114.jpg 1520w, https://cdn.vox-cdn.com/thumbor/IYnTznpkiMP9cPX-WXweeFcoXcU=/0x0:6490x4326/1720x0/filters:focal(0x0:6490x4326):format(webp):no_upscale()/cdn.vox-cdn.com/uploads/chorus_asset/file/19580330/MW_Vox_DutchHealthcare2019_114.jpg 1720w, https://cdn.vox-cdn.com/thumbor/leYSmxhJGmj8t79suG9doD2013Q=/0x0:6490x4326/1920x0/filters:focal(0x0:6490x4326):format(webp):no_upscale()/cdn.vox-cdn.com/uploads/chorus_asset/file/19580330/MW_Vox_DutchHealthcare2019_114.jpg 1920w\" sizes=\"90vw\" type=\"image/webp\">\n\n\n<img srcset=\"https://cdn.vox-cdn.com/thumbor/D5kY7AbvyDtd_Q6CMf6ABazU4Y4=/0x0:6490x4326/320x0/filters:focal(0x0:6490x4326):no_upscale()/cdn.vox-cdn.com/uploads/chorus_asset/file/19580330/MW_Vox_DutchHealthcare2019_114.jpg 320w, https://cdn.vox-cdn.com/thumbor/WFUSO7LASBCB1h5R29tA2GlhQrI=/0x0:6490x4326/520x0/filters:focal(0x0:6490x4326):no_upscale()/cdn.vox-cdn.com/uploads/chorus_asset/file/19580330/MW_Vox_DutchHealthcare2019_114.jpg 520w, https://cdn.vox-cdn.com/thumbor/6olxOoYnYlopYFBsgdKO7N9hqFk=/0x0:6490x4326/720x0/filters:focal(0x0:6490x4326):no_upscale()/cdn.vox-cdn.com/uploads/chorus_asset/file/19580330/MW_Vox_DutchHealthcare2019_114.jpg 720w, https://cdn.vox-cdn.com/thumbor/WRs_4LskhpKitG76aLv0TPVuJ9M=/0x0:6490x4326/920x0/filters:focal(0x0:6490x4326):no_upscale()/cdn.vox-cdn.com/uploads/chorus_asset/file/19580330/MW_Vox_DutchHealthcare2019_114.jpg 920w, https://cdn.vox-cdn.com/thumbor/Xa3XtOwPMGvO4XspOvAiN7Wl1iU=/0x0:6490x4326/1120x0/filters:focal(0x0:6490x4326):no_upscale()/cdn.vox-cdn.com/uploads/chorus_asset/file/19580330/MW_Vox_DutchHealthcare2019_114.jpg 1120w, https://cdn.vox-cdn.com/thumbor/OXHgeSNXSno9lk3EKB5AMCrdhvQ=/0x0:6490x4326/1320x0/filters:focal(0x0:6490x4326):no_upscale()/cdn.vox-cdn.com/uploads/chorus_asset/file/19580330/MW_Vox_DutchHealthcare2019_114.jpg 1320w, https://cdn.vox-cdn.com/thumbor/MnZXdVUK7HfaHyPNu8dpTO8fVKc=/0x0:6490x4326/1520x0/filters:focal(0x0:6490x4326):no_upscale()/cdn.vox-cdn.com/uploads/chorus_asset/file/19580330/MW_Vox_DutchHealthcare2019_114.jpg 1520w, https://cdn.vox-cdn.com/thumbor/bS25DpQzK57PjDCiFTACrqCkvQQ=/0x0:6490x4326/1720x0/filters:focal(0x0:6490x4326):no_upscale()/cdn.vox-cdn.com/uploads/chorus_asset/file/19580330/MW_Vox_DutchHealthcare2019_114.jpg 1720w, https://cdn.vox-cdn.com/thumbor/OZ1AeyWhCS5vUMCzjlffFkwevhw=/0x0:6490x4326/1920x0/filters:focal(0x0:6490x4326):no_upscale()/cdn.vox-cdn.com/uploads/chorus_asset/file/19580330/MW_Vox_DutchHealthcare2019_114.jpg 1920w\" sizes=\"90vw\" alt=\"\" data-upload-width=\"6490\" src=\"https://cdn.vox-cdn.com/thumbor/RLqOW75SnvPNizUb2AW9-TSzi9w=/0x0:6490x4326/1200x0/filters:focal(0x0:6490x4326):no_upscale()/cdn.vox-cdn.com/uploads/chorus_asset/file/19580330/MW_Vox_DutchHealthcare2019_114.jpg\">\n\n</source>\n\n      \n    \n    \n  \n  \n    \n      \n        <figcaption>Dr. Aloys Giesen makes a houseboat visit to a patient who is 65 and has chronic depression.</figcaption></figure>\n\n<p>Not all parts of the system fulfill the cooperative ideal so well. Primary care doctors, the gatekeepers through which the whole system flows, sometimes feel strained. Doctors in the Netherlands are more likely than those in most other developed countries to say their patients struggle to cover their share of the bill and their administrative workload is a drag on their productivity.</p>\n\n<p>Critics argue that the Netherlands made a mistake in handing over so much of its health care to the private market. Dutch patients face higher financial barriers to care than their peers in more socialized systems, and spending has accelerated in recent years, trends the critics blame on the privatized market.</p>\n\n<p>Still, for now, the indicators seem undeniable: The Netherlands is among the world’s elite in the quality of the health care its citizens receive — and basically everyone is covered. The system demonstrates that if a country is committed to organizing and tightly managing its health care, then it is still possible to achieve universal, affordable, and accessible care without entirely sacrificing market principles or private insurance.</p>\n\n<h2>Why the Dutch ended up with private health insurance for everybody</h2>\n\n<p>Democrats in the United States who support Medicare-for-all want to take a fractured and stratified health care system and make it more unified and equitable through nationalized health insurance.</p>\n\n<p>The Netherlands saw the same problems in the mid-2000s, but they came up with a different fix.</p>\n\n<p>Before then, the country had a two-tiered health care system: About two-thirds of the country was covered by a social health insurance program, and the remaining third was covered by private insurance. Disparities developed between the two tiers; wealthier people got better access to doctors with their private coverage.</p>\n\n<p>By 2006, the two-tiered system teetered on the brink. Health care was becoming very expensive for the middle class, who faced high out-of-pocket costs. Yet private insurance was more attractive to doctors, because it paid better, than the public program that was covering people with lower incomes. And about 2 percent of the population still lacked insurance.</p>\n\n<p>So the Dutch decided to overhaul their health insurance. The ruling center-right government compromised on a program to achieve universal coverage, which both sides agreed was essential, without abandoning the private market.</p>\n\n<p>“There was a window of opportunity. The old system had really hit a wall,” Patrick Jeurissen, a health policy professor at Radboud University in Nijmegen, told me.</p>\n\n<figure><source srcset=\"https://cdn.vox-cdn.com/thumbor/pBVpGYCmwIcxpHAK0RnZXpBxHcY=/0x0:6720x4480/320x0/filters:focal(0x0:6720x4480):format(webp):no_upscale()/cdn.vox-cdn.com/uploads/chorus_asset/file/19580429/MW_Vox_DutchHealthcare2019_88.jpg 320w, https://cdn.vox-cdn.com/thumbor/cajgLXFBXO5vMIeo17jQzbUwDSo=/0x0:6720x4480/520x0/filters:focal(0x0:6720x4480):format(webp):no_upscale()/cdn.vox-cdn.com/uploads/chorus_asset/file/19580429/MW_Vox_DutchHealthcare2019_88.jpg 520w, https://cdn.vox-cdn.com/thumbor/Wwj7Txmi8vV78jB5sQZ-QG9wgdM=/0x0:6720x4480/720x0/filters:focal(0x0:6720x4480):format(webp):no_upscale()/cdn.vox-cdn.com/uploads/chorus_asset/file/19580429/MW_Vox_DutchHealthcare2019_88.jpg 720w, https://cdn.vox-cdn.com/thumbor/YOsQvZsFo12CM0MyX1Du3p6RD0s=/0x0:6720x4480/920x0/filters:focal(0x0:6720x4480):format(webp):no_upscale()/cdn.vox-cdn.com/uploads/chorus_asset/file/19580429/MW_Vox_DutchHealthcare2019_88.jpg 920w, https://cdn.vox-cdn.com/thumbor/zwIP8o8EWqNP8iKn-n_wjhwhdOE=/0x0:6720x4480/1120x0/filters:focal(0x0:6720x4480):format(webp):no_upscale()/cdn.vox-cdn.com/uploads/chorus_asset/file/19580429/MW_Vox_DutchHealthcare2019_88.jpg 1120w, https://cdn.vox-cdn.com/thumbor/AjB1hTZjgOcW0X6m4-Z4vJewBwA=/0x0:6720x4480/1320x0/filters:focal(0x0:6720x4480):format(webp):no_upscale()/cdn.vox-cdn.com/uploads/chorus_asset/file/19580429/MW_Vox_DutchHealthcare2019_88.jpg 1320w, https://cdn.vox-cdn.com/thumbor/jPyP4zrAzk572leTEjopJKPOIKQ=/0x0:6720x4480/1520x0/filters:focal(0x0:6720x4480):format(webp):no_upscale()/cdn.vox-cdn.com/uploads/chorus_asset/file/19580429/MW_Vox_DutchHealthcare2019_88.jpg 1520w, https://cdn.vox-cdn.com/thumbor/2nnxuqEV8JEY9jGVgiI8bXCGkVw=/0x0:6720x4480/1720x0/filters:focal(0x0:6720x4480):format(webp):no_upscale()/cdn.vox-cdn.com/uploads/chorus_asset/file/19580429/MW_Vox_DutchHealthcare2019_88.jpg 1720w, https://cdn.vox-cdn.com/thumbor/Yvib7WUqZm5lOy-S5AK5bfbU_V4=/0x0:6720x4480/1920x0/filters:focal(0x0:6720x4480):format(webp):no_upscale()/cdn.vox-cdn.com/uploads/chorus_asset/file/19580429/MW_Vox_DutchHealthcare2019_88.jpg 1920w\" sizes=\"(min-width: 1221px) 846px, (min-width: 880px) calc(100vw - 334px), 100vw\" type=\"image/webp\">\n\n\n<img srcset=\"https://cdn.vox-cdn.com/thumbor/2ZAV6KSDtUCPZmzeq5UiYtHX1m0=/0x0:6720x4480/320x0/filters:focal(0x0:6720x4480):no_upscale()/cdn.vox-cdn.com/uploads/chorus_asset/file/19580429/MW_Vox_DutchHealthcare2019_88.jpg 320w, https://cdn.vox-cdn.com/thumbor/IS92I0RkTL-yzZg-stulqythbIg=/0x0:6720x4480/520x0/filters:focal(0x0:6720x4480):no_upscale()/cdn.vox-cdn.com/uploads/chorus_asset/file/19580429/MW_Vox_DutchHealthcare2019_88.jpg 520w, https://cdn.vox-cdn.com/thumbor/fTAKCWL5aVOqfyMdJta3pW6m8JQ=/0x0:6720x4480/720x0/filters:focal(0x0:6720x4480):no_upscale()/cdn.vox-cdn.com/uploads/chorus_asset/file/19580429/MW_Vox_DutchHealthcare2019_88.jpg 720w, https://cdn.vox-cdn.com/thumbor/V48CKqAPhzfAvtEIG_DLt5bKQkI=/0x0:6720x4480/920x0/filters:focal(0x0:6720x4480):no_upscale()/cdn.vox-cdn.com/uploads/chorus_asset/file/19580429/MW_Vox_DutchHealthcare2019_88.jpg 920w, https://cdn.vox-cdn.com/thumbor/86MprZrJHnr5MpTNQ7WHZ7GS4rc=/0x0:6720x4480/1120x0/filters:focal(0x0:6720x4480):no_upscale()/cdn.vox-cdn.com/uploads/chorus_asset/file/19580429/MW_Vox_DutchHealthcare2019_88.jpg 1120w, https://cdn.vox-cdn.com/thumbor/l8nB3gusKKdwwBQWkxPU788sJes=/0x0:6720x4480/1320x0/filters:focal(0x0:6720x4480):no_upscale()/cdn.vox-cdn.com/uploads/chorus_asset/file/19580429/MW_Vox_DutchHealthcare2019_88.jpg 1320w, https://cdn.vox-cdn.com/thumbor/z4Ytlg4VchmWUhnPhdfMNyCYWOg=/0x0:6720x4480/1520x0/filters:focal(0x0:6720x4480):no_upscale()/cdn.vox-cdn.com/uploads/chorus_asset/file/19580429/MW_Vox_DutchHealthcare2019_88.jpg 1520w, https://cdn.vox-cdn.com/thumbor/RbhFfJ8oRkmKAtXaBRsRz8degPY=/0x0:6720x4480/1720x0/filters:focal(0x0:6720x4480):no_upscale()/cdn.vox-cdn.com/uploads/chorus_asset/file/19580429/MW_Vox_DutchHealthcare2019_88.jpg 1720w, https://cdn.vox-cdn.com/thumbor/Zrz44yFB1EOUmNtnqF4MlpPS_B0=/0x0:6720x4480/1920x0/filters:focal(0x0:6720x4480):no_upscale()/cdn.vox-cdn.com/uploads/chorus_asset/file/19580429/MW_Vox_DutchHealthcare2019_88.jpg 1920w\" sizes=\"(min-width: 1221px) 846px, (min-width: 880px) calc(100vw - 334px), 100vw\" alt=\"\" data-upload-width=\"6720\" src=\"https://cdn.vox-cdn.com/thumbor/vY7TXzOBnSooymfI_jMkhNxC150=/0x0:6720x4480/1200x0/filters:focal(0x0:6720x4480):no_upscale()/cdn.vox-cdn.com/uploads/chorus_asset/file/19580429/MW_Vox_DutchHealthcare2019_88.jpg\">\n\n</source>\n\n      \n    \n    \n  \n  \n    \n      \n        <figcaption>In a trauma unit at Radboud University Medical Center’s emergency department, an ambulance team treats a young man who has been in a car crash.</figcaption></figure>\n\n<p>Their solution: Everybody would have to purchase private health insurance individually, through a strongly regulated market. The public program would disappear. The Dutch system’s rules presaged the rules in the Affordable Care Act on preexisting conditions: guaranteed issue (nobody could be denied health insurance because of their medical history), community rating (nobody could be charged higher premiums for their health status), and an individual mandate (everyone must carry insurance or pay a penalty).</p>\n\n<p>The Netherlands fines people who don’t carry insurance for up to six months and then auto-enrolls them in an insurance plan, with premiums that are about 20 percent higher than they would have paid if they signed up during the regular enrollment period. A small number of people — about 200,000, or around 1 percent of the population — default on their premiums, and their wages are garnished to cover the cost of their insurance.</p>\n\n<p>The <a href=\"https://www.statista.com/statistics/581710/netherlands-average-nominal-annual-premium-basic-insurance-per-person-under-the-dutch-health-insurance-act-zvw/\">average cost to a Dutch citizen</a> for health insurance is about 1,400 euros, or $1,615, annually. People with lower incomes get additional government assistance to reduce their payments. The government also collects contributions from employers to help fund the insurance scheme and covers the cost for children; revenues are spread among the insurers based on the health status of their customers. Public financing covers about 75 percent of the system’s costs; the insurers have also generally operated as nonprofits.</p>\n\n<p>The benefits are designed to encourage cost-efficient use of medical care by patients. Dutch patients can visit a primary care doctor for free. For a visit to the hospital, they will need to pay toward their deductible. <a href=\"https://www.studenten-zorgverzekeringen.nl/en/basic-healthcare-insurance.html\">The annual deductible</a> is today capped at €385 ($429), although people can choose to pay a lower monthly premium in exchange for a higher deductible — up to €885 ($980). That is still well below the typical deductible in America (<a href=\"https://www.kff.org/health-costs/press-release/benchmark-employer-survey-finds-average-family-premiums-now-top-20000/\">more than $1,600 on average</a> for workers on their employer’s plan, and many people have a higher deductible than that).</p>\n\n<p>The system has more or less delivered universal coverage. <a href=\"https://www.healthsystemtracker.org/indicator/access-affordability/percent-insured/\">More than 99 percent</a> of Dutch people have insurance; people with conscientious objections are exempted from the mandate to buy insurance.</p>\n\n<p>The Dutch ethos of smartly managed health care extends beyond just the provision of health insurance. Doctors and hospitals are tightly regulated, too.</p>\n\n<p>There are <a href=\"https://go.redirectingat.com?id=66960X1516588&amp;xs=1&amp;url=https%3A%2F%2Flink.springer.com%2Farticle%2F10.1007%2Fs10198-019-01114-6&amp;referrer=vox.com&amp;sref=https%3A%2F%2Fwww.vox.com%2Fpolicy-and-politics%2F2020%2F1%2F17%2F21046874%2Fnetherlands-universal-health-insurance-private\">cost constraints</a> for hospitals. Insurers can set a cap on how much will be paid out for medical services provided in a given year, known as a global budget, and the government can impose budget cuts if spending goes over that limit. Almost every hospital is a nonprofit. Specialists are self-employed. Primary care doctors have historically had solo practices as well, though some of them have started to consolidate into clinics with several doctors on the same masthead. Dutch insurance plans create provider networks by contracting with certain doctors and hospitals, and Jeurissen even said that through court rulings, it’s been established that Dutch patients can only be charged, at most, 20 percent of the cost for out-of-network care.</p>\n\n<p>The strict rules facilitate simple solutions to problems like after-hours care. Every insurer pays primary care doctors the same flat rate, $75 an hour, for care at the general practitioner co-ops. No one insurer’s patients get preference over another.</p>\n\n<h2>The Dutch try to tightly manage how their patients use health care</h2>\n\n<p>The Netherlands has advantages the United States does not in administering this kind of after-hours care.</p>\n\n<p>To start, it’s much smaller, and it’s one of the most densely populated countries in the world, although some American health providers have seen some potential in the model: Researchers led by Paul Giesen from Radboud University, who served as guides for Vox on our visit, consulted with a Minnesota hospital in 2016 on its program. (The project didn’t get off the ground.)</p>\n\n<p>The general practitioner co-ops — a group of privately practicing physicians coming together to deliver better after-hours care, within a well-organized structure — epitomize the Dutch ethos of collaboration in a private health care market. The co-ops divvy up the country so that each one is responsible for a few thousand patients. Doctors from the smaller villages team up to deliver the service. A map I saw of the co-ops’ territory looks like overlapping spiderwebs spread out over the country.</p>\n\n<p>For her after-hours shifts, Nillesen is based out of Canisius Wilhelmina Ziekenhuis, one of the two major hospitals in Nijmegen, this city of 171,000 people near the border with Germany. Three doctors are on call on the Wednesday night I visit. Nillesen handles the home visits. Another takes charge of the in-person clinic. The third leads the call center, where six nurses take inquiries from patients who call the hotline number. Once the lines open at 5 pm, every nurse is on the phone within minutes.</p>\n\n<figure><source srcset=\"https://cdn.vox-cdn.com/thumbor/Qz3VjAX-Zr5_qz1AlwedqOzRZis=/0x0:1080x1080/320x0/filters:focal(0x0:1080x1080):format(webp):no_upscale()/cdn.vox-cdn.com/uploads/chorus_asset/file/19606617/netherlands_EC_map_2.jpg 320w, https://cdn.vox-cdn.com/thumbor/x-kKAVaUHJS4O7zP9614K6KQtpI=/0x0:1080x1080/520x0/filters:focal(0x0:1080x1080):format(webp):no_upscale()/cdn.vox-cdn.com/uploads/chorus_asset/file/19606617/netherlands_EC_map_2.jpg 520w, https://cdn.vox-cdn.com/thumbor/sfgj4F-G2WCQu4SwuRsP3HBLo14=/0x0:1080x1080/720x0/filters:focal(0x0:1080x1080):format(webp):no_upscale()/cdn.vox-cdn.com/uploads/chorus_asset/file/19606617/netherlands_EC_map_2.jpg 720w, https://cdn.vox-cdn.com/thumbor/jPNTADuD9Cpxb-ez8-MeG4er8R4=/0x0:1080x1080/920x0/filters:focal(0x0:1080x1080):format(webp):no_upscale()/cdn.vox-cdn.com/uploads/chorus_asset/file/19606617/netherlands_EC_map_2.jpg 920w, https://cdn.vox-cdn.com/thumbor/Y19dsl_Zm3bGEtyo5vDZw7a4oHs=/0x0:1080x1080/1120x0/filters:focal(0x0:1080x1080):format(webp):no_upscale()/cdn.vox-cdn.com/uploads/chorus_asset/file/19606617/netherlands_EC_map_2.jpg 1120w, https://cdn.vox-cdn.com/thumbor/-ehKAit2It2VJr_tjDmfvb67aJU=/0x0:1080x1080/1320x0/filters:focal(0x0:1080x1080):format(webp):no_upscale()/cdn.vox-cdn.com/uploads/chorus_asset/file/19606617/netherlands_EC_map_2.jpg 1320w, https://cdn.vox-cdn.com/thumbor/gUUygfq_L-6XmbAZQey2bxyAlYc=/0x0:1080x1080/1520x0/filters:focal(0x0:1080x1080):format(webp):no_upscale()/cdn.vox-cdn.com/uploads/chorus_asset/file/19606617/netherlands_EC_map_2.jpg 1520w, https://cdn.vox-cdn.com/thumbor/2HuS2Z0ga9m7g7cszdRmux0Ft68=/0x0:1080x1080/1720x0/filters:focal(0x0:1080x1080):format(webp):no_upscale()/cdn.vox-cdn.com/uploads/chorus_asset/file/19606617/netherlands_EC_map_2.jpg 1720w, https://cdn.vox-cdn.com/thumbor/xRr4tzDP6Q20uWnfMtnQDlWoMFs=/0x0:1080x1080/1920x0/filters:focal(0x0:1080x1080):format(webp):no_upscale()/cdn.vox-cdn.com/uploads/chorus_asset/file/19606617/netherlands_EC_map_2.jpg 1920w\" sizes=\"(min-width: 1221px) 846px, (min-width: 880px) calc(100vw - 334px), 100vw\" type=\"image/webp\">\n\n\n<img srcset=\"https://cdn.vox-cdn.com/thumbor/HZ21mAGoa30Zlc5PESFvmSMHdrk=/0x0:1080x1080/320x0/filters:focal(0x0:1080x1080):no_upscale()/cdn.vox-cdn.com/uploads/chorus_asset/file/19606617/netherlands_EC_map_2.jpg 320w, https://cdn.vox-cdn.com/thumbor/jZdqCGChiA3pW2hGEFVancqRXtM=/0x0:1080x1080/520x0/filters:focal(0x0:1080x1080):no_upscale()/cdn.vox-cdn.com/uploads/chorus_asset/file/19606617/netherlands_EC_map_2.jpg 520w, https://cdn.vox-cdn.com/thumbor/IO9f6-F-RFcDVqhhJxw4NlqKX-A=/0x0:1080x1080/720x0/filters:focal(0x0:1080x1080):no_upscale()/cdn.vox-cdn.com/uploads/chorus_asset/file/19606617/netherlands_EC_map_2.jpg 720w, https://cdn.vox-cdn.com/thumbor/DHYi0YcPJl2Wv8jmbv0NCQij92E=/0x0:1080x1080/920x0/filters:focal(0x0:1080x1080):no_upscale()/cdn.vox-cdn.com/uploads/chorus_asset/file/19606617/netherlands_EC_map_2.jpg 920w, https://cdn.vox-cdn.com/thumbor/9_sn5iiBTnRQ9mfmQ6YOuNQX1s4=/0x0:1080x1080/1120x0/filters:focal(0x0:1080x1080):no_upscale()/cdn.vox-cdn.com/uploads/chorus_asset/file/19606617/netherlands_EC_map_2.jpg 1120w, https://cdn.vox-cdn.com/thumbor/dmZ0PRMuAt3Hkoh3SLOan2V50ZA=/0x0:1080x1080/1320x0/filters:focal(0x0:1080x1080):no_upscale()/cdn.vox-cdn.com/uploads/chorus_asset/file/19606617/netherlands_EC_map_2.jpg 1320w, https://cdn.vox-cdn.com/thumbor/WYHrZMm9ES75c_RGhCUW-A5pjFQ=/0x0:1080x1080/1520x0/filters:focal(0x0:1080x1080):no_upscale()/cdn.vox-cdn.com/uploads/chorus_asset/file/19606617/netherlands_EC_map_2.jpg 1520w, https://cdn.vox-cdn.com/thumbor/e6sApWxsasbdAa-2l3L2I2lqR9c=/0x0:1080x1080/1720x0/filters:focal(0x0:1080x1080):no_upscale()/cdn.vox-cdn.com/uploads/chorus_asset/file/19606617/netherlands_EC_map_2.jpg 1720w, https://cdn.vox-cdn.com/thumbor/oBpI0lvLLoSl03F5DJWaHQ9ugmE=/0x0:1080x1080/1920x0/filters:focal(0x0:1080x1080):no_upscale()/cdn.vox-cdn.com/uploads/chorus_asset/file/19606617/netherlands_EC_map_2.jpg 1920w\" sizes=\"(min-width: 1221px) 846px, (min-width: 880px) calc(100vw - 334px), 100vw\" alt=\"\" data-upload-width=\"1080\" src=\"https://cdn.vox-cdn.com/thumbor/pfBr7RsTi8-en2cvC3gTMHMaM0o=/0x0:1080x1080/1200x0/filters:focal(0x0:1080x1080):no_upscale()/cdn.vox-cdn.com/uploads/chorus_asset/file/19606617/netherlands_EC_map_2.jpg\">\n\n</source>\n\n      \n    \n    \n  \n  \n    <figcaption>\n      \n      \n        <cite>Christina Animashaun/Vox</cite>\n      \n    </figcaption></figure>\n\n<p>One nurse, a veteran of the co-op, takes a call from a man threatening to kill himself. With great composure, she urges him to keep calm and come in for an in-person consultation, which he eventually agrees to do. She can have him see one of the doctors working the in-person shift within the hour. When the man hangs up, the nurse stands, tears in her eyes, and shakes her body to let out the stress. A few minutes later, she’s on the phone with someone else.</p>\n\n<p>Over the next few hours, the waiting area for the in-person clinic begins to fill up. A video plays on the monitor, explaining to patients when they should come to the co-op and when they should wait until the next day. (A scuffed knee after a skating accident can probably wait; serious bleeding warrants a trip to the co-op.) At another clinic in the city center, posters with similar messages hang on the walls.</p>\n\n<p>The system is designed to funnel people with minor problems to a general practitioner to free up the ER for more emergencies. But Dutch patients weren’t thrilled with the idea of the co-ops when they first started nearly 20 years ago, wary about seeing somebody other than their normal physician.</p>\n\n<figure><cite>Christina Animashaun/Vox</cite></figure>\n\n<p>After a dedicated education campaign, however, patients came to like the program, and it works pretty well on the whole, according to the nurses and doctors at the ER of Radboud University Medical Center, the major trauma unit in the area. An estimated 90 percent of patients now make first contact with the co-op over the phone, as the doctors prefer. Patients who are able can come into the clinic for urgent but non-emergency cases. For older patients and those with disabilities, doctors will make home visits.</p>\n\n<p>Just one in four Dutch people said in a 2016 survey that they have trouble getting medical attention in the evening or overnight from a general practitioner, which represents much better access than patients in other health care systems.</p>\n\n<figure><source srcset=\"https://cdn.vox-cdn.com/thumbor/ptzQuuqhiMA29eAkt7mS9UcdFgw=/0x0:6720x4480/320x0/filters:focal(0x0:6720x4480):format(webp):no_upscale()/cdn.vox-cdn.com/uploads/chorus_asset/file/19580439/MW_Vox_DutchHealthcare2019_9.jpg 320w, https://cdn.vox-cdn.com/thumbor/4EyHDmWHimgQMH4U9BKHIhWYefc=/0x0:6720x4480/520x0/filters:focal(0x0:6720x4480):format(webp):no_upscale()/cdn.vox-cdn.com/uploads/chorus_asset/file/19580439/MW_Vox_DutchHealthcare2019_9.jpg 520w, https://cdn.vox-cdn.com/thumbor/DofivcN7T813ULdN1fbAtye39Qs=/0x0:6720x4480/720x0/filters:focal(0x0:6720x4480):format(webp):no_upscale()/cdn.vox-cdn.com/uploads/chorus_asset/file/19580439/MW_Vox_DutchHealthcare2019_9.jpg 720w, https://cdn.vox-cdn.com/thumbor/I7KLGgq9l_kTe_C0aiTRfm0pVIo=/0x0:6720x4480/920x0/filters:focal(0x0:6720x4480):format(webp):no_upscale()/cdn.vox-cdn.com/uploads/chorus_asset/file/19580439/MW_Vox_DutchHealthcare2019_9.jpg 920w, https://cdn.vox-cdn.com/thumbor/3dk18bzHgHuTJ2IBMlLqIJaMTS8=/0x0:6720x4480/1120x0/filters:focal(0x0:6720x4480):format(webp):no_upscale()/cdn.vox-cdn.com/uploads/chorus_asset/file/19580439/MW_Vox_DutchHealthcare2019_9.jpg 1120w, https://cdn.vox-cdn.com/thumbor/KxbDY0ApQp0bRhd8XZQX5bIzwKQ=/0x0:6720x4480/1320x0/filters:focal(0x0:6720x4480):format(webp):no_upscale()/cdn.vox-cdn.com/uploads/chorus_asset/file/19580439/MW_Vox_DutchHealthcare2019_9.jpg 1320w, https://cdn.vox-cdn.com/thumbor/9U_9_ftOnQa_4dQQXv6bNUJ6Ap4=/0x0:6720x4480/1520x0/filters:focal(0x0:6720x4480):format(webp):no_upscale()/cdn.vox-cdn.com/uploads/chorus_asset/file/19580439/MW_Vox_DutchHealthcare2019_9.jpg 1520w, https://cdn.vox-cdn.com/thumbor/CuDaEC0GjhNHMdsrKiPtDjXfTNs=/0x0:6720x4480/1720x0/filters:focal(0x0:6720x4480):format(webp):no_upscale()/cdn.vox-cdn.com/uploads/chorus_asset/file/19580439/MW_Vox_DutchHealthcare2019_9.jpg 1720w, https://cdn.vox-cdn.com/thumbor/uQUaim87lSRrqTAOMew0zH1qni8=/0x0:6720x4480/1920x0/filters:focal(0x0:6720x4480):format(webp):no_upscale()/cdn.vox-cdn.com/uploads/chorus_asset/file/19580439/MW_Vox_DutchHealthcare2019_9.jpg 1920w\" sizes=\"90vw\" type=\"image/webp\">\n\n\n<img srcset=\"https://cdn.vox-cdn.com/thumbor/O_7QqND1HEN18YZqbpsGc7UIONU=/0x0:6720x4480/320x0/filters:focal(0x0:6720x4480):no_upscale()/cdn.vox-cdn.com/uploads/chorus_asset/file/19580439/MW_Vox_DutchHealthcare2019_9.jpg 320w, https://cdn.vox-cdn.com/thumbor/-J_-CVZlLgFMEgZh3rNMNPVIFs0=/0x0:6720x4480/520x0/filters:focal(0x0:6720x4480):no_upscale()/cdn.vox-cdn.com/uploads/chorus_asset/file/19580439/MW_Vox_DutchHealthcare2019_9.jpg 520w, https://cdn.vox-cdn.com/thumbor/23o4IMvjSsEcPHEcJvY3uZEBHww=/0x0:6720x4480/720x0/filters:focal(0x0:6720x4480):no_upscale()/cdn.vox-cdn.com/uploads/chorus_asset/file/19580439/MW_Vox_DutchHealthcare2019_9.jpg 720w, https://cdn.vox-cdn.com/thumbor/aMzZ00X0iYLieBAyi59XNeIBRmE=/0x0:6720x4480/920x0/filters:focal(0x0:6720x4480):no_upscale()/cdn.vox-cdn.com/uploads/chorus_asset/file/19580439/MW_Vox_DutchHealthcare2019_9.jpg 920w, https://cdn.vox-cdn.com/thumbor/6qLabzB53hfVJy6oPBQe_sYkMi0=/0x0:6720x4480/1120x0/filters:focal(0x0:6720x4480):no_upscale()/cdn.vox-cdn.com/uploads/chorus_asset/file/19580439/MW_Vox_DutchHealthcare2019_9.jpg 1120w, https://cdn.vox-cdn.com/thumbor/fpeb7FxMFW0pcoGffP4DzCsFub8=/0x0:6720x4480/1320x0/filters:focal(0x0:6720x4480):no_upscale()/cdn.vox-cdn.com/uploads/chorus_asset/file/19580439/MW_Vox_DutchHealthcare2019_9.jpg 1320w, https://cdn.vox-cdn.com/thumbor/OyE1vUdLhRe7jdWPi5ZB0ydRt4M=/0x0:6720x4480/1520x0/filters:focal(0x0:6720x4480):no_upscale()/cdn.vox-cdn.com/uploads/chorus_asset/file/19580439/MW_Vox_DutchHealthcare2019_9.jpg 1520w, https://cdn.vox-cdn.com/thumbor/BAH65bsb-rV2kXq1QyBPLFPrfuA=/0x0:6720x4480/1720x0/filters:focal(0x0:6720x4480):no_upscale()/cdn.vox-cdn.com/uploads/chorus_asset/file/19580439/MW_Vox_DutchHealthcare2019_9.jpg 1720w, https://cdn.vox-cdn.com/thumbor/XNwEp0Mq5x3X68cBHoeZpWxyZVU=/0x0:6720x4480/1920x0/filters:focal(0x0:6720x4480):no_upscale()/cdn.vox-cdn.com/uploads/chorus_asset/file/19580439/MW_Vox_DutchHealthcare2019_9.jpg 1920w\" sizes=\"90vw\" alt=\"\" data-upload-width=\"6720\" src=\"https://cdn.vox-cdn.com/thumbor/1bR5i1KJncPJ4rXO62iVfLRjHsM=/0x0:6720x4480/1200x0/filters:focal(0x0:6720x4480):no_upscale()/cdn.vox-cdn.com/uploads/chorus_asset/file/19580439/MW_Vox_DutchHealthcare2019_9.jpg\">\n\n</source>\n\n      \n    \n    \n  \n  \n    \n      \n        <figcaption>The Dutch position ambulances strategically across the country so anybody in an emergency can be reached within about 15 minutes.</figcaption></figure>\n\n<figure><source srcset=\"https://cdn.vox-cdn.com/thumbor/ScBren9h-KArW5crV14P6XKkBfw=/0x0:6720x4480/320x0/filters:focal(0x0:6720x4480):format(webp):no_upscale()/cdn.vox-cdn.com/uploads/chorus_asset/file/19580440/MW_Vox_DutchHealthcare2019_66.jpg 320w, https://cdn.vox-cdn.com/thumbor/1gj1u9xp0xLJOe7tB9Af6YcV_Gc=/0x0:6720x4480/520x0/filters:focal(0x0:6720x4480):format(webp):no_upscale()/cdn.vox-cdn.com/uploads/chorus_asset/file/19580440/MW_Vox_DutchHealthcare2019_66.jpg 520w, https://cdn.vox-cdn.com/thumbor/VK5-dhHZNCWNs2B94jzqIBicoxE=/0x0:6720x4480/720x0/filters:focal(0x0:6720x4480):format(webp):no_upscale()/cdn.vox-cdn.com/uploads/chorus_asset/file/19580440/MW_Vox_DutchHealthcare2019_66.jpg 720w, https://cdn.vox-cdn.com/thumbor/Xq4wHRk-vlhuru-5voonO5nx0BY=/0x0:6720x4480/920x0/filters:focal(0x0:6720x4480):format(webp):no_upscale()/cdn.vox-cdn.com/uploads/chorus_asset/file/19580440/MW_Vox_DutchHealthcare2019_66.jpg 920w, https://cdn.vox-cdn.com/thumbor/VcAotgoUnRv9S6LP27b5bTIw5ao=/0x0:6720x4480/1120x0/filters:focal(0x0:6720x4480):format(webp):no_upscale()/cdn.vox-cdn.com/uploads/chorus_asset/file/19580440/MW_Vox_DutchHealthcare2019_66.jpg 1120w, https://cdn.vox-cdn.com/thumbor/io32t_1wGKSvZiRY6Vmtl2C96wI=/0x0:6720x4480/1320x0/filters:focal(0x0:6720x4480):format(webp):no_upscale()/cdn.vox-cdn.com/uploads/chorus_asset/file/19580440/MW_Vox_DutchHealthcare2019_66.jpg 1320w, https://cdn.vox-cdn.com/thumbor/MFcrhA-2-nLPYs326cWMHu-FRpM=/0x0:6720x4480/1520x0/filters:focal(0x0:6720x4480):format(webp):no_upscale()/cdn.vox-cdn.com/uploads/chorus_asset/file/19580440/MW_Vox_DutchHealthcare2019_66.jpg 1520w, https://cdn.vox-cdn.com/thumbor/7ub6SQBUaMSe7yS5QzT7ELFy4pE=/0x0:6720x4480/1720x0/filters:focal(0x0:6720x4480):format(webp):no_upscale()/cdn.vox-cdn.com/uploads/chorus_asset/file/19580440/MW_Vox_DutchHealthcare2019_66.jpg 1720w, https://cdn.vox-cdn.com/thumbor/pzQqJ50ZToFbh21llISNZ_hjQiY=/0x0:6720x4480/1920x0/filters:focal(0x0:6720x4480):format(webp):no_upscale()/cdn.vox-cdn.com/uploads/chorus_asset/file/19580440/MW_Vox_DutchHealthcare2019_66.jpg 1920w\" sizes=\"(min-width: 1221px) 846px, (min-width: 880px) calc(100vw - 334px), 100vw\" type=\"image/webp\">\n\n\n<img srcset=\"https://cdn.vox-cdn.com/thumbor/zacmDBkiiiBxnaARJK0XHXY4LiM=/0x0:6720x4480/320x0/filters:focal(0x0:6720x4480):no_upscale()/cdn.vox-cdn.com/uploads/chorus_asset/file/19580440/MW_Vox_DutchHealthcare2019_66.jpg 320w, https://cdn.vox-cdn.com/thumbor/oapsFscxXmwCmuj7-hOqRmQmlDQ=/0x0:6720x4480/520x0/filters:focal(0x0:6720x4480):no_upscale()/cdn.vox-cdn.com/uploads/chorus_asset/file/19580440/MW_Vox_DutchHealthcare2019_66.jpg 520w, https://cdn.vox-cdn.com/thumbor/KWUU_cFFOmAWyZzCdhuNCvsyD_0=/0x0:6720x4480/720x0/filters:focal(0x0:6720x4480):no_upscale()/cdn.vox-cdn.com/uploads/chorus_asset/file/19580440/MW_Vox_DutchHealthcare2019_66.jpg 720w, https://cdn.vox-cdn.com/thumbor/EeUkrLZpuW8OnDLCrVipv9ZvWWI=/0x0:6720x4480/920x0/filters:focal(0x0:6720x4480):no_upscale()/cdn.vox-cdn.com/uploads/chorus_asset/file/19580440/MW_Vox_DutchHealthcare2019_66.jpg 920w, https://cdn.vox-cdn.com/thumbor/D9uACWgxMvlbNYczda7RkrWYovE=/0x0:6720x4480/1120x0/filters:focal(0x0:6720x4480):no_upscale()/cdn.vox-cdn.com/uploads/chorus_asset/file/19580440/MW_Vox_DutchHealthcare2019_66.jpg 1120w, https://cdn.vox-cdn.com/thumbor/lejKKlGABkHUG1fDj7DP9CbOn48=/0x0:6720x4480/1320x0/filters:focal(0x0:6720x4480):no_upscale()/cdn.vox-cdn.com/uploads/chorus_asset/file/19580440/MW_Vox_DutchHealthcare2019_66.jpg 1320w, https://cdn.vox-cdn.com/thumbor/u-04Avg3BqjYicS1-JRJwkunMNQ=/0x0:6720x4480/1520x0/filters:focal(0x0:6720x4480):no_upscale()/cdn.vox-cdn.com/uploads/chorus_asset/file/19580440/MW_Vox_DutchHealthcare2019_66.jpg 1520w, https://cdn.vox-cdn.com/thumbor/zok267LKIaVOn2jfwyel7tfZLNE=/0x0:6720x4480/1720x0/filters:focal(0x0:6720x4480):no_upscale()/cdn.vox-cdn.com/uploads/chorus_asset/file/19580440/MW_Vox_DutchHealthcare2019_66.jpg 1720w, https://cdn.vox-cdn.com/thumbor/MrzPHRvkNxJrK9qvRZSHOBtjBy0=/0x0:6720x4480/1920x0/filters:focal(0x0:6720x4480):no_upscale()/cdn.vox-cdn.com/uploads/chorus_asset/file/19580440/MW_Vox_DutchHealthcare2019_66.jpg 1920w\" sizes=\"(min-width: 1221px) 846px, (min-width: 880px) calc(100vw - 334px), 100vw\" alt=\"\" data-upload-width=\"6720\" src=\"https://cdn.vox-cdn.com/thumbor/lfIFSN6Nvk8B7hi2ySEcRkv6Kmk=/0x0:6720x4480/1200x0/filters:focal(0x0:6720x4480):no_upscale()/cdn.vox-cdn.com/uploads/chorus_asset/file/19580440/MW_Vox_DutchHealthcare2019_66.jpg\">\n\n</source>\n\n      \n    \n    \n  \n  \n    \n      \n        <figcaption>Nurses answer the incoming calls at the general practitioner cooperative in Nijmegen. One night in early November, the call center was contacted by a man who said he was having suicidal thoughts.</figcaption></figure>\n\n<figure><source srcset=\"https://cdn.vox-cdn.com/thumbor/ONvySs-397LxVAb4CibV1slECJw=/0x0:6720x4480/320x0/filters:focal(0x0:6720x4480):format(webp):no_upscale()/cdn.vox-cdn.com/uploads/chorus_asset/file/19580441/MW_Vox_DutchHealthcare2019_5.jpg 320w, https://cdn.vox-cdn.com/thumbor/26xqHvC4iSzT6B9LXs8EfS_lrOA=/0x0:6720x4480/520x0/filters:focal(0x0:6720x4480):format(webp):no_upscale()/cdn.vox-cdn.com/uploads/chorus_asset/file/19580441/MW_Vox_DutchHealthcare2019_5.jpg 520w, https://cdn.vox-cdn.com/thumbor/AeaWeJidcbN69uf69XarrmcpXZw=/0x0:6720x4480/720x0/filters:focal(0x0:6720x4480):format(webp):no_upscale()/cdn.vox-cdn.com/uploads/chorus_asset/file/19580441/MW_Vox_DutchHealthcare2019_5.jpg 720w, https://cdn.vox-cdn.com/thumbor/kcIs_E2HQey8QbhSf9zHYrEbXh4=/0x0:6720x4480/920x0/filters:focal(0x0:6720x4480):format(webp):no_upscale()/cdn.vox-cdn.com/uploads/chorus_asset/file/19580441/MW_Vox_DutchHealthcare2019_5.jpg 920w, https://cdn.vox-cdn.com/thumbor/oHIVBfH_GWocSTzn-TO1iQakOYg=/0x0:6720x4480/1120x0/filters:focal(0x0:6720x4480):format(webp):no_upscale()/cdn.vox-cdn.com/uploads/chorus_asset/file/19580441/MW_Vox_DutchHealthcare2019_5.jpg 1120w, https://cdn.vox-cdn.com/thumbor/w4t71zDlk2Ci_XZB-te5PIVtA9Y=/0x0:6720x4480/1320x0/filters:focal(0x0:6720x4480):format(webp):no_upscale()/cdn.vox-cdn.com/uploads/chorus_asset/file/19580441/MW_Vox_DutchHealthcare2019_5.jpg 1320w, https://cdn.vox-cdn.com/thumbor/exQZtWZN9NV5Qh72MwgvQTZaer0=/0x0:6720x4480/1520x0/filters:focal(0x0:6720x4480):format(webp):no_upscale()/cdn.vox-cdn.com/uploads/chorus_asset/file/19580441/MW_Vox_DutchHealthcare2019_5.jpg 1520w, https://cdn.vox-cdn.com/thumbor/xFFwUSiDCl_dou9gwtwHBle2rd0=/0x0:6720x4480/1720x0/filters:focal(0x0:6720x4480):format(webp):no_upscale()/cdn.vox-cdn.com/uploads/chorus_asset/file/19580441/MW_Vox_DutchHealthcare2019_5.jpg 1720w, https://cdn.vox-cdn.com/thumbor/CKMQriUYa_XrJbLylf7a-196AzM=/0x0:6720x4480/1920x0/filters:focal(0x0:6720x4480):format(webp):no_upscale()/cdn.vox-cdn.com/uploads/chorus_asset/file/19580441/MW_Vox_DutchHealthcare2019_5.jpg 1920w\" sizes=\"(min-width: 1221px) 846px, (min-width: 880px) calc(100vw - 334px), 100vw\" type=\"image/webp\">\n\n\n<img srcset=\"https://cdn.vox-cdn.com/thumbor/SVjatQOs_PBjSguTZTvRQOteyfk=/0x0:6720x4480/320x0/filters:focal(0x0:6720x4480):no_upscale()/cdn.vox-cdn.com/uploads/chorus_asset/file/19580441/MW_Vox_DutchHealthcare2019_5.jpg 320w, https://cdn.vox-cdn.com/thumbor/gQzr4aM7iSjMr4zrcrCvEh1eazg=/0x0:6720x4480/520x0/filters:focal(0x0:6720x4480):no_upscale()/cdn.vox-cdn.com/uploads/chorus_asset/file/19580441/MW_Vox_DutchHealthcare2019_5.jpg 520w, https://cdn.vox-cdn.com/thumbor/2GMJukPF9HofADz6qHtujwTJJgg=/0x0:6720x4480/720x0/filters:focal(0x0:6720x4480):no_upscale()/cdn.vox-cdn.com/uploads/chorus_asset/file/19580441/MW_Vox_DutchHealthcare2019_5.jpg 720w, https://cdn.vox-cdn.com/thumbor/ujM6zH52fSbVKtHdH5P8StWqPK0=/0x0:6720x4480/920x0/filters:focal(0x0:6720x4480):no_upscale()/cdn.vox-cdn.com/uploads/chorus_asset/file/19580441/MW_Vox_DutchHealthcare2019_5.jpg 920w, https://cdn.vox-cdn.com/thumbor/KJC7Qj24uIO-iVEyCJP_Qykgebk=/0x0:6720x4480/1120x0/filters:focal(0x0:6720x4480):no_upscale()/cdn.vox-cdn.com/uploads/chorus_asset/file/19580441/MW_Vox_DutchHealthcare2019_5.jpg 1120w, https://cdn.vox-cdn.com/thumbor/Ic11B5uuZz7jome7J0rc1kXzlIs=/0x0:6720x4480/1320x0/filters:focal(0x0:6720x4480):no_upscale()/cdn.vox-cdn.com/uploads/chorus_asset/file/19580441/MW_Vox_DutchHealthcare2019_5.jpg 1320w, https://cdn.vox-cdn.com/thumbor/pCNopZ50zc0LH8eQ34ZhDQy2hO4=/0x0:6720x4480/1520x0/filters:focal(0x0:6720x4480):no_upscale()/cdn.vox-cdn.com/uploads/chorus_asset/file/19580441/MW_Vox_DutchHealthcare2019_5.jpg 1520w, https://cdn.vox-cdn.com/thumbor/M_7mPrOV6tEuLciFe_hhehqgzj8=/0x0:6720x4480/1720x0/filters:focal(0x0:6720x4480):no_upscale()/cdn.vox-cdn.com/uploads/chorus_asset/file/19580441/MW_Vox_DutchHealthcare2019_5.jpg 1720w, https://cdn.vox-cdn.com/thumbor/G45EMkXFk-yhuYUd9qrWNbudUA0=/0x0:6720x4480/1920x0/filters:focal(0x0:6720x4480):no_upscale()/cdn.vox-cdn.com/uploads/chorus_asset/file/19580441/MW_Vox_DutchHealthcare2019_5.jpg 1920w\" sizes=\"(min-width: 1221px) 846px, (min-width: 880px) calc(100vw - 334px), 100vw\" alt=\"\" data-upload-width=\"6720\" src=\"https://cdn.vox-cdn.com/thumbor/MiWrhwsc2CjfPyKhdswPA_Z1uhU=/0x0:6720x4480/1200x0/filters:focal(0x0:6720x4480):no_upscale()/cdn.vox-cdn.com/uploads/chorus_asset/file/19580441/MW_Vox_DutchHealthcare2019_5.jpg\">\n\n</source>\n\n      \n    \n    \n  \n  \n    \n      \n        <figcaption>Olaf van Oosterhout works at the 112 emergency call center in Nijmegen. The nurses there use a complex IT system to dispatch, track, and communicate with ambulances.</figcaption></figure>\n\n<p>Marlies Morsink, the physician overseeing the ER the day of our visit, says the cost incentives usually get through to the patients. Patients might have to pay up to a few hundred euros toward their deductible for an ER visit; visiting a general practitioner is free.</p>\n\n<p>“If you explain the financial benefit of going to the GP instead of being seen here, that usually does it because we’re still Dutch,” she says. “We have a health care system that is based on the GP as the gatekeeper. Let them do their thing. … You’re trying to teach them how our system works because if we want to keep our system affordable, the people have to follow the system.”</p>\n\n<p>The morning of our visit, the hallways feel quiet compared to the emergency departments I’ve seen in other countries (though Nijmegen is also a much smaller city than Melbourne or Taipei, the other cities I visited last fall). When a man is brought by ambulance from a motor accident, a trauma room is standing open for him.</p>\n\n<p>The ambulance service is another example of deliberate Dutch planning. Ambulances are positioned strategically throughout the area covered by the Nijmegen 112 call center (their version of 911) — the vehicles need to be able to reach any patient within 15 to 30 minutes. Dispatchers manage ambulances from the call center with an algorithmically driven computer program.</p>\n\n<p>Rural primary care clinics combine different services across the whole spectrum of care to a degree not often seen in the United States. Giesen takes me to visit his brother Aloys in the village of Dodewaard, home to about 4,500 people, a short drive from Nijmegen. Aloys and his wife, Ingrid, have practiced here for 30 years. Their house is 300 meters or so from the newish building where they work.</p>\n\n<figure><source srcset=\"https://cdn.vox-cdn.com/thumbor/MYAg2CzTgTlZAoc3NHt2Ic_0Og8=/0x0:6720x4480/320x0/filters:focal(0x0:6720x4480):format(webp):no_upscale()/cdn.vox-cdn.com/uploads/chorus_asset/file/19580348/MW_Vox_DutchHealthcare2019_32.jpg 320w, https://cdn.vox-cdn.com/thumbor/nrGvY_R1SQo45zPvLIZY2DG0uhM=/0x0:6720x4480/520x0/filters:focal(0x0:6720x4480):format(webp):no_upscale()/cdn.vox-cdn.com/uploads/chorus_asset/file/19580348/MW_Vox_DutchHealthcare2019_32.jpg 520w, https://cdn.vox-cdn.com/thumbor/sHORbN8Gr4UywHpgjXuS1ykMl7w=/0x0:6720x4480/720x0/filters:focal(0x0:6720x4480):format(webp):no_upscale()/cdn.vox-cdn.com/uploads/chorus_asset/file/19580348/MW_Vox_DutchHealthcare2019_32.jpg 720w, https://cdn.vox-cdn.com/thumbor/XsH7iQNtcrrxrqyJefddSfQq1vo=/0x0:6720x4480/920x0/filters:focal(0x0:6720x4480):format(webp):no_upscale()/cdn.vox-cdn.com/uploads/chorus_asset/file/19580348/MW_Vox_DutchHealthcare2019_32.jpg 920w, https://cdn.vox-cdn.com/thumbor/D3TxOcGOxARQ4zg9nOfGYTPUY5I=/0x0:6720x4480/1120x0/filters:focal(0x0:6720x4480):format(webp):no_upscale()/cdn.vox-cdn.com/uploads/chorus_asset/file/19580348/MW_Vox_DutchHealthcare2019_32.jpg 1120w, https://cdn.vox-cdn.com/thumbor/MirvrypDhAwdWh5OGxu4TT1vNvU=/0x0:6720x4480/1320x0/filters:focal(0x0:6720x4480):format(webp):no_upscale()/cdn.vox-cdn.com/uploads/chorus_asset/file/19580348/MW_Vox_DutchHealthcare2019_32.jpg 1320w, https://cdn.vox-cdn.com/thumbor/6rQ8QhM2FZBEpNnaqnTmNcV2DLI=/0x0:6720x4480/1520x0/filters:focal(0x0:6720x4480):format(webp):no_upscale()/cdn.vox-cdn.com/uploads/chorus_asset/file/19580348/MW_Vox_DutchHealthcare2019_32.jpg 1520w, https://cdn.vox-cdn.com/thumbor/9vjEswn4jcvN37kq9gOLXEf8-Y8=/0x0:6720x4480/1720x0/filters:focal(0x0:6720x4480):format(webp):no_upscale()/cdn.vox-cdn.com/uploads/chorus_asset/file/19580348/MW_Vox_DutchHealthcare2019_32.jpg 1720w, https://cdn.vox-cdn.com/thumbor/v0LxyD2vBOefEhzQzzTDaV_miwk=/0x0:6720x4480/1920x0/filters:focal(0x0:6720x4480):format(webp):no_upscale()/cdn.vox-cdn.com/uploads/chorus_asset/file/19580348/MW_Vox_DutchHealthcare2019_32.jpg 1920w\" sizes=\"(min-width: 1221px) 846px, (min-width: 880px) calc(100vw - 334px), 100vw\" type=\"image/webp\">\n\n\n<img srcset=\"https://cdn.vox-cdn.com/thumbor/eBsqbK80tiCMdi3OUad5Jac1vyQ=/0x0:6720x4480/320x0/filters:focal(0x0:6720x4480):no_upscale()/cdn.vox-cdn.com/uploads/chorus_asset/file/19580348/MW_Vox_DutchHealthcare2019_32.jpg 320w, https://cdn.vox-cdn.com/thumbor/PrrwlSCf-z8ZT7wRZv2O_fMVntU=/0x0:6720x4480/520x0/filters:focal(0x0:6720x4480):no_upscale()/cdn.vox-cdn.com/uploads/chorus_asset/file/19580348/MW_Vox_DutchHealthcare2019_32.jpg 520w, https://cdn.vox-cdn.com/thumbor/1UdLK3ONoDChbVaQas-SzdRghC0=/0x0:6720x4480/720x0/filters:focal(0x0:6720x4480):no_upscale()/cdn.vox-cdn.com/uploads/chorus_asset/file/19580348/MW_Vox_DutchHealthcare2019_32.jpg 720w, https://cdn.vox-cdn.com/thumbor/vxv-nJ0QWgxBGXK-ORK9HhFHr9Q=/0x0:6720x4480/920x0/filters:focal(0x0:6720x4480):no_upscale()/cdn.vox-cdn.com/uploads/chorus_asset/file/19580348/MW_Vox_DutchHealthcare2019_32.jpg 920w, https://cdn.vox-cdn.com/thumbor/SvBQ5zgxnYf7efGRAJeYIQIluyY=/0x0:6720x4480/1120x0/filters:focal(0x0:6720x4480):no_upscale()/cdn.vox-cdn.com/uploads/chorus_asset/file/19580348/MW_Vox_DutchHealthcare2019_32.jpg 1120w, https://cdn.vox-cdn.com/thumbor/F8dgBZwLp7CEKxHEGTm3nh6tVOI=/0x0:6720x4480/1320x0/filters:focal(0x0:6720x4480):no_upscale()/cdn.vox-cdn.com/uploads/chorus_asset/file/19580348/MW_Vox_DutchHealthcare2019_32.jpg 1320w, https://cdn.vox-cdn.com/thumbor/IUbAfcEFzNVesRJNY3kwrH9W-3g=/0x0:6720x4480/1520x0/filters:focal(0x0:6720x4480):no_upscale()/cdn.vox-cdn.com/uploads/chorus_asset/file/19580348/MW_Vox_DutchHealthcare2019_32.jpg 1520w, https://cdn.vox-cdn.com/thumbor/ieQAc8c7Um8dlEfKpDKklZcJig8=/0x0:6720x4480/1720x0/filters:focal(0x0:6720x4480):no_upscale()/cdn.vox-cdn.com/uploads/chorus_asset/file/19580348/MW_Vox_DutchHealthcare2019_32.jpg 1720w, https://cdn.vox-cdn.com/thumbor/jo_XrIr9v6lncR2rVOwywzK_ncs=/0x0:6720x4480/1920x0/filters:focal(0x0:6720x4480):no_upscale()/cdn.vox-cdn.com/uploads/chorus_asset/file/19580348/MW_Vox_DutchHealthcare2019_32.jpg 1920w\" sizes=\"(min-width: 1221px) 846px, (min-width: 880px) calc(100vw - 334px), 100vw\" alt=\"\" data-upload-width=\"6720\" src=\"https://cdn.vox-cdn.com/thumbor/am53gdI9lLHMCSQGxjcZYzqIsG4=/0x0:6720x4480/1200x0/filters:focal(0x0:6720x4480):no_upscale()/cdn.vox-cdn.com/uploads/chorus_asset/file/19580348/MW_Vox_DutchHealthcare2019_32.jpg\">\n\n</source>\n\n      \n    \n    \n  \n  \n    \n      \n        <figcaption>Aloys Giesen (left) and his brother Paul Giesen at Aloys’s family doctor practice in Dodewaard, a village of around 4,500 inhabitants about a 25-minute drive from Nijmegen.</figcaption></figure>\n\n<p>They share their office with a child psychologist, an adult psychologist, a speech therapist, a social worker, and a nurse specializing in lifestyle advice — diet and exercise to manage diabetes, for example — all within just a few feet of one another. They do team art projects to foster a better sense of collaboration and cooperation. Aloys and Ingrid will do home visits during office hours, to visit the elderly and disabled patients on their rosters. They share co-op responsibilities with doctors from neighboring villages.</p>\n\n<p>“Before, it was more individualistic, and now it’s more teamwork. That’s the development in the Netherlands in health care,” Giesen says.</p>\n\n<p>“Together,” he continues, his brother joining in unison, “makes stronger.”</p>\n\n<h2>The Netherlands does have problems: Doctors feel a lot of pressure, and costs can be high</h2>\n\n<p>There is still an underlying tension in the Netherlands between competition and collaboration, and changes to the country’s health care system have often been contentious.</p>\n\n<p>On May 2, 2001, almost every Dutch doctor went on strike for three days day because the government was refusing to provide support for the after-hours program despite pleas from its originator Giesen and others about the necessity of preventing burnout among their peers.</p>\n\n<p>So the doctors sent all their patients to the emergency department instead, and physicians protested in the streets of the Hague. It took less than 72 hours for the government to relent, as emergency rooms across the country quickly became overcrowded.</p>\n\n<p>Although the Dutch pride themselves on solidarity and collaboration, sometimes dramatic action has been necessary to make desperately needed improvements to the health care system.</p>\n\n<p>“Sometimes, we need for change a revolution,” Giesen says. “We said it’s for the whole community. It’s very important. Nowadays, people are very satisfied.”</p>\n\n<p>In the Netherlands, the status quo can be a powerful force against change, just as it is in the United States. And there is more work to be done.</p>\n\n<p>Though the Netherlands enjoys some of the best health access in the world, problems persist. Everybody I spoke with agreed on that. The point of contention was whether they are smaller problems in need of targeted fixes or more fundamental flaws in the managed competition model.</p>\n\n<p>“The consequences of managed competition — there’s no debate, everybody just accepts it,” says Gijs van Loef, a health care consultant and sociologist who has become <a href=\"https://www.skipr.nl/author/gijsvanloefskipr-nl/\">a prominent critic</a> of his country’s health care. “But the Dutch health care system has fallen off its pedestal.”</p>\n\n<p>Primary care doctors in the Netherlands deal with a lot of churn: They see patients <a href=\"https://bmjopen.bmj.com/content/7/10/e017902\">for 10 minutes on average</a>, less than half the time American patients usually get to spend with their doctor, and a shorter consultation than most other Western European doctors enjoy. And they’re taking on more of the workload from specialists. Patients must get a referral from a general practitioner before they see a specialist or it won’t be covered, a change from the pre-reform era (and generally considered more cost-effective).</p>\n\n<p>Ingrid and her husband used to deliver babies sometimes, a tradition they treasured, but they have stopped because they don’t have time.</p>\n\n<p>“We have much more medical problems and we don’t have time anymore to do the primary health care for mother and child,” Ingrid says. “We have much more things to do in our practice nowadays, so we don’t have room or time for extra tasks.”</p>\n\n<figure><source srcset=\"https://cdn.vox-cdn.com/thumbor/aJ5uX6Sdrp6lFVj45Jscj9t4RE8=/0x0:6426x4284/320x0/filters:focal(0x0:6426x4284):format(webp):no_upscale()/cdn.vox-cdn.com/uploads/chorus_asset/file/19580493/MW_Vox_DutchHealthcare2019_160.jpg 320w, https://cdn.vox-cdn.com/thumbor/oYmAVQgz9FEks_jYLrhU2HmsStI=/0x0:6426x4284/520x0/filters:focal(0x0:6426x4284):format(webp):no_upscale()/cdn.vox-cdn.com/uploads/chorus_asset/file/19580493/MW_Vox_DutchHealthcare2019_160.jpg 520w, https://cdn.vox-cdn.com/thumbor/ycxJpXkXFh8AY2r5LIUCjI-wM4A=/0x0:6426x4284/720x0/filters:focal(0x0:6426x4284):format(webp):no_upscale()/cdn.vox-cdn.com/uploads/chorus_asset/file/19580493/MW_Vox_DutchHealthcare2019_160.jpg 720w, https://cdn.vox-cdn.com/thumbor/jQwAjWHT7alI9EFfsBTtqySd5dE=/0x0:6426x4284/920x0/filters:focal(0x0:6426x4284):format(webp):no_upscale()/cdn.vox-cdn.com/uploads/chorus_asset/file/19580493/MW_Vox_DutchHealthcare2019_160.jpg 920w, https://cdn.vox-cdn.com/thumbor/zB9s1BYkQH0m44G9RcgmVmuvW6Q=/0x0:6426x4284/1120x0/filters:focal(0x0:6426x4284):format(webp):no_upscale()/cdn.vox-cdn.com/uploads/chorus_asset/file/19580493/MW_Vox_DutchHealthcare2019_160.jpg 1120w, https://cdn.vox-cdn.com/thumbor/OS7OCfjcINYGSHWk28E_x49HXBE=/0x0:6426x4284/1320x0/filters:focal(0x0:6426x4284):format(webp):no_upscale()/cdn.vox-cdn.com/uploads/chorus_asset/file/19580493/MW_Vox_DutchHealthcare2019_160.jpg 1320w, https://cdn.vox-cdn.com/thumbor/kXQh6omK3Q80mzVDh6H6G_0rfvU=/0x0:6426x4284/1520x0/filters:focal(0x0:6426x4284):format(webp):no_upscale()/cdn.vox-cdn.com/uploads/chorus_asset/file/19580493/MW_Vox_DutchHealthcare2019_160.jpg 1520w, https://cdn.vox-cdn.com/thumbor/1LQ-avxjqV-SZ-E61dfmviaqhAo=/0x0:6426x4284/1720x0/filters:focal(0x0:6426x4284):format(webp):no_upscale()/cdn.vox-cdn.com/uploads/chorus_asset/file/19580493/MW_Vox_DutchHealthcare2019_160.jpg 1720w, https://cdn.vox-cdn.com/thumbor/U6a1vYC4uaBXD5XocFNO9zd7EjE=/0x0:6426x4284/1920x0/filters:focal(0x0:6426x4284):format(webp):no_upscale()/cdn.vox-cdn.com/uploads/chorus_asset/file/19580493/MW_Vox_DutchHealthcare2019_160.jpg 1920w\" sizes=\"90vw\" type=\"image/webp\">\n\n\n<img srcset=\"https://cdn.vox-cdn.com/thumbor/rw-cwQqGoMdJ-f8mzLV81r2XK3Q=/0x0:6426x4284/320x0/filters:focal(0x0:6426x4284):no_upscale()/cdn.vox-cdn.com/uploads/chorus_asset/file/19580493/MW_Vox_DutchHealthcare2019_160.jpg 320w, https://cdn.vox-cdn.com/thumbor/MtrQ6Su--cDJ0EIKurPPnyfrBXA=/0x0:6426x4284/520x0/filters:focal(0x0:6426x4284):no_upscale()/cdn.vox-cdn.com/uploads/chorus_asset/file/19580493/MW_Vox_DutchHealthcare2019_160.jpg 520w, https://cdn.vox-cdn.com/thumbor/RxjrlZvsuNE2Dllzwn4-v4G6WCM=/0x0:6426x4284/720x0/filters:focal(0x0:6426x4284):no_upscale()/cdn.vox-cdn.com/uploads/chorus_asset/file/19580493/MW_Vox_DutchHealthcare2019_160.jpg 720w, https://cdn.vox-cdn.com/thumbor/rRa-KEdZNaBDGZJfBobyk0yoWL0=/0x0:6426x4284/920x0/filters:focal(0x0:6426x4284):no_upscale()/cdn.vox-cdn.com/uploads/chorus_asset/file/19580493/MW_Vox_DutchHealthcare2019_160.jpg 920w, https://cdn.vox-cdn.com/thumbor/EIhekvdN8FVjjcSv4MkeZtoPnPQ=/0x0:6426x4284/1120x0/filters:focal(0x0:6426x4284):no_upscale()/cdn.vox-cdn.com/uploads/chorus_asset/file/19580493/MW_Vox_DutchHealthcare2019_160.jpg 1120w, https://cdn.vox-cdn.com/thumbor/qwM30ZG9_guU93PmPe4bzIaMJW0=/0x0:6426x4284/1320x0/filters:focal(0x0:6426x4284):no_upscale()/cdn.vox-cdn.com/uploads/chorus_asset/file/19580493/MW_Vox_DutchHealthcare2019_160.jpg 1320w, https://cdn.vox-cdn.com/thumbor/QtVbjg-3a5IoZF4iucplGNoURtQ=/0x0:6426x4284/1520x0/filters:focal(0x0:6426x4284):no_upscale()/cdn.vox-cdn.com/uploads/chorus_asset/file/19580493/MW_Vox_DutchHealthcare2019_160.jpg 1520w, https://cdn.vox-cdn.com/thumbor/E2rZVs9E-WaY1oJHx8dYc5Nqk4s=/0x0:6426x4284/1720x0/filters:focal(0x0:6426x4284):no_upscale()/cdn.vox-cdn.com/uploads/chorus_asset/file/19580493/MW_Vox_DutchHealthcare2019_160.jpg 1720w, https://cdn.vox-cdn.com/thumbor/kLhcI0IK8iWPnJfZGfpz2MECmZM=/0x0:6426x4284/1920x0/filters:focal(0x0:6426x4284):no_upscale()/cdn.vox-cdn.com/uploads/chorus_asset/file/19580493/MW_Vox_DutchHealthcare2019_160.jpg 1920w\" sizes=\"90vw\" alt=\"\" data-upload-width=\"6426\" src=\"https://cdn.vox-cdn.com/thumbor/1R46msH6aM1OJpgfMoBsmqqD5r4=/0x0:6426x4284/1200x0/filters:focal(0x0:6426x4284):no_upscale()/cdn.vox-cdn.com/uploads/chorus_asset/file/19580493/MW_Vox_DutchHealthcare2019_160.jpg\">\n\n</source>\n\n      \n    \n    \n  \n  \n    \n      \n        <figcaption>Aloys Giesen, a family doctor from Dodewaard, visits Heintje, who is 90 years old and lives by herself in an old farmhouse. She has arthritis and has experienced heart failure.</figcaption></figure>\n\n<figure><source srcset=\"https://cdn.vox-cdn.com/thumbor/N_k0FDOyY6T6MOqZwA7l5NAEEP4=/0x0:6720x4480/320x0/filters:focal(0x0:6720x4480):format(webp):no_upscale()/cdn.vox-cdn.com/uploads/chorus_asset/file/19580494/MW_Vox_DutchHealthcare2019_133.jpg 320w, https://cdn.vox-cdn.com/thumbor/Ah91yIM2G_btWzcHPsY_j5EUJiw=/0x0:6720x4480/520x0/filters:focal(0x0:6720x4480):format(webp):no_upscale()/cdn.vox-cdn.com/uploads/chorus_asset/file/19580494/MW_Vox_DutchHealthcare2019_133.jpg 520w, https://cdn.vox-cdn.com/thumbor/SdGbekF7mtF6MUo64Iy3VVmpLpo=/0x0:6720x4480/720x0/filters:focal(0x0:6720x4480):format(webp):no_upscale()/cdn.vox-cdn.com/uploads/chorus_asset/file/19580494/MW_Vox_DutchHealthcare2019_133.jpg 720w, https://cdn.vox-cdn.com/thumbor/0ZWJoqqW20OdEupLlJMAOtyWK8M=/0x0:6720x4480/920x0/filters:focal(0x0:6720x4480):format(webp):no_upscale()/cdn.vox-cdn.com/uploads/chorus_asset/file/19580494/MW_Vox_DutchHealthcare2019_133.jpg 920w, https://cdn.vox-cdn.com/thumbor/ii18Gp5SAMw6qDZvkLpNGUp9Kc8=/0x0:6720x4480/1120x0/filters:focal(0x0:6720x4480):format(webp):no_upscale()/cdn.vox-cdn.com/uploads/chorus_asset/file/19580494/MW_Vox_DutchHealthcare2019_133.jpg 1120w, https://cdn.vox-cdn.com/thumbor/fHQKkAnIsGj_YisB81K2uZdOAus=/0x0:6720x4480/1320x0/filters:focal(0x0:6720x4480):format(webp):no_upscale()/cdn.vox-cdn.com/uploads/chorus_asset/file/19580494/MW_Vox_DutchHealthcare2019_133.jpg 1320w, https://cdn.vox-cdn.com/thumbor/UCOAVSJtpW6CMHsGJs0DIA5RKw8=/0x0:6720x4480/1520x0/filters:focal(0x0:6720x4480):format(webp):no_upscale()/cdn.vox-cdn.com/uploads/chorus_asset/file/19580494/MW_Vox_DutchHealthcare2019_133.jpg 1520w, https://cdn.vox-cdn.com/thumbor/N4lr9JK_dRRBLERyT2zyqpUForQ=/0x0:6720x4480/1720x0/filters:focal(0x0:6720x4480):format(webp):no_upscale()/cdn.vox-cdn.com/uploads/chorus_asset/file/19580494/MW_Vox_DutchHealthcare2019_133.jpg 1720w, https://cdn.vox-cdn.com/thumbor/T8oM9iz8sWQDBNKWbmtRbu_43AQ=/0x0:6720x4480/1920x0/filters:focal(0x0:6720x4480):format(webp):no_upscale()/cdn.vox-cdn.com/uploads/chorus_asset/file/19580494/MW_Vox_DutchHealthcare2019_133.jpg 1920w\" sizes=\"(min-width: 1221px) 846px, (min-width: 880px) calc(100vw - 334px), 100vw\" type=\"image/webp\">\n\n\n<img srcset=\"https://cdn.vox-cdn.com/thumbor/zT8Y9ZhrbFrDhYqzExYvcJc8NjY=/0x0:6720x4480/320x0/filters:focal(0x0:6720x4480):no_upscale()/cdn.vox-cdn.com/uploads/chorus_asset/file/19580494/MW_Vox_DutchHealthcare2019_133.jpg 320w, https://cdn.vox-cdn.com/thumbor/l50T-Ze10YGVQXW4kUWxdIrUBW8=/0x0:6720x4480/520x0/filters:focal(0x0:6720x4480):no_upscale()/cdn.vox-cdn.com/uploads/chorus_asset/file/19580494/MW_Vox_DutchHealthcare2019_133.jpg 520w, https://cdn.vox-cdn.com/thumbor/PYDL_YfxrNR8_2sPhXFpCdAlY-Q=/0x0:6720x4480/720x0/filters:focal(0x0:6720x4480):no_upscale()/cdn.vox-cdn.com/uploads/chorus_asset/file/19580494/MW_Vox_DutchHealthcare2019_133.jpg 720w, https://cdn.vox-cdn.com/thumbor/5aekFpuQ8AZOotVGqt0iVEaYYD0=/0x0:6720x4480/920x0/filters:focal(0x0:6720x4480):no_upscale()/cdn.vox-cdn.com/uploads/chorus_asset/file/19580494/MW_Vox_DutchHealthcare2019_133.jpg 920w, https://cdn.vox-cdn.com/thumbor/xBBwOjYPA5yqgp2tbnnn-f9wI1M=/0x0:6720x4480/1120x0/filters:focal(0x0:6720x4480):no_upscale()/cdn.vox-cdn.com/uploads/chorus_asset/file/19580494/MW_Vox_DutchHealthcare2019_133.jpg 1120w, https://cdn.vox-cdn.com/thumbor/eJYGHwxXwlKDNsmcp23cp1b6b5I=/0x0:6720x4480/1320x0/filters:focal(0x0:6720x4480):no_upscale()/cdn.vox-cdn.com/uploads/chorus_asset/file/19580494/MW_Vox_DutchHealthcare2019_133.jpg 1320w, https://cdn.vox-cdn.com/thumbor/BR0_9WcK9yWVr_vSZoOWejx0vT8=/0x0:6720x4480/1520x0/filters:focal(0x0:6720x4480):no_upscale()/cdn.vox-cdn.com/uploads/chorus_asset/file/19580494/MW_Vox_DutchHealthcare2019_133.jpg 1520w, https://cdn.vox-cdn.com/thumbor/ZMRsbNi2YOjPOlR03e5jJ20phK0=/0x0:6720x4480/1720x0/filters:focal(0x0:6720x4480):no_upscale()/cdn.vox-cdn.com/uploads/chorus_asset/file/19580494/MW_Vox_DutchHealthcare2019_133.jpg 1720w, https://cdn.vox-cdn.com/thumbor/gtG4nHyw2wEwjIHzLI4HmPpBSaY=/0x0:6720x4480/1920x0/filters:focal(0x0:6720x4480):no_upscale()/cdn.vox-cdn.com/uploads/chorus_asset/file/19580494/MW_Vox_DutchHealthcare2019_133.jpg 1920w\" sizes=\"(min-width: 1221px) 846px, (min-width: 880px) calc(100vw - 334px), 100vw\" alt=\"\" data-upload-width=\"6720\" src=\"https://cdn.vox-cdn.com/thumbor/lwKfi-qy568qygt4gexuusNpVyI=/0x0:6720x4480/1200x0/filters:focal(0x0:6720x4480):no_upscale()/cdn.vox-cdn.com/uploads/chorus_asset/file/19580494/MW_Vox_DutchHealthcare2019_133.jpg\">\n\n</source>\n\n      \n    \n    \n  \n  \n    \n      \n        <figcaption>Aloys makes a home visit for Jan and Janna, who are both in their 90s. Jan, front, has dementia; Janna must be treated for heart failure.</figcaption></figure>\n\n<figure><source srcset=\"https://cdn.vox-cdn.com/thumbor/3Uynvb4mWmhY0Q_qeqmPbW2Nwvc=/0x0:6262x4175/320x0/filters:focal(0x0:6262x4175):format(webp):no_upscale()/cdn.vox-cdn.com/uploads/chorus_asset/file/19580496/MW_Vox_DutchHealthcare2019_123.jpg 320w, https://cdn.vox-cdn.com/thumbor/yITt4sKiukcSorW1MK1CbT4U6SI=/0x0:6262x4175/520x0/filters:focal(0x0:6262x4175):format(webp):no_upscale()/cdn.vox-cdn.com/uploads/chorus_asset/file/19580496/MW_Vox_DutchHealthcare2019_123.jpg 520w, https://cdn.vox-cdn.com/thumbor/BwCYRjJxFVrKy3wDPCuIrhoLMws=/0x0:6262x4175/720x0/filters:focal(0x0:6262x4175):format(webp):no_upscale()/cdn.vox-cdn.com/uploads/chorus_asset/file/19580496/MW_Vox_DutchHealthcare2019_123.jpg 720w, https://cdn.vox-cdn.com/thumbor/Tb7C3P6asPtH9kUUQlSXnrYGkRE=/0x0:6262x4175/920x0/filters:focal(0x0:6262x4175):format(webp):no_upscale()/cdn.vox-cdn.com/uploads/chorus_asset/file/19580496/MW_Vox_DutchHealthcare2019_123.jpg 920w, https://cdn.vox-cdn.com/thumbor/gO_gkyF0hBOKYH8pm3IrtPUtQgI=/0x0:6262x4175/1120x0/filters:focal(0x0:6262x4175):format(webp):no_upscale()/cdn.vox-cdn.com/uploads/chorus_asset/file/19580496/MW_Vox_DutchHealthcare2019_123.jpg 1120w, https://cdn.vox-cdn.com/thumbor/x37B7c59L6ZO6vObvDKlQ2KEEdo=/0x0:6262x4175/1320x0/filters:focal(0x0:6262x4175):format(webp):no_upscale()/cdn.vox-cdn.com/uploads/chorus_asset/file/19580496/MW_Vox_DutchHealthcare2019_123.jpg 1320w, https://cdn.vox-cdn.com/thumbor/giycuVX579zb3I7Zb_ALZplOPRI=/0x0:6262x4175/1520x0/filters:focal(0x0:6262x4175):format(webp):no_upscale()/cdn.vox-cdn.com/uploads/chorus_asset/file/19580496/MW_Vox_DutchHealthcare2019_123.jpg 1520w, https://cdn.vox-cdn.com/thumbor/s92_rHonSGNmrjBpdMmu0_5nUtI=/0x0:6262x4175/1720x0/filters:focal(0x0:6262x4175):format(webp):no_upscale()/cdn.vox-cdn.com/uploads/chorus_asset/file/19580496/MW_Vox_DutchHealthcare2019_123.jpg 1720w, https://cdn.vox-cdn.com/thumbor/fDnDUQagzt1RFLmUnMsrdP2xDP8=/0x0:6262x4175/1920x0/filters:focal(0x0:6262x4175):format(webp):no_upscale()/cdn.vox-cdn.com/uploads/chorus_asset/file/19580496/MW_Vox_DutchHealthcare2019_123.jpg 1920w\" sizes=\"(min-width: 1221px) 846px, (min-width: 880px) calc(100vw - 334px), 100vw\" type=\"image/webp\">\n\n\n<img srcset=\"https://cdn.vox-cdn.com/thumbor/RGKu_Nd_n5Z_h2nMq6HJR6NCOb4=/0x0:6262x4175/320x0/filters:focal(0x0:6262x4175):no_upscale()/cdn.vox-cdn.com/uploads/chorus_asset/file/19580496/MW_Vox_DutchHealthcare2019_123.jpg 320w, https://cdn.vox-cdn.com/thumbor/QhAg6ozeW9UzXQ4hptbuyNSEVZc=/0x0:6262x4175/520x0/filters:focal(0x0:6262x4175):no_upscale()/cdn.vox-cdn.com/uploads/chorus_asset/file/19580496/MW_Vox_DutchHealthcare2019_123.jpg 520w, https://cdn.vox-cdn.com/thumbor/4Ze0UMqfEXeKPFA3Ec1itIgfa4g=/0x0:6262x4175/720x0/filters:focal(0x0:6262x4175):no_upscale()/cdn.vox-cdn.com/uploads/chorus_asset/file/19580496/MW_Vox_DutchHealthcare2019_123.jpg 720w, https://cdn.vox-cdn.com/thumbor/1DhngNXQSzoSL5UaHP_LyR2jrz8=/0x0:6262x4175/920x0/filters:focal(0x0:6262x4175):no_upscale()/cdn.vox-cdn.com/uploads/chorus_asset/file/19580496/MW_Vox_DutchHealthcare2019_123.jpg 920w, https://cdn.vox-cdn.com/thumbor/Tq63ebSR3-jdY27POamSJLuNG-Q=/0x0:6262x4175/1120x0/filters:focal(0x0:6262x4175):no_upscale()/cdn.vox-cdn.com/uploads/chorus_asset/file/19580496/MW_Vox_DutchHealthcare2019_123.jpg 1120w, https://cdn.vox-cdn.com/thumbor/ZIFO-CijPflvY6yGRU3Xe8yaQeU=/0x0:6262x4175/1320x0/filters:focal(0x0:6262x4175):no_upscale()/cdn.vox-cdn.com/uploads/chorus_asset/file/19580496/MW_Vox_DutchHealthcare2019_123.jpg 1320w, https://cdn.vox-cdn.com/thumbor/mSwuzBnfqzjJgY-XaAiFKof6h1g=/0x0:6262x4175/1520x0/filters:focal(0x0:6262x4175):no_upscale()/cdn.vox-cdn.com/uploads/chorus_asset/file/19580496/MW_Vox_DutchHealthcare2019_123.jpg 1520w, https://cdn.vox-cdn.com/thumbor/hPFOwqoyroHj1Xg-dG4kKtitO6Y=/0x0:6262x4175/1720x0/filters:focal(0x0:6262x4175):no_upscale()/cdn.vox-cdn.com/uploads/chorus_asset/file/19580496/MW_Vox_DutchHealthcare2019_123.jpg 1720w, https://cdn.vox-cdn.com/thumbor/0oZRMeiLSp0BLkXrG9hOBypG-aM=/0x0:6262x4175/1920x0/filters:focal(0x0:6262x4175):no_upscale()/cdn.vox-cdn.com/uploads/chorus_asset/file/19580496/MW_Vox_DutchHealthcare2019_123.jpg 1920w\" sizes=\"(min-width: 1221px) 846px, (min-width: 880px) calc(100vw - 334px), 100vw\" alt=\"\" data-upload-width=\"6262\" src=\"https://cdn.vox-cdn.com/thumbor/ZE2_GXPgYkAyv0efMRv0_F2puDY=/0x0:6262x4175/1200x0/filters:focal(0x0:6262x4175):no_upscale()/cdn.vox-cdn.com/uploads/chorus_asset/file/19580496/MW_Vox_DutchHealthcare2019_123.jpg\">\n\n</source>\n\n      \n    \n    \n  \n  \n    \n      \n        <figcaption>Dutch patients have exceptional access to home care, including for treatment outside of regular business hours, compared to patients in other countries.</figcaption></figure>\n\n<p>Giesen, generally a cheerleader for the system, acknowledged the country was probably underpaying general practitioners relative to their importance in the Dutch health care ecosystem. They <a href=\"https://stats.oecd.org/Index.aspx?DataSetCode=SHA\">make</a> about $120,400 on average, compared to the $211,800 an average US primary care doctor <a href=\"https://www.bls.gov/oes/current/oes291062.htm\">makes</a>.</p>\n\n<p>The Dutch also have to deal with the problems of private insurance, even if theirs are of a smaller scale than what American patients sometimes face.</p>\n\n<p>First, costs to patients are going up. Premiums have been increasing steadily, faster than wages. That has left the lower middle class in particular paying more of their income toward health care than in the years before. They receive assistance from the government, but it hasn’t been growing enough to keep up with rising rates.</p>\n\n<p>The deductibles required under the Dutch model can also be burdensome for people in poverty, though some cities have set up programs that cover health insurance for those people with no cost-sharing. Doctors in the Netherlands <a href=\"https://www.commonwealthfund.org/sites/default/files/documents/___media_files_publications_fund_report_2017_jul_schneider_mirror_mirror_2017_appendices.pdf\">are much more likely</a> than doctors in other European countries to say patients struggle to pay their out-of-pocket costs. There are arguably more inequities in the Netherlands than you see in systems with one national health insurance plan.</p>\n\n<p>“If you look at low-income people, obviously, if you would have a national health service, they probably would be at least theoretically better off,” Jeurissen says.</p>\n\n<p>Health care spending here has become <a href=\"https://www.statista.com/statistics/576000/total-health-expenditure-as-share-of-gdp-in-the-netherlands/\">a much bigger share of GDP</a> since the switch to private insurance, though the growth has eased since the 2012 switch to global budgets. There is a fledgling critique from the left and others in the Netherlands arguing that managed competition will ultimately drive costs up while having a marginal or even deleterious effect on quality.</p>\n\n<p>Gijs van Loef is a proponent of this view. He argues that managed competition is an oxymoron — that market competition and social collaboration are fundamentally at odds. He cites those rising costs and the Netherlands’ middling performance on life expectancy compared to its European peers. Is this what people are paying for?</p>\n\n<p>“The concept of managed competition doesn’t work,” van Loef says. “My fundamental critique is collaboration and competition, at the operational level and system level, don’t really fit together.”</p>\n\n<p>He points to the amount of bureaucracy required to manage all of the private entities that make up Dutch health care. <a href=\"https://www.commonwealthfund.org/sites/default/files/documents/___media_files_publications_fund_report_2017_jul_schneider_mirror_mirror_2017_appendices.pdf\">Survey data from the Commonwealth Fund</a> shows that Dutch doctors are more likely than physicians in most other European countries to say that dealing with insurance claims or having to report data to the government is a major problem. Dutch hospitals spend <a href=\"https://www.healthaffairs.org/doi/full/10.1377/hlthaff.2013.1327\">20 percent</a> of their budgets on administration — less than the United States, but more than the United Kingdom or Canada, which have public health insurance.</p>\n\n<h2>Harnessing the market to achieve universal coverage and better care</h2>\n\n<p>The Dutch system is, like all other health systems, a product of its country’s history. A conservative government wanted private markets to provide health insurance to its people. They wanted competition but they also wanted collaboration. That was the ethos of managed competition.</p>\n\n<p>The Netherlands has set up a system built on market precepts that outpaces most others in the world when it comes to the quality of its health care. But there are concerns about the cost Dutch patients are asked to pay, compared to people in more socialized systems.</p>\n\n<p>“I would never, never recommend that a country that has single-payer all of a sudden introduce multi-payer competition,” Ewout van Ginneken, a health researcher in Berlin who has studied the Dutch and other European health systems, says.</p>\n\n<p>But the collaborative spirit does persist here, even with private insurance. That’s most apparent in the after-hours program, a success story that has led to better health care and happier patients. After-hours care is a problem that few countries have succeeded in cracking. Even in highly developed economies, half of patients or more will say they have trouble seeing a doctor outside of regular business hours. But it’s a problem the Dutch appear to have solved.</p>\n\n<p>Back in Nijmegen, Dr. Nillesen is a living example of that collaboration. After her third call for the night, the terminal cancer patient with an unusual reaction to her chemotherapy, it seems like Nillesen might finally catch a break. But it’s not to be. The fourth call comes over the radio. She’s off again, racing to the next patient who needs her.</p>\n\n<p><a href=\"https://www.instagram.com/marlenawaldthausen/\"><em><strong>Marlena Waldthausen</strong></em></a><em> is</em> <em>a German editorial photographer based in Berlin and Amsterdam. Her work explores human bonds and gender issues.</em></p>\n\n</article>"
     },
     "metadata": {},
     "output_type": "execute_result",
     "execution_count": 10
    }
   ],
   "source": [
    "url = \"https://www.vox.com/policy-and-politics/2020/1/17/21046874/netherlands-universal-health-insurance-private\"\n",
    "\n",
    "article = autoextract_article(url)\n",
    "show(article)"
   ],
   "metadata": {
    "collapsed": false,
    "pycharm": {
     "name": "#%%\n",
     "is_executing": false
    }
   }
  },
  {
   "cell_type": "code",
   "execution_count": null,
   "outputs": [],
   "source": [
    "\n"
   ],
   "metadata": {
    "collapsed": false,
    "pycharm": {
     "name": "#%%\n"
    }
   }
  }
 ],
 "metadata": {
  "kernelspec": {
   "display_name": "Python 3",
   "language": "python",
   "name": "python3"
  },
  "language_info": {
   "codemirror_mode": {
    "name": "ipython",
    "version": 3
   },
   "file_extension": ".py",
   "mimetype": "text/x-python",
   "name": "python",
   "nbconvert_exporter": "python",
   "pygments_lexer": "ipython3",
   "version": "3.6.9"
  },
  "pycharm": {
   "stem_cell": {
    "cell_type": "raw",
    "source": [],
    "metadata": {
     "collapsed": false
    }
   }
  }
 },
 "nbformat": 4,
 "nbformat_minor": 1
}